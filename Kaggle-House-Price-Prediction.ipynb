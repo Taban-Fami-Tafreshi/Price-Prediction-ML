{
 "cells": [
  {
   "cell_type": "markdown",
   "id": "344c3676-204c-433a-a7df-695cc17b8ccf",
   "metadata": {},
   "source": [
    "# Project: House Prices"
   ]
  },
  {
   "cell_type": "markdown",
   "id": "f9dc92eb-1ecd-4a05-97a3-3433e56ac257",
   "metadata": {},
   "source": [
    "#### Goal: Apply  analytics to predict the sales price for each house. For each Id in the test set,  must predict the value of the SalePrice variable. "
   ]
  },
  {
   "cell_type": "markdown",
   "id": "f026cfbb-4b7a-4121-9a06-431ef0d4a9d3",
   "metadata": {},
   "source": [
    "## Initial Setup"
   ]
  },
  {
   "cell_type": "code",
   "execution_count": null,
   "id": "d97940d3-cc34-45db-adc4-96bcd3444f15",
   "metadata": {},
   "outputs": [],
   "source": [
    "# Required libraries\n",
    "%pip install numpy\n",
    "%pip install pandas\n",
    "%pip install matplotlib.pyplot\n",
    "%pip install statsmodels.api\n",
    "\n",
    "    \n",
    "import numpy as np\n",
    "import pandas as pd\n",
    "import matplotlib.pyplot as plt\n",
    "import statsmodels.api as sm\n",
    "import seaborn as sns"
   ]
  },
  {
   "cell_type": "code",
   "execution_count": null,
   "id": "969a77b1-6a65-4edd-a6b5-540bc76597b7",
   "metadata": {},
   "outputs": [],
   "source": [
    "#Read data from file\n",
    "data=pd.read_csv('train.csv')\n",
    "data.head(5)"
   ]
  },
  {
   "cell_type": "code",
   "execution_count": null,
   "id": "5284eed7-ab2b-4404-97cf-a467ba04bb1e",
   "metadata": {},
   "outputs": [],
   "source": [
    "data.shape"
   ]
  },
  {
   "cell_type": "markdown",
   "id": "94031915-a1dc-43fa-bdf8-d39b3a76421d",
   "metadata": {},
   "source": [
    "# Exploratory Data Analysis Check List"
   ]
  },
  {
   "cell_type": "markdown",
   "id": "6f1b924d-129f-4cfd-870a-a732678946b5",
   "metadata": {},
   "source": [
    "#### 1: Understand data collection process\n",
    "\n",
    "#### 2: Document data set description (meta data)\n",
    "\n",
    "#### 3: Check for missing values\n",
    "\n",
    "#### 4: Univariate data analysis\n",
    "\n",
    "#### 5: Bivariate data analysis\n",
    "\n",
    "#### 6: Inferential Statistics (optional)"
   ]
  },
  {
   "cell_type": "markdown",
   "id": "943c20d8-0d92-4649-92c0-5da07308fec0",
   "metadata": {},
   "source": [
    "# Data understanding- Phase1 \n",
    "\n",
    "### 1: Understand data collection process"
   ]
  },
  {
   "cell_type": "markdown",
   "id": "c94a5820-14d8-4202-a84b-104d32548c15",
   "metadata": {},
   "source": [
    "#### Ref:Anna Montoya, DataCanary. (2016). House Prices - Advanced Regression Techniques. Kaggle. https://kaggle.com/competitions/house-prices-advanced-regression-techniques\n"
   ]
  },
  {
   "cell_type": "markdown",
   "id": "e317130f-8194-416b-a261-730876f14120",
   "metadata": {},
   "source": [
    "### 2: Document Data Set Description (Meta Data)"
   ]
  },
  {
   "cell_type": "code",
   "execution_count": null,
   "id": "0be7df64-54af-4c3f-b62b-4d07cd35e9bc",
   "metadata": {},
   "outputs": [],
   "source": [
    "data.info()"
   ]
  },
  {
   "cell_type": "markdown",
   "id": "a0ca9ecc-e477-41d1-8b5d-417d6b99f117",
   "metadata": {},
   "source": [
    "### 3: Check for Missing Values"
   ]
  },
  {
   "cell_type": "code",
   "execution_count": null,
   "id": "728c265d-b969-4871-8287-0877153cfceb",
   "metadata": {},
   "outputs": [],
   "source": [
    "#Step 1: Determine the type of MVs\n",
    "#Know the cause\n",
    "np.sum(data.isnull())"
   ]
  },
  {
   "cell_type": "code",
   "execution_count": null,
   "id": "e2d58c59-43b7-4c17-8e9a-0996259f8b5d",
   "metadata": {
    "scrolled": true
   },
   "outputs": [],
   "source": [
    "# Step 2: Determine the extent of MVs\n",
    "# Summary of MVs in each column\n",
    "mvs_summary = pd.DataFrame({'freq':np.sum(data.isnull())})\n",
    "mvs_summary['pct'] = round(mvs_summary['freq']/data.shape[0]* 100, 1)\n",
    "mvs_summary.sort_values(by = 'pct', ascending = False)"
   ]
  },
  {
   "cell_type": "code",
   "execution_count": null,
   "id": "981c91d9-095e-42d5-ad0d-825d5f778eae",
   "metadata": {},
   "outputs": [],
   "source": [
    "# Summary of MVs for each case\n",
    "data.loc[:,'mvs']=data.apply(lambda row:np.sum(row.isnull()), axis = 1)\n",
    "data.sort_values(by='mvs', ascending = False)\n",
    "data.loc[:,'mvs_pct']=round( data.apply(lambda row:np.sum(row.isnull())/(data.shape[1]-3)*100,axis = 1),1)\n",
    "#(data.shape[1]-3), 3 refers to 3 extra columns (id, mvs, mvs-pct)\n",
    "data.sort_values(by='mvs',ascending = False)"
   ]
  },
  {
   "cell_type": "markdown",
   "id": "3b3603b6-9831-48af-8cd8-b3ba937e3fbc",
   "metadata": {},
   "source": [
    "##### #Decision: Modify elements that are known as null but still contain  information (Descriptive Statistics)."
   ]
  },
  {
   "cell_type": "code",
   "execution_count": null,
   "id": "259a252b-3ab1-499e-8cbf-c742ed583a8d",
   "metadata": {},
   "outputs": [],
   "source": [
    "data[['MasVnrArea','MasVnrType']]"
   ]
  },
  {
   "cell_type": "code",
   "execution_count": null,
   "id": "a48fffa2-e476-4cac-9853-094eb7bc0ccb",
   "metadata": {},
   "outputs": [],
   "source": []
  },
  {
   "cell_type": "code",
   "execution_count": null,
   "id": "2969e8ba-979b-4b2e-9834-a36dd7e304d0",
   "metadata": {},
   "outputs": [],
   "source": [
    " # Modifying'MasVnrType'\n",
    "data.loc[data['MasVnrArea']==0].shape[0]"
   ]
  },
  {
   "cell_type": "code",
   "execution_count": null,
   "id": "bda6724a-a374-4412-a55e-39c1ba893dd3",
   "metadata": {},
   "outputs": [],
   "source": [
    "data.loc[data['MasVnrArea'] == 0,'MasVnrType'] ='none'\n",
    "np.sum(data['MasVnrType'].isnull())"
   ]
  },
  {
   "cell_type": "code",
   "execution_count": null,
   "id": "1cc58745-3b4c-42e2-9b66-89ca3a31c9df",
   "metadata": {},
   "outputs": [],
   "source": [
    "np.sum(data['MasVnrArea'].isnull())"
   ]
  },
  {
   "cell_type": "code",
   "execution_count": null,
   "id": "a0defaaf-8fc9-4a82-a3e7-d8e50f35c81c",
   "metadata": {},
   "outputs": [],
   "source": [
    "data.loc[data['MasVnrArea'].isnull()]"
   ]
  },
  {
   "cell_type": "code",
   "execution_count": null,
   "id": "ccfab6c4-7f10-443f-a29f-16d0f769b0ce",
   "metadata": {},
   "outputs": [],
   "source": [
    "data.loc[data['MasVnrType'].isnull()]"
   ]
  },
  {
   "cell_type": "code",
   "execution_count": null,
   "id": "74f08661-cfbb-408d-8f21-3aa59e1a2b0d",
   "metadata": {},
   "outputs": [],
   "source": [
    "np.sum(data['MasVnrType']=='none')"
   ]
  },
  {
   "cell_type": "code",
   "execution_count": null,
   "id": "fb16db3b-f053-4c17-9c85-92adbf65b7d9",
   "metadata": {},
   "outputs": [],
   "source": [
    " data[['MasVnrArea','MasVnrType']]"
   ]
  },
  {
   "cell_type": "code",
   "execution_count": null,
   "id": "275d794d-5f46-400e-8707-b2a75e9e7284",
   "metadata": {},
   "outputs": [],
   "source": [
    "# Modifying'FireplaceQu'\n",
    "data.loc[data['Fireplaces']==0,'FireplaceQu']='NA'"
   ]
  },
  {
   "cell_type": "code",
   "execution_count": null,
   "id": "92366611-993c-4c71-9164-58e05ffed59f",
   "metadata": {},
   "outputs": [],
   "source": [
    "np.sum(data['Fireplaces']==0)"
   ]
  },
  {
   "cell_type": "code",
   "execution_count": null,
   "id": "968dea8c-fda1-4de3-9bf8-af94c0f1142d",
   "metadata": {},
   "outputs": [],
   "source": [
    "np.sum(data['FireplaceQu']=='NA')"
   ]
  },
  {
   "cell_type": "code",
   "execution_count": null,
   "id": "6fa37ac7-bd33-44d2-802f-64e0d5692306",
   "metadata": {},
   "outputs": [],
   "source": [
    "np.sum(data['FireplaceQu'].isnull())"
   ]
  },
  {
   "cell_type": "code",
   "execution_count": null,
   "id": "a3a50e27-7ad8-4f7a-bfbc-550b753b42a1",
   "metadata": {},
   "outputs": [],
   "source": [
    "# Modifying'PoolQC'\n",
    "data.loc[data['PoolArea']==0,'PoolQC']='NA'"
   ]
  },
  {
   "cell_type": "code",
   "execution_count": null,
   "id": "b6376c28-746d-4d2a-a62b-e9959c6ed067",
   "metadata": {},
   "outputs": [],
   "source": [
    "np.sum(data['PoolArea']==0)"
   ]
  },
  {
   "cell_type": "code",
   "execution_count": null,
   "id": "a090c81a-ba94-4a91-8628-be8b43880f53",
   "metadata": {},
   "outputs": [],
   "source": [
    "np.sum(data['PoolQC']=='NA')"
   ]
  },
  {
   "cell_type": "code",
   "execution_count": null,
   "id": "a2ff5553-7a77-44aa-8f6f-99519941b69f",
   "metadata": {},
   "outputs": [],
   "source": [
    "np.sum(data['PoolQC'].isnull())"
   ]
  },
  {
   "cell_type": "code",
   "execution_count": null,
   "id": "b280b632-4a70-4f87-b8c7-fe1dad78a14d",
   "metadata": {},
   "outputs": [],
   "source": [
    "# data[['PoolArea', 'PoolQC']]"
   ]
  },
  {
   "cell_type": "code",
   "execution_count": null,
   "id": "7943a5fc-8bbe-4858-8a15-9115033cd427",
   "metadata": {},
   "outputs": [],
   "source": [
    "np.sum(data['PoolArea']!=0)"
   ]
  },
  {
   "cell_type": "code",
   "execution_count": null,
   "id": "dcb47221-4bf4-4219-a69c-eca48e0912f6",
   "metadata": {},
   "outputs": [],
   "source": [
    "np.sum(data['PoolQC']!='NA')"
   ]
  },
  {
   "cell_type": "code",
   "execution_count": null,
   "id": "4478c47b-db41-42de-9480-a008306105c0",
   "metadata": {},
   "outputs": [],
   "source": [
    "data.loc[(data['PoolArea']!= 0)]"
   ]
  },
  {
   "cell_type": "code",
   "execution_count": null,
   "id": "67eedf1d-868b-46e5-8f36-0ed367d1a290",
   "metadata": {},
   "outputs": [],
   "source": [
    "data.loc[(data['PoolArea']!= 0)&(data['PoolQC']=='NA'),'PoolQC']=np.nan"
   ]
  },
  {
   "cell_type": "code",
   "execution_count": null,
   "id": "70b507f0-2b2c-4b19-ae7d-2a5016b23d31",
   "metadata": {},
   "outputs": [],
   "source": [
    "data.loc[data['PoolArea' ]!= 0]"
   ]
  },
  {
   "cell_type": "code",
   "execution_count": null,
   "id": "df3488c1-c5ff-444d-a615-d0c17c9951b4",
   "metadata": {},
   "outputs": [],
   "source": [
    "data.loc[1298, 'PoolQC']=np.nan"
   ]
  },
  {
   "cell_type": "code",
   "execution_count": null,
   "id": "64b03b09-0c4d-4c99-ad45-43759e151735",
   "metadata": {},
   "outputs": [],
   "source": [
    "np.sum(data['PoolQC'].isnull())"
   ]
  },
  {
   "cell_type": "code",
   "execution_count": null,
   "id": "7c725c5a-46f0-4613-9b9a-86ebdc219eb3",
   "metadata": {},
   "outputs": [],
   "source": [
    "# data['PoolQC']"
   ]
  },
  {
   "cell_type": "code",
   "execution_count": null,
   "id": "88a2dd64-83e2-4888-8787-461051d7e683",
   "metadata": {},
   "outputs": [],
   "source": [
    "data.loc[data['PoolQC'].isnull()]"
   ]
  },
  {
   "cell_type": "code",
   "execution_count": null,
   "id": "1194d895-40f0-4a03-a040-d69c90c7e30d",
   "metadata": {},
   "outputs": [],
   "source": [
    "data.loc[1298,'PoolQC']"
   ]
  },
  {
   "cell_type": "code",
   "execution_count": null,
   "id": "ff0d171b-33b5-4b5d-85fb-bb0d71982973",
   "metadata": {},
   "outputs": [],
   "source": [
    "# Modifying'Fence'\n",
    "np.sum(data['Fence'].isnull())"
   ]
  },
  {
   "cell_type": "code",
   "execution_count": null,
   "id": "9a1b1ec7-e800-4a70-b1a4-f4f770a8fbb1",
   "metadata": {},
   "outputs": [],
   "source": [
    "data.loc[data['Fence'].isnull(),'Fence']='NA'"
   ]
  },
  {
   "cell_type": "code",
   "execution_count": null,
   "id": "391e4d3b-4d7a-4d2f-9ea8-eb1d2cb101d5",
   "metadata": {},
   "outputs": [],
   "source": [
    "np.sum(data['Fence'].isnull())"
   ]
  },
  {
   "cell_type": "code",
   "execution_count": null,
   "id": "ee3a9af5-2299-4fe9-9301-22c474b0b57f",
   "metadata": {},
   "outputs": [],
   "source": [
    "# data['Fence']"
   ]
  },
  {
   "cell_type": "code",
   "execution_count": null,
   "id": "2fe6a541-06f2-4a59-83a6-932f40c069ab",
   "metadata": {},
   "outputs": [],
   "source": [
    "# Modifying 'MiscFeature'\n",
    "np.sum(data['MiscFeature'].isnull())"
   ]
  },
  {
   "cell_type": "code",
   "execution_count": null,
   "id": "5a6b3259-52e9-425d-8448-ebb4690b2525",
   "metadata": {},
   "outputs": [],
   "source": [
    "data.loc[data['MiscFeature'].isnull(),'MiscFeature']='NA'"
   ]
  },
  {
   "cell_type": "code",
   "execution_count": null,
   "id": "2ebcf509-b49e-4a72-8199-e8bb577d2b98",
   "metadata": {},
   "outputs": [],
   "source": [
    "np.sum(data['MiscFeature'].isnull())"
   ]
  },
  {
   "cell_type": "code",
   "execution_count": null,
   "id": "7603e774-e0f7-4cd7-b5d2-14edf994f1aa",
   "metadata": {},
   "outputs": [],
   "source": [
    "# Modifying 'GarageType','GarageYrBlt','GarageFinish','GarageQual'and 'GarageCond'\n",
    "np.sum(data['GarageArea']==0)"
   ]
  },
  {
   "cell_type": "code",
   "execution_count": null,
   "id": "ab13e89d-2638-4a77-80fd-fa8d72ec022c",
   "metadata": {},
   "outputs": [],
   "source": [
    "data.loc[data['GarageArea']==0,['GarageType','GarageFinish','GarageQual','GarageCond']]='NA'\n",
    "data.loc[data['GarageArea']==0,['GarageYrBlt']]=0\n",
    "data[['GarageArea','GarageType','GarageYrBlt','GarageFinish','GarageQual','GarageCond']]"
   ]
  },
  {
   "cell_type": "code",
   "execution_count": null,
   "id": "a12222d2-8006-498a-9a95-8294cc5df810",
   "metadata": {},
   "outputs": [],
   "source": [
    "np.sum(data['GarageType'].isnull())"
   ]
  },
  {
   "cell_type": "code",
   "execution_count": null,
   "id": "c5b8c628-136e-4c6d-914e-ce185b2040d1",
   "metadata": {},
   "outputs": [],
   "source": [
    "np.sum(data['GarageYrBlt'].isnull())"
   ]
  },
  {
   "cell_type": "code",
   "execution_count": null,
   "id": "cf8703da-b777-4eb0-a1e8-4bb89f5ec786",
   "metadata": {},
   "outputs": [],
   "source": [
    "np.sum(data['GarageFinish'].isnull())"
   ]
  },
  {
   "cell_type": "code",
   "execution_count": null,
   "id": "fe72d19a-efd7-410a-9dc4-f923cfcdf581",
   "metadata": {},
   "outputs": [],
   "source": [
    "np.sum(data['GarageQual'].isnull())"
   ]
  },
  {
   "cell_type": "code",
   "execution_count": null,
   "id": "763d314d-3199-401e-9691-f90e854341c8",
   "metadata": {},
   "outputs": [],
   "source": [
    "np.sum(data['GarageCond'].isnull())"
   ]
  },
  {
   "cell_type": "code",
   "execution_count": null,
   "id": "ec178f11-2cb1-4e7c-bbbd-e88ed77d2fdc",
   "metadata": {},
   "outputs": [],
   "source": [
    "# Modifying'BsmtQual','BsmtCond','BsmtExposure','BsmtFinType1','BsmtFinType2'\n",
    "np.sum(data['TotalBsmtSF']==0)"
   ]
  },
  {
   "cell_type": "code",
   "execution_count": null,
   "id": "00d18f82-a607-4cec-b780-ef2a627f130c",
   "metadata": {},
   "outputs": [],
   "source": [
    "data.loc[data['TotalBsmtSF']==0,['BsmtQual','BsmtCond','BsmtExposure','BsmtFinType1','BsmtFinType2']]='NA'\n",
    "data[['TotalBsmtSF','BsmtQual','BsmtCond','BsmtExposure','BsmtFinType1','BsmtFinType2']]"
   ]
  },
  {
   "cell_type": "code",
   "execution_count": null,
   "id": "3b802367-4a28-4f90-ab7e-924c29e65276",
   "metadata": {},
   "outputs": [],
   "source": [
    "np.sum(data['BsmtQual'].isnull())"
   ]
  },
  {
   "cell_type": "code",
   "execution_count": null,
   "id": "201d2f0b-0e79-4153-936b-7c18cf08b0be",
   "metadata": {},
   "outputs": [],
   "source": [
    "np.sum(data['BsmtCond'].isnull())"
   ]
  },
  {
   "cell_type": "code",
   "execution_count": null,
   "id": "9d23692f-cc81-4626-a06c-27004a3ccff5",
   "metadata": {},
   "outputs": [],
   "source": [
    "np.sum(data['BsmtExposure'].isnull())"
   ]
  },
  {
   "cell_type": "code",
   "execution_count": null,
   "id": "dd5f2836-2498-47d2-bef8-50f05c3e6082",
   "metadata": {},
   "outputs": [],
   "source": [
    "data.loc[data['BsmtExposure'].isnull()]"
   ]
  },
  {
   "cell_type": "code",
   "execution_count": null,
   "id": "aabf40cc-d017-4f43-bf4c-c5b34cb0bd1e",
   "metadata": {},
   "outputs": [],
   "source": [
    "np.sum(data['BsmtFinType1'].isnull())"
   ]
  },
  {
   "cell_type": "code",
   "execution_count": null,
   "id": "c6d66bbf-572d-4845-99d9-e67800644929",
   "metadata": {},
   "outputs": [],
   "source": [
    "np.sum(data['BsmtFinType2'].isnull())"
   ]
  },
  {
   "cell_type": "code",
   "execution_count": null,
   "id": "1bf92725-ef89-4f8e-82f3-91cf1c0a32f6",
   "metadata": {},
   "outputs": [],
   "source": [
    "data.loc[data['BsmtFinType2'].isnull()]"
   ]
  },
  {
   "cell_type": "code",
   "execution_count": null,
   "id": "b898615b-3ce8-44a9-a39f-faf5bee3031d",
   "metadata": {},
   "outputs": [],
   "source": [
    "# Modifying'LotFrontage'\n",
    "np.sum(data['LotFrontage'].isnull())"
   ]
  },
  {
   "cell_type": "code",
   "execution_count": null,
   "id": "051ffd35-d92f-44d6-b1cd-82ddf220fdb6",
   "metadata": {},
   "outputs": [],
   "source": [
    "# data['LotFrontage']"
   ]
  },
  {
   "cell_type": "code",
   "execution_count": null,
   "id": "bba8bd90-470c-452b-ae23-a9e8587b36ea",
   "metadata": {},
   "outputs": [],
   "source": [
    "np.sum(data['LotFrontage']==0)"
   ]
  },
  {
   "cell_type": "code",
   "execution_count": null,
   "id": "9f84a996-06da-4016-bc36-58b6ef7b2bc1",
   "metadata": {},
   "outputs": [],
   "source": [
    "data.loc[data['LotFrontage'].isnull(),'LotFrontage']=0\n",
    "# data['LotFrontage']"
   ]
  },
  {
   "cell_type": "code",
   "execution_count": null,
   "id": "af66da6b-d35e-486e-bb0b-61f973db7d3c",
   "metadata": {},
   "outputs": [],
   "source": [
    "np.sum(data['LotFrontage'].isnull())"
   ]
  },
  {
   "cell_type": "code",
   "execution_count": null,
   "id": "81570ef8-8196-42bf-9faf-c5bbeadf56b9",
   "metadata": {},
   "outputs": [],
   "source": [
    "np.sum(data['LotFrontage']==0)"
   ]
  },
  {
   "cell_type": "code",
   "execution_count": null,
   "id": "21b403cd-45f8-4d3f-8d54-17c8ea61d411",
   "metadata": {},
   "outputs": [],
   "source": [
    "# Modifying 'Alley'\n",
    "np.sum(data['Alley'].isnull())"
   ]
  },
  {
   "cell_type": "code",
   "execution_count": null,
   "id": "57a73322-30e2-4308-a741-3d0ea7607fdb",
   "metadata": {},
   "outputs": [],
   "source": [
    "data.loc[data['Alley'].isnull(),'Alley']='NA'\n",
    "# data['Alley']"
   ]
  },
  {
   "cell_type": "code",
   "execution_count": null,
   "id": "fb3584ae-c3fd-41f7-b609-8dabc7eec037",
   "metadata": {},
   "outputs": [],
   "source": [
    "np.sum(data['Alley'].isnull())"
   ]
  },
  {
   "cell_type": "code",
   "execution_count": null,
   "id": "12ed2a8b-b92e-4aad-9ad4-ce93b410981d",
   "metadata": {},
   "outputs": [],
   "source": [
    "np.sum(data['Alley']=='NA')"
   ]
  },
  {
   "cell_type": "code",
   "execution_count": null,
   "id": "fedf9d8c-7334-4b2e-a117-516d22aaf4b8",
   "metadata": {},
   "outputs": [],
   "source": [
    "#Step 2: Determine the extent of MVs after Modifying\n",
    "#Summary of MVs in each column after Modifying \n",
    "mvs_summary=pd.DataFrame({'freq':np.sum(data.isnull())})\n",
    "mvs_summary['pct']=round(mvs_summary['freq']/data.shape[0]*100,1)\n",
    "mvs_summary.sort_values(by='pct',ascending = False)"
   ]
  },
  {
   "cell_type": "code",
   "execution_count": null,
   "id": "d83bb27b-bf82-4949-9ee0-5328159fa8bb",
   "metadata": {},
   "outputs": [],
   "source": [
    "# Summary of MVs for each case after Modifying \n",
    "data.loc[:,'mvs']=data.apply(lambda row: np.sum(row.isnull()),axis = 1)\n",
    "data.sort_values(by='mvs',ascending = False)\n",
    "data.loc[:,'mvs_pct'] =round(data.apply(lambda row: np.sum(row.isnull())/(data.shape[1]-3)*100, axis = 1),1)\n",
    "#(data.shape[1]-3), 3 refers to 3 extra columns (id, mvs, mvs-pct)\n",
    "data.sort_values(by='mvs',ascending = False)"
   ]
  },
  {
   "cell_type": "code",
   "execution_count": null,
   "id": "60a0c3dc-b4b6-46b6-a1f6-654f24f3c404",
   "metadata": {},
   "outputs": [],
   "source": [
    "data['mvs_pct'].max()"
   ]
  },
  {
   "cell_type": "code",
   "execution_count": null,
   "id": "9071219d-bdc7-499f-bbbf-7a4b5e7ec6c2",
   "metadata": {},
   "outputs": [],
   "source": [
    "# Step 3: Diagnose the randomness of the missing values processes\n",
    "# Given the low percentage of missing values in columns and records (in a large dataset),\n",
    "# It is acceptable to proceed with a simple imputation strategy without a detailed evaluation of whether the missing values are MAR. \n",
    "# This imputation will not significantly impact the overall results."
   ]
  },
  {
   "cell_type": "code",
   "execution_count": null,
   "id": "56115140-7073-4bfc-9771-a69a84a20717",
   "metadata": {},
   "outputs": [],
   "source": [
    "np.sum(data['MasVnrArea'].isnull())"
   ]
  },
  {
   "cell_type": "code",
   "execution_count": null,
   "id": "40ec88ab-745b-402f-80aa-b0d391b304de",
   "metadata": {},
   "outputs": [],
   "source": [
    "float_columns=data.select_dtypes(include=['float64'])\n",
    "float_columns"
   ]
  },
  {
   "cell_type": "code",
   "execution_count": null,
   "id": "b643c5cb-3cd6-4d9f-8be7-c8f035586ab4",
   "metadata": {},
   "outputs": [],
   "source": [
    "# Step 4: Select the imputation method\n",
    "# Method: mean substitution\n",
    "# Substiude missing values in numeric column ('MasVnrArea') with the mean of column.\n",
    "data.loc[:,'MasVnrArea']=data.loc[:,'MasVnrArea'].fillna(data.loc[:,'MasVnrArea'].mean())\n",
    "print(data.shape)\n",
    "np.sum(data['MasVnrArea'].isnull())"
   ]
  },
  {
   "cell_type": "code",
   "execution_count": null,
   "id": "a74144f0-7f2f-4fd7-838a-fe9118ee729a",
   "metadata": {},
   "outputs": [],
   "source": [
    "# Method: mode substitution\n",
    "# Substiude missing values in categorical columns with the mode of each column.\n",
    "categorical_columns = ['MasVnrType','BsmtExposure','BsmtFinType2','Electrical','PoolQC']\n",
    "\n",
    "for i in categorical_columns:\n",
    "    mode_value=data[i].mode()[0]\n",
    "    data[i]=data[i].fillna(mode_value)\n",
    "\n",
    "print(data.shape)\n",
    "np.sum(data[['MasVnrType','BsmtExposure','BsmtFinType2','Electrical','PoolQC']].isnull())\n"
   ]
  },
  {
   "cell_type": "code",
   "execution_count": null,
   "id": "3e5ba25e-d4ab-4791-bea5-d4323a9cbf0b",
   "metadata": {},
   "outputs": [],
   "source": [
    "# np.sum(data.isnull())"
   ]
  },
  {
   "cell_type": "code",
   "execution_count": null,
   "id": "d56d09fc-676a-4bb0-b32d-03069f374851",
   "metadata": {},
   "outputs": [],
   "source": [
    "data.info()"
   ]
  },
  {
   "cell_type": "code",
   "execution_count": null,
   "id": "32ac9fa9-fc51-4886-a42a-4722161a069b",
   "metadata": {},
   "outputs": [],
   "source": [
    "# Convert the column from float to int\n",
    "data['LotFrontage']=data['LotFrontage'].astype('int64')\n",
    "data['GarageYrBlt']=data['GarageYrBlt'].astype('int64')\n",
    "data['MasVnrArea']=data['MasVnrArea'].astype('int64')\n",
    "\n",
    "data.info()"
   ]
  },
  {
   "cell_type": "code",
   "execution_count": null,
   "id": "ac3501cd-5271-4eeb-9bf1-7c9664c62a95",
   "metadata": {},
   "outputs": [],
   "source": [
    "data.loc[data['YearRemodAdd'] < data['YearBuilt'],['YearRemodAdd','YearBuilt']]"
   ]
  },
  {
   "cell_type": "code",
   "execution_count": null,
   "id": "f37e4c87-c133-4318-9ccb-035c18c6e97f",
   "metadata": {},
   "outputs": [],
   "source": [
    "data.loc[data['MasVnrArea'] < 0,'MasVnrArea']"
   ]
  },
  {
   "cell_type": "markdown",
   "id": "e082e3bc-4b41-462d-9d05-fb53cb8e5536",
   "metadata": {},
   "source": [
    "### 4: Univariate data analysis"
   ]
  },
  {
   "cell_type": "code",
   "execution_count": null,
   "id": "e7b8374f-d164-4210-af89-f77415c9132c",
   "metadata": {},
   "outputs": [],
   "source": [
    "data['Id'].nunique()"
   ]
  },
  {
   "cell_type": "code",
   "execution_count": null,
   "id": "a73ed206-54cd-49b5-b9e7-e69dd6d0d742",
   "metadata": {},
   "outputs": [],
   "source": [
    "np.sum(data.duplicated())"
   ]
  },
  {
   "cell_type": "code",
   "execution_count": null,
   "id": "68e92f2c-faa5-43c9-8266-f24c0aa850ff",
   "metadata": {},
   "outputs": [],
   "source": [
    "var_ind_num1=[3,4,19,20,26,34,36,37,38]+ list(range(43,53))+[54,56,59,61,62]+list(range(66,72))+list(range(75,78))+[80]\n",
    "var_ind_cat1=[1,2]+ list(range(5,19))+list(range(21,26))+list(range(27,34))+[35]+list(range(39,43))+[53,55,57,58,60,63,64,65,72,73,74,78,79]"
   ]
  },
  {
   "cell_type": "code",
   "execution_count": null,
   "id": "c05d7356-014a-4bea-84b3-d1e81b1cfac8",
   "metadata": {},
   "outputs": [],
   "source": [
    "# Histogram of numeric variables\n",
    "plt.figure(figsize=(20,20))\n",
    "plt.subplots_adjust(hspace =0.3, wspace =0.3)\n",
    "for i in range(1,35):\n",
    "    plt.subplot(7,5,i)\n",
    "    plt.hist(x = data.iloc[: ,var_ind_num1[i- 1]], \n",
    "             alpha = 0.4, color = 'red')\n",
    "    plt.title(data.columns[var_ind_num1[i - 1]])\n",
    "plt.show()"
   ]
  },
  {
   "cell_type": "code",
   "execution_count": null,
   "id": "409b1517-f366-433b-957f-893cb023dd63",
   "metadata": {},
   "outputs": [],
   "source": [
    "#summary statistics of numeric variables\n",
    "data.iloc[:,var_ind_num1].describe()"
   ]
  },
  {
   "cell_type": "code",
   "execution_count": null,
   "id": "c33fa77f-3c63-4f33-97b8-acc287752515",
   "metadata": {},
   "outputs": [],
   "source": [
    "# Calculate frequency and percentage\n",
    "for i in var_ind_cat1: \n",
    "    print('--- Frequency Table of '+data.columns[i] +' ---')\n",
    "    frq_summary=pd.DataFrame({'category':(data.iloc[:, i].value_counts()).index,'freq':data.iloc[:, i].value_counts().values})\n",
    "    frq_summary['pct']=round(frq_summary['freq']/data.shape[0]* 100, 1)\n",
    "    frq_summary.sort_values(by ='pct',ascending=False)\n",
    "    print(frq_summary)"
   ]
  },
  {
   "cell_type": "code",
   "execution_count": null,
   "id": "0a9c21a6-c46e-4126-b446-8148d5287621",
   "metadata": {},
   "outputs": [],
   "source": [
    "len(var_ind_cat1)"
   ]
  },
  {
   "cell_type": "code",
   "execution_count": null,
   "id": "c6dda91f-edef-41e3-9a01-b9b9cfffd3a0",
   "metadata": {},
   "outputs": [],
   "source": [
    "len(var_ind_num1)"
   ]
  },
  {
   "cell_type": "code",
   "execution_count": null,
   "id": "bdf96b45-7551-4d87-aa95-a08ded57e7db",
   "metadata": {},
   "outputs": [],
   "source": [
    "len(var_ind_cat1)+len(var_ind_num1)"
   ]
  },
  {
   "cell_type": "code",
   "execution_count": null,
   "id": "d2cd8470-e18c-439f-bdc1-e7207490dd3c",
   "metadata": {},
   "outputs": [],
   "source": [
    "data.head(4)"
   ]
  },
  {
   "cell_type": "markdown",
   "id": "0806249b-96f2-4be1-9969-c2bc1d2c1c0f",
   "metadata": {},
   "source": [
    "# Data Prepration"
   ]
  },
  {
   "cell_type": "code",
   "execution_count": null,
   "id": "9848ce3d-7d71-4b8d-8f2b-78f691476cc5",
   "metadata": {},
   "outputs": [],
   "source": [
    "# Remove added coloumns\n",
    "data.drop(columns=['mvs','mvs_pct'],inplace=True)    \n",
    "data.info()"
   ]
  },
  {
   "cell_type": "markdown",
   "id": "e5e5e0df-1752-4596-a736-21d14808d157",
   "metadata": {},
   "source": [
    "### Convert Ordinal Variables in to Numeric (Label Encoding)"
   ]
  },
  {
   "cell_type": "code",
   "execution_count": null,
   "id": "97aa5d93-2242-4c85-ac0b-4f32f5a41aae",
   "metadata": {},
   "outputs": [],
   "source": [
    "# Convert 'LotShape' into numeric variable\n",
    "data['cnvrt_LotShape']=data['LotShape'].replace(['Reg','IR1','IR2','IR3'],\n",
    "                                                 list(range(4, 0,-1)),inplace = False)\n",
    "#Check the results\n",
    "print(np.sum(data['cnvrt_LotShape'].isnull()))\n",
    "data['cnvrt_LotShape'].describe()\n",
    "# data['cnvrt_LotShape']"
   ]
  },
  {
   "cell_type": "code",
   "execution_count": null,
   "id": "acc1ad46-f6b3-4aef-ae5b-c496581d3574",
   "metadata": {},
   "outputs": [],
   "source": [
    "# Convert 'LandSlope' into numeric variable\n",
    "data['cnvrt_LandSlope']=data['LandSlope'].replace(['Gtl','Mod','Sev'],\n",
    "                                                 list(range(3, 0,-1)), inplace = False)\n",
    "#Check the results\n",
    "print(np.sum(data['cnvrt_LandSlope'].isnull()))\n",
    "data['cnvrt_LandSlope'].describe()\n",
    "# data['cnvrt_LandSlope']"
   ]
  },
  {
   "cell_type": "code",
   "execution_count": null,
   "id": "6bbcdf6e-5859-4bdd-b24b-b924df7266a0",
   "metadata": {},
   "outputs": [],
   "source": [
    "# Convert 'ExterQua' into numeric variable\n",
    "data['cnvrt_ExterQual']=data['ExterQual'].replace(['Ex','Gd','TA','Fa','Po'],\n",
    "                                                 list(range(5, 0,-1)), inplace = False)\n",
    "#Check the results\n",
    "print(np.sum(data['cnvrt_ExterQual'].isnull()))\n",
    "data['cnvrt_ExterQual'].describe() \n",
    "# data['cnvrt_ExterQual']"
   ]
  },
  {
   "cell_type": "code",
   "execution_count": null,
   "id": "eccdf682-ff5b-4bf1-bea5-84b49498d8d9",
   "metadata": {},
   "outputs": [],
   "source": [
    "# Convert 'ExterCond' into numeric variable\n",
    "data['cnvrt_ExterCond']=data['ExterCond'].replace(['Ex','Gd','TA','Fa','Po'],\n",
    "                                                 list(range(5, 0,-1)), inplace = False)\n",
    "#Check the results\n",
    "print(np.sum(data['cnvrt_ExterCond'].isnull()))\n",
    "data['cnvrt_ExterCond'].describe() \n",
    "# data['cnvrt_ExterCond']"
   ]
  },
  {
   "cell_type": "code",
   "execution_count": null,
   "id": "851ff76b-4e67-4ec7-8372-499e84d1e560",
   "metadata": {},
   "outputs": [],
   "source": [
    "# Convert 'BsmtQual' into numeric variable\n",
    "data['cnvrt_BsmtQual']=data['BsmtQual'].replace(['Ex','Gd','TA','Fa','Po','NA'],\n",
    "                                                 list(range(6, 0,-1)), inplace = False)\n",
    "#Check the results\n",
    "print(np.sum(data['cnvrt_BsmtQual'].isnull()))\n",
    "data['cnvrt_BsmtQual'].describe() \n",
    "# data['cnvrt_BsmtQual']"
   ]
  },
  {
   "cell_type": "code",
   "execution_count": null,
   "id": "d3c42efd-f45f-4daa-b521-069207c4de08",
   "metadata": {},
   "outputs": [],
   "source": [
    "# Convert 'BsmtCond' into numeric variable\n",
    "data['cnvrt_BsmtCond']=data['BsmtCond'].replace(['Ex','Gd','TA','Fa','Po','NA'],\n",
    "                                                 list(range(6,0,-1)), inplace = False)\n",
    "#Check the results\n",
    "print(np.sum(data['cnvrt_BsmtCond'].isnull()))\n",
    "data['cnvrt_BsmtCond'].describe() \n",
    "# data['cnvrt_BsmtCond']"
   ]
  },
  {
   "cell_type": "code",
   "execution_count": null,
   "id": "4e3873bb-83e4-4d39-ad23-5f72b3a28c2e",
   "metadata": {},
   "outputs": [],
   "source": [
    "# Convert 'BsmtExposure' into numeric variable\n",
    "data['cnvrt_BsmtExposure']=data['BsmtExposure'].replace(['Gd','Av','Mn','No','NA'],\n",
    "                                                 list(range(5,0,-1)), inplace = False)\n",
    "#Check the results\n",
    "print(np.sum(data['cnvrt_BsmtExposure'].isnull()))\n",
    "data['cnvrt_BsmtExposure'].describe() \n",
    "# data['cnvrt_BsmtExposure']"
   ]
  },
  {
   "cell_type": "code",
   "execution_count": null,
   "id": "5b6a8174-0a39-49ea-9627-62fe439fbe99",
   "metadata": {},
   "outputs": [],
   "source": [
    "# Convert 'BsmtFinType1' into numeric variable\n",
    "data['cnvrt_BsmtFinType1']=data['BsmtFinType1'].replace(['GLQ','ALQ','BLQ','Rec','LwQ','Unf','NA'],\n",
    "                                                 list(range(7,0,-1)), inplace = False)\n",
    "#Check the results\n",
    "print(np.sum(data['cnvrt_BsmtFinType1'].isnull()))\n",
    "data['cnvrt_BsmtFinType1'].describe() \n",
    "# data['cnvrt_BsmtFinType1']"
   ]
  },
  {
   "cell_type": "code",
   "execution_count": null,
   "id": "a3f4fc79-7bae-43ee-bf87-86b8f39ba6c0",
   "metadata": {},
   "outputs": [],
   "source": [
    "# Convert 'BsmtFinType2' into numeric variable\n",
    "data['cnvrt_BsmtFinType2']=data['BsmtFinType2'].replace(['GLQ','ALQ','BLQ','Rec','LwQ','Unf','NA'],\n",
    "                                                 list(range(7,0,-1)), inplace = False)\n",
    "#Check the results\n",
    "print(np.sum(data['cnvrt_BsmtFinType2'].isnull()))\n",
    "data['cnvrt_BsmtFinType2'].describe() \n",
    "# data['cnvrt_BsmtFinType2']"
   ]
  },
  {
   "cell_type": "code",
   "execution_count": null,
   "id": "069c091d-3635-4803-9f21-2c20cf74f846",
   "metadata": {},
   "outputs": [],
   "source": [
    "# Convert 'HeatingQC' into numeric variable\n",
    "data['cnvrt_HeatingQC']=data['HeatingQC'].replace(['Ex','Gd','TA','Fa','Po'],\n",
    "                                                 list(range(5,0,-1)), inplace = False)\n",
    "#Check the results\n",
    "print(np.sum(data['cnvrt_HeatingQC'].isnull()))\n",
    "data['cnvrt_HeatingQC'].describe() \n",
    "# data['cnvrt_HeatingQC']"
   ]
  },
  {
   "cell_type": "code",
   "execution_count": null,
   "id": "7104918e-fcd1-4ed3-957b-2fa342917603",
   "metadata": {},
   "outputs": [],
   "source": [
    "# Convert 'KitchenQual' into numeric variable\n",
    "data['cnvrt_KitchenQual']=data['KitchenQual'].replace(['Ex','Gd','TA','Fa','Po'],\n",
    "                                                 list(range(5,0,-1)), inplace = False)\n",
    "#Check the results\n",
    "print(np.sum(data['cnvrt_KitchenQual'].isnull()))\n",
    "data['cnvrt_KitchenQual'].describe() \n",
    "# data['cnvrt_KitchenQual']"
   ]
  },
  {
   "cell_type": "code",
   "execution_count": null,
   "id": "7d8f6b97-75a2-4c78-995f-588bc1d1d9d5",
   "metadata": {},
   "outputs": [],
   "source": [
    "# Convert 'Functional' into numeric variable\n",
    "data['cnvrt_Functional']=data['Functional'].replace(['Typ','Min1','Min2','Mod','Maj1','Maj2','Sev','Sal'],\n",
    "                                                 list(range(8,0,-1)), inplace = False)\n",
    "                \n",
    "#Check the results\n",
    "print(np.sum(data['cnvrt_Functional'].isnull()))\n",
    "data['cnvrt_Functional'].describe() \n",
    "# data['cnvrt_Functional']"
   ]
  },
  {
   "cell_type": "code",
   "execution_count": null,
   "id": "8f451b01-640c-4625-9768-4dff04378c42",
   "metadata": {},
   "outputs": [],
   "source": [
    "# Convert 'FireplaceQu' into numeric variable\n",
    "data['cnvrt_FireplaceQu']=data['FireplaceQu'].replace(['Ex','Gd','TA','Fa','Po','NA'],\n",
    "                                                 list(range(6,0,-1)), inplace = False)\n",
    "\n",
    "#Check the results\n",
    "print(np.sum(data['cnvrt_FireplaceQu'].isnull()))\n",
    "data['cnvrt_FireplaceQu'].describe() \n",
    "# data['cnvrt_FireplaceQu']"
   ]
  },
  {
   "cell_type": "code",
   "execution_count": null,
   "id": "ff70f6ef-a51c-410e-9a22-f5292dde122d",
   "metadata": {},
   "outputs": [],
   "source": [
    "# Convert 'GarageFinish' into numeric variable\n",
    "data['cnvrt_GarageFinish']=data['GarageFinish'].replace(['Fin','RFn','Unf','NA'],\n",
    "                                                 list(range(4,0,-1)), inplace = False)\n",
    "\n",
    "#Check the results\n",
    "print(np.sum(data['cnvrt_GarageFinish'].isnull()))\n",
    "data['cnvrt_GarageFinish'].describe() \n",
    "# data['cnvrt_GarageFinish']"
   ]
  },
  {
   "cell_type": "code",
   "execution_count": null,
   "id": "4355834d-96bc-44c3-9892-434931eb4424",
   "metadata": {},
   "outputs": [],
   "source": [
    "# Convert 'GararageQual' into numeric variable\n",
    "data['cnvrt_GarageQual']=data['GarageQual'].replace(['Ex','Gd','TA','Fa','Po','NA'],\n",
    "                                                 list(range(6,0,-1)), inplace = False)\n",
    "\n",
    "#Check the results\n",
    "print(np.sum(data['cnvrt_GarageQual'].isnull()))\n",
    "data['cnvrt_GarageQual'].describe() \n",
    "# data['cnvrt_GarageQual']"
   ]
  },
  {
   "cell_type": "code",
   "execution_count": null,
   "id": "02235f48-59d9-44f2-9f19-e99baa60b123",
   "metadata": {},
   "outputs": [],
   "source": [
    "# Convert 'GararageCond' into numeric variable\n",
    "data['cnvrt_GarageCond']=data['GarageCond'].replace(['Ex','Gd','TA','Fa','Po','NA'],\n",
    "                                                 list(range(6,0,-1)), inplace = False)\n",
    "\n",
    "#Check the results\n",
    "print(np.sum(data['cnvrt_GarageCond'].isnull()))\n",
    "data['cnvrt_GarageCond'].describe() \n",
    "# data['cnvrt_GarageCond']"
   ]
  },
  {
   "cell_type": "code",
   "execution_count": null,
   "id": "bcdb7ce6-3d1e-46b2-af15-c4e7e4390746",
   "metadata": {},
   "outputs": [],
   "source": [
    "# Convert 'PavedDrive' into numeric variable\n",
    "data['cnvrt_PavedDrive']=data['PavedDrive'].replace(['Y','P','N'],\n",
    "                                                 list(range(3,0,-1)), inplace = False)\n",
    "\n",
    "#Check the results\n",
    "print(np.sum(data['cnvrt_PavedDrive'].isnull()))\n",
    "data['cnvrt_PavedDrive'].describe() \n",
    "# data['cnvrt_PavedDrive']"
   ]
  },
  {
   "cell_type": "code",
   "execution_count": null,
   "id": "66cc60e7-f3fe-4c07-a631-063fdc10220d",
   "metadata": {},
   "outputs": [],
   "source": [
    "# Convert 'PoolQC' into numeric variable\n",
    "data['cnvrt_PoolQC']=data['PoolQC'].replace(['Ex','Gd','TA','Fa','NA'],\n",
    "                                                 list(range(5,0,-1)), inplace = False)\n",
    "\n",
    "#Check the results\n",
    "print(np.sum(data['cnvrt_PoolQC'].isnull()))\n",
    "data['cnvrt_PoolQC'].describe() \n",
    "# data['cnvrt_PoolQC']"
   ]
  },
  {
   "cell_type": "code",
   "execution_count": null,
   "id": "f03b3e43-96f9-4cf3-94b8-f449bcd9238f",
   "metadata": {},
   "outputs": [],
   "source": [
    "# Convert 'Fence' into numeric variable\n",
    "data['cnvrt_Fence']=data['Fence'].replace(['GdPrv','MnPrv','GdWo','MnWw','NA'],\n",
    "                                                 list(range(5,0,-1)), inplace = False)\n",
    "\n",
    "#Check the results\n",
    "print(np.sum(data['cnvrt_Fence'].isnull()))\n",
    "data['cnvrt_Fence'].describe() \n",
    "# data['cnvrt_Fence']"
   ]
  },
  {
   "cell_type": "code",
   "execution_count": null,
   "id": "a5d89279-ac8f-4d97-a23a-0a0d85ab2a62",
   "metadata": {},
   "outputs": [],
   "source": [
    "np.sum(data.isnull())"
   ]
  },
  {
   "cell_type": "markdown",
   "id": "2fbab9f8-2498-4cce-ab18-7fb07d553b99",
   "metadata": {},
   "source": [
    "### Outliers"
   ]
  },
  {
   "cell_type": "code",
   "execution_count": null,
   "id": "c47561eb-3eda-46ac-8f57-6d2d379995bc",
   "metadata": {},
   "outputs": [],
   "source": [
    "# data.info()"
   ]
  },
  {
   "cell_type": "code",
   "execution_count": null,
   "id": "bfa1f5cc-a19b-4d51-a885-120682a6ed0f",
   "metadata": {},
   "outputs": [],
   "source": [
    "# Check for outliers\n",
    "plt.boxplot(data['SalePrice'])\n",
    "plt.show()"
   ]
  },
  {
   "cell_type": "code",
   "execution_count": null,
   "id": "60bc0f12-5b24-419f-b24c-4a38e57799b1",
   "metadata": {},
   "outputs": [],
   "source": [
    "from scipy.stats import iqr\n",
    "df=data\n",
    "# Indices of variables to check for outliers\n",
    "var_ind_num1=[3, 4, 19, 20, 26, 34, 36, 37, 38]+list(range(43, 53))+[54, 56, 59, 61, 62]+list(range(66, 72))+list(range(75, 78))+[80]\n",
    "\n",
    "# Function to detect outliers\n",
    "def outlier_detector(df,var_ind_num1):\n",
    "    outlier_flags=pd.DataFrame(0,index=df.index,columns=[df.columns[i] for i in var_ind_num1])\n",
    "    for i in var_ind_num1:\n",
    "        if i<len(df.columns) and np.issubdtype(df.iloc[:, i].dtype,np.number):\n",
    "            col = df.iloc[:, i]\n",
    "            lower_bound=np.quantile(col, 0.25) - 1.5 * iqr(col)\n",
    "            upper_bound=np.quantile(col, 0.75) + 1.5 * iqr(col)\n",
    "            outliers=(col<lower_bound) | (col>upper_bound)\n",
    "            outlier_flags.loc[outliers, df.columns[i]] = 1\n",
    "    return outlier_flags\n",
    "\n",
    "# Detect outliers\n",
    "outlier_flags=outlier_detector(df,var_ind_num1)\n",
    "\n",
    "# Calculate the number of outliers per column (feature)\n",
    "outlier_counts_per_feature=outlier_flags.sum(axis=0)\n",
    "\n",
    "# Calculate the percentage of outliers per column (feature)\n",
    "total_data_points=len(df)\n",
    "percentage_outliers_per_feature=(outlier_counts_per_feature/total_data_points)*100\n",
    "\n",
    "# Combine the counts and percentages into a single DataFrame\n",
    "outlier_summary=pd.DataFrame({\n",
    "    'Number of Outliers':outlier_counts_per_feature,\n",
    "    'Percentage of Outliers':percentage_outliers_per_feature\n",
    "})\n",
    "\n",
    "# Find the feature with the most outliers\n",
    "most_outliers_feature=outlier_counts_per_feature.idxmax()\n",
    "most_outliers_count=outlier_counts_per_feature.max()\n",
    "percentage_outliers_most_feature=percentage_outliers_per_feature[most_outliers_feature]\n",
    "\n",
    "# Sort and display the outlier summary DataFrame\n",
    "sorted_outlier_summary=outlier_summary.sort_values(by='Number of Outliers', ascending=False)\n",
    "print(\"\\nSorted outlier summary:\")\n",
    "print(sorted_outlier_summary)"
   ]
  },
  {
   "cell_type": "code",
   "execution_count": null,
   "id": "81f9aa54-b3a7-4132-947e-433cfbad2a78",
   "metadata": {},
   "outputs": [],
   "source": [
    "# data.drop(['EnclosedPorch','BsmtFinSF2'],axis=1,inplace=True)\n",
    "print(data.shape)"
   ]
  },
  {
   "cell_type": "code",
   "execution_count": null,
   "id": "8b090fb0-53ec-455d-bebc-a0f3b8003ae2",
   "metadata": {},
   "outputs": [],
   "source": [
    "# Indices of variables to check for outliers\n",
    "var_ind_num1 =[3,4,19,20,26,34,36,37,38]+list(range(43,53))+[54,56,59,61,62]+list(range(66,72))+list(range(75,78))+[80]\n",
    "\n",
    "# Function to detect outliers\n",
    "def outlier_detector(df,var_ind_num1):\n",
    "    outlier_flags = pd.DataFrame(0,index=df.index,columns=[df.columns[i] for i in var_ind_num1])\n",
    "    for i in var_ind_num1:\n",
    "        if i < len(df.columns)and np.issubdtype(df.iloc[:,i].dtype, np.number):\n",
    "            col=df.iloc[:, i]\n",
    "            lower_bound=np.quantile(col,0.25)-1.5*iqr(col)\n",
    "            upper_bound=np.quantile(col,0.75)+1.5*iqr(col)\n",
    "            outliers=(col<lower_bound)| (col>upper_bound)\n",
    "            outlier_flags.loc[outliers,df.columns[i]] = 1\n",
    "    return outlier_flags\n",
    "\n",
    "# Detect outliers\n",
    "outlier_flags=outlier_detector(df,var_ind_num1)\n",
    "\n",
    "# Calculate the number of outliers per row\n",
    "outlier_counts=outlier_flags.sum(axis=1)\n",
    "\n",
    "# Sort the outlier counts\n",
    "sorted_outlier_counts=outlier_counts.sort_values(ascending=False)\n",
    "print(sorted_outlier_counts)"
   ]
  },
  {
   "cell_type": "code",
   "execution_count": null,
   "id": "97b75181-552c-46e9-adf6-18308ca4da20",
   "metadata": {},
   "outputs": [],
   "source": [
    "# data.iloc[[1298,1182,523], :]"
   ]
  },
  {
   "cell_type": "code",
   "execution_count": null,
   "id": "aba253f7-3c6f-497f-96af-b55693850aa4",
   "metadata": {},
   "outputs": [],
   "source": [
    "data.shape"
   ]
  },
  {
   "cell_type": "code",
   "execution_count": null,
   "id": "407f7619-0678-4746-b80c-83a15646399b",
   "metadata": {},
   "outputs": [],
   "source": [
    "# Scatter plot of LotFrontage vs LotArea \n",
    "plt.figure(figsize=(10, 6))\n",
    "\n",
    "# Enhanced scatter plot with color and marker size\n",
    "plt.scatter(data['LotArea'],data['LotFrontage'],alpha=0.6)\n",
    "\n",
    "plt.title('LotFrontage vs LotArea')\n",
    "plt.xlabel('LotArea')\n",
    "plt.ylabel('LotFrontage')\n",
    "plt.show()"
   ]
  },
  {
   "cell_type": "code",
   "execution_count": null,
   "id": "b484966a-5431-4c61-88c6-af5084817e7d",
   "metadata": {},
   "outputs": [],
   "source": [
    "# Box plot of LotFrontage by Neighborhood\n",
    "plt.figure(figsize=(12, 8))\n",
    "plt.boxplot(data['LotFrontage'])\n",
    "# plt.box(data['LotArea'], data['LotFrontage'])\n",
    "plt.title('LotFrontage by Neighborhood')\n",
    "plt.xlabel('Neighborhood')\n",
    "plt.ylabel('LotFrontage')\n",
    "plt.xticks(rotation=90)\n",
    "plt.show()"
   ]
  },
  {
   "cell_type": "code",
   "execution_count": null,
   "id": "ed98adc8-003c-4329-bf76-21a250d656ca",
   "metadata": {},
   "outputs": [],
   "source": [
    "summary_stats=data.groupby('Neighborhood')['LotFrontage'].describe()\n",
    "print(summary_stats)"
   ]
  },
  {
   "cell_type": "code",
   "execution_count": null,
   "id": "20910607-1cbe-494e-8e8a-8c2888386640",
   "metadata": {},
   "outputs": [],
   "source": [
    "#summary statistics of numeric variables\n",
    "data.iloc[:,var_ind_num1].describe()"
   ]
  },
  {
   "cell_type": "markdown",
   "id": "a95cb101-a67e-48bf-96ba-30fcdc62131e",
   "metadata": {},
   "source": [
    "# Data understanding- Phase2"
   ]
  },
  {
   "cell_type": "code",
   "execution_count": null,
   "id": "b4c42fce-008d-4ef6-857e-b0d464102e20",
   "metadata": {},
   "outputs": [],
   "source": [
    "data.info()"
   ]
  },
  {
   "cell_type": "code",
   "execution_count": null,
   "id": "4d4357ff-b378-434c-9517-a59e2df94d2e",
   "metadata": {},
   "outputs": [],
   "source": [
    "# List of all numeric variables after converting ordinal variables to numeric\n",
    "var_ind_num2=[3,4,19,20,26,34,36,37,38]+list(range(43,53))+[54,56,59,61,62]+list(range(66,72))+list(range(75,78))+[80]+list(range(81,100))\n",
    "# var_ind_num2\n",
    "len(var_ind_num2)"
   ]
  },
  {
   "cell_type": "code",
   "execution_count": null,
   "id": "421e5543-d45a-4fcb-a836-3b377d30f155",
   "metadata": {},
   "outputs": [],
   "source": [
    "# Histogram of numeric variables\n",
    "plt.figure(figsize=(20,20))\n",
    "plt.subplots_adjust(hspace=0.4,wspace=0.4)\n",
    "for i in range(1,53):\n",
    "    plt.subplot(9,6,i)\n",
    "    plt.hist(x=data.iloc[: ,var_ind_num2[i- 1]], \n",
    "             alpha=0.4,color = 'red')\n",
    "    plt.title(data.columns[var_ind_num2[i - 1]])\n",
    "plt.show()"
   ]
  },
  {
   "cell_type": "markdown",
   "id": "f7aecb3e-967d-4b20-b3f7-d72eb7ba9da6",
   "metadata": {},
   "source": [
    "5: Bivariate data analysis"
   ]
  },
  {
   "cell_type": "code",
   "execution_count": null,
   "id": "80f4a3e1-2d98-4a34-ae0f-a482b6beda41",
   "metadata": {},
   "outputs": [],
   "source": [
    "#Correlation analysis after converting ordinal variables to numeric\n",
    "corr_table=round(data.iloc[:,var_ind_num2].corr(method='pearson'),2)\n",
    "corr_table"
   ]
  },
  {
   "cell_type": "code",
   "execution_count": null,
   "id": "391cbbb4-7678-4004-8cf2-4c841f8a16bf",
   "metadata": {},
   "outputs": [],
   "source": [
    "#Scatter plot for numeric variables after converting ordinal variables to numeric\n",
    "plt.figure(figsize=(20,20))\n",
    "plt.subplots_adjust(hspace=0.3,wspace=0.3)\n",
    "for i in range(1,29):\n",
    "    plt.subplot(7,5,i)\n",
    "    plt.scatter(x=data.iloc[: ,var_ind_num2[i - 1]],y=data['SalePrice'],alpha=0.4,color='red')\n",
    "    plt.title('SalePrice vs. '+data.columns[var_ind_num2[i - 1]])\n",
    "plt.show()"
   ]
  },
  {
   "cell_type": "code",
   "execution_count": null,
   "id": "33fc1c21-8485-43ee-913a-0fd1661d9ffe",
   "metadata": {},
   "outputs": [],
   "source": [
    "var_ind_cat2=[1,2,5,6,8,9,10]+list(range(12,17))+list(range(21,26))+[29,39,41,42,58,74,78,79] "
   ]
  },
  {
   "cell_type": "code",
   "execution_count": null,
   "id": "d4aea6d1-9c1e-4de3-8e8d-1f80747caa89",
   "metadata": {},
   "outputs": [],
   "source": [
    "# list of categorical column\n",
    "col_cat2=[data.columns[i] for i in var_ind_cat2]\n",
    "\n",
    "# subplots\n",
    "fig,axes=plt.subplots(len(col_cat2),1,figsize=(8,6*len(col_cat2)))\n",
    "\n",
    "# If there's only one plot\n",
    "if len(col_cat2)==1:\n",
    "    axes=[axes]\n",
    "\n",
    "# Loop over each categorical column and plot the boxplot\n",
    "for ax,col in zip(axes,col_cat2):\n",
    "    # Ensure categories are sorted to maintain consistent order\n",
    "    categories=sorted(data[col].dropna().unique())\n",
    "    \n",
    "    # ensuring non-empty categories\n",
    "    data_to_plot=[data[data[col]==category]['SalePrice'] for category in categories]\n",
    "    \n",
    "    # Plot the boxplot\n",
    "    ax.boxplot(data_to_plot,labels=categories)\n",
    "    ax.set_title(f'Box Plot of SalePrice by {col}')\n",
    "    ax.set_xlabel(col)\n",
    "    ax.set_ylabel('SalePrice')\n",
    "    ax.tick_params(axis='x',rotation=45)\n",
    "plt.subplots_adjust(hspace=0.4)\n",
    "plt.show()"
   ]
  },
  {
   "cell_type": "markdown",
   "id": "75c184f6-49f3-4f72-997d-d4b0444d82b0",
   "metadata": {},
   "source": [
    "# Model I: Biuld Classic Linear Regression Model"
   ]
  },
  {
   "cell_type": "code",
   "execution_count": null,
   "id": "4fb717bc-79bb-4668-b8a6-23640128a3c5",
   "metadata": {},
   "outputs": [],
   "source": [
    "# Train data\n",
    "train=data\n",
    "train.info()\n",
    "# print(train.head(4))"
   ]
  },
  {
   "cell_type": "code",
   "execution_count": null,
   "id": "3d0c376c-9f42-4416-a3b8-e43033a70d59",
   "metadata": {},
   "outputs": [],
   "source": [
    "# Convert 'MSSubClass' to string type\n",
    "train['MSSubClass']=train['MSSubClass'].astype(str)"
   ]
  },
  {
   "cell_type": "code",
   "execution_count": null,
   "id": "1c2ac927-e620-49bf-8e98-cc621d1b1b5d",
   "metadata": {},
   "outputs": [],
   "source": [
    "#Split Train data into test and train for validation (named trainv & testv)\n",
    "from sklearn.model_selection import train_test_split\n",
    "trainv, testv = train_test_split(data, test_size = 0.3, random_state = 1234)\n",
    "print(trainv.shape)\n",
    "print(testv.shape)\n"
   ]
  },
  {
   "cell_type": "code",
   "execution_count": null,
   "id": "65b7c1d3-081c-4b3a-b3fc-657a03a80f56",
   "metadata": {},
   "outputs": [],
   "source": [
    "#Create dummy variables for categorical variables\n",
    "dummy_vars_trv=pd.get_dummies(trainv[['MSSubClass','MSZoning','Street','Alley','LandContour',\n",
    "                                   'Utilities','LotConfig','Neighborhood','Condition1', 'Condition2',\n",
    "                                   'BldgType','HouseStyle','RoofStyle','Heating','RoofMatl',\n",
    "                                   'Exterior1st','Exterior2nd','MasVnrType','Foundation','CentralAir',\n",
    "                                   'Electrical','GarageType','MiscFeature','SaleType','SaleCondition']])\n",
    "                                   \n",
    "# dummy_vars containing only 0 and 1                                 \n",
    "dummy_vars_trv=dummy_vars_trv.astype(int)\n",
    "\n",
    "print(dummy_vars_trv.head(2))\n",
    "dummy_vars_trv.info()"
   ]
  },
  {
   "cell_type": "code",
   "execution_count": null,
   "id": "3642e2c0-a17f-41ef-a17c-4128fb18743b",
   "metadata": {},
   "outputs": [],
   "source": [
    "dummy_vars_trv.shape"
   ]
  },
  {
   "cell_type": "code",
   "execution_count": null,
   "id": "d89be95b-7772-4920-a6b4-09838c0b83ea",
   "metadata": {},
   "outputs": [],
   "source": [
    "# Define base level for each categorical variable According to frequency percentage of each level\n",
    "dummy_vars_trv.drop(columns = ['MSSubClass_20','MSZoning_RL','Street_Pave','Alley_NA','LandContour_Lvl','Utilities_AllPub',\n",
    "                           'LotConfig_Inside', 'Neighborhood_NAmes', 'Condition1_Norm','Condition2_Norm','BldgType_1Fam',\n",
    "                           'HouseStyle_1Story','RoofStyle_Gable','RoofMatl_CompShg','Exterior1st_VinylSd','Exterior2nd_VinylSd',\n",
    "                           'MasVnrType_none','Foundation_PConc','CentralAir_Y','Heating_GasA','Electrical_SBrkr',\n",
    "                           'GarageType_Attchd','SaleType_WD','SaleCondition_Normal','MiscFeature_NA'], inplace = True)\n",
    "dummy_vars_trv.info()"
   ]
  },
  {
   "cell_type": "code",
   "execution_count": null,
   "id": "2be98048-cbed-474c-9cd2-e07af8a88127",
   "metadata": {},
   "outputs": [],
   "source": [
    "print(dummy_vars_trv.shape)\n",
    "print(trainv.shape)"
   ]
  },
  {
   "cell_type": "code",
   "execution_count": null,
   "id": "b144004f-7b55-450e-840f-1fffa557320a",
   "metadata": {},
   "outputs": [],
   "source": [
    "dummy_vars_trv"
   ]
  },
  {
   "cell_type": "code",
   "execution_count": null,
   "id": "dd9968af-155f-4676-aa06-6a7d1bebcb3d",
   "metadata": {},
   "outputs": [],
   "source": [
    "#Define feature matrix\n",
    "# Train All columns except 'SalePrice'\n",
    "X_X=trainv.iloc[:,list(range(0,80))+list(range(81,100))]\n",
    "print(X_X.columns)\n",
    "X_trainv=pd.concat([X_X,dummy_vars_trv], axis = 1)\n",
    "# X_trainv.info()\n",
    "# #add constant\n",
    "X_trainv=sm.add_constant(X_trainv)\n",
    "X_trainv.head(2)"
   ]
  },
  {
   "cell_type": "code",
   "execution_count": null,
   "id": "3fc2c873-dd1a-42dd-8b86-181244bf76da",
   "metadata": {},
   "outputs": [],
   "source": [
    "X_trainv.shape"
   ]
  },
  {
   "cell_type": "code",
   "execution_count": null,
   "id": "19be75d5-318f-4cd4-9f07-4474edfba0bc",
   "metadata": {},
   "outputs": [],
   "source": [
    "# Remove coloumn'Id'\n",
    "X_trainv.drop(columns=['Id'],inplace=True)\n",
    "print(X_trainv.shape)\n",
    "X_trainv.head()"
   ]
  },
  {
   "cell_type": "code",
   "execution_count": null,
   "id": "27f67200-7465-4de0-8d6f-6b6e6f71ae25",
   "metadata": {},
   "outputs": [],
   "source": [
    "X_trainv.shape"
   ]
  },
  {
   "cell_type": "code",
   "execution_count": null,
   "id": "4790d956-0641-4e69-9f72-a6601b1c6d09",
   "metadata": {},
   "outputs": [],
   "source": [
    "# Define response matrix\n",
    "y_trainv=trainv['SalePrice']\n",
    "print(len(y_trainv))\n",
    "y_trainv"
   ]
  },
  {
   "cell_type": "code",
   "execution_count": null,
   "id": "5bfd4e6e-4b45-4b06-b185-ddd117d7b5d8",
   "metadata": {},
   "outputs": [],
   "source": [
    "X_trainv=X_trainv.drop(columns=X_trainv.select_dtypes(include=['object']).columns)\n",
    "# Check the data types of the cleaned DataFrame\n",
    "print(X_trainv.dtypes)\n",
    "X_trainv.info()"
   ]
  },
  {
   "cell_type": "code",
   "execution_count": null,
   "id": "28418ae9-88aa-496f-b1e0-9130bc7eebdc",
   "metadata": {},
   "outputs": [],
   "source": [
    "# Convert float64 and int32 columns to int64\n",
    "X_trainv=X_trainv.astype({col:'int64' for col in X_trainv.select_dtypes(include=['float64','int32']).columns})\n",
    "\n",
    "# Check the data types of the columns to verify the conversion\n",
    "print(X_trainv.dtypes)"
   ]
  },
  {
   "cell_type": "code",
   "execution_count": null,
   "id": "3be921a2-adf2-4c23-aed6-6da68ce622d1",
   "metadata": {},
   "outputs": [],
   "source": [
    "X_trainv.shape"
   ]
  },
  {
   "cell_type": "code",
   "execution_count": null,
   "id": "e0785353-0a41-4284-b5ef-5a4cd0e49ff0",
   "metadata": {},
   "outputs": [],
   "source": [
    "#Linear regression- model 1\n",
    "model_1=sm.OLS(y_trainv,X_trainv).fit()\n",
    "model_1.summary()"
   ]
  },
  {
   "cell_type": "code",
   "execution_count": null,
   "id": "6d762a71-2888-48a7-805b-2639dbc92b2a",
   "metadata": {},
   "outputs": [],
   "source": [
    "# Function to plot histogram of residuals\n",
    "def hist_residuals(model,bins = 50):\n",
    "    #Calculate density\n",
    "    from scipy import stats\n",
    "    density=stats.gaussian_kde(model.resid)\n",
    "    xp=np.linspace(model.resid.min(),model.resid.max(), 100)\n",
    "    yp=density.pdf(xp)\n",
    "\n",
    "    #Histogram\n",
    "    plt.hist(model.resid,bins=bins, \n",
    "             color='red',alpha = 0.7,density = True)\n",
    "    plt.axvline(model.resid.mean(), color='black', \n",
    "                linewidth=2, linestyle='--', label = \"Average\")\n",
    "    plt.title('Histogram of Residuals')\n",
    "    plt.xlabel('Residuals')\n",
    "    plt.ylabel('Density')\n",
    "    plt.plot(xp,yp,color='black',linewidth = 2)\n",
    "    plt.legend()\n",
    "    \n",
    "    return plt.show()  "
   ]
  },
  {
   "cell_type": "code",
   "execution_count": null,
   "id": "c6b84ff7-5742-493d-849c-39444b781178",
   "metadata": {},
   "outputs": [],
   "source": [
    "#QQ-plot- model 1\n",
    "sm.qqplot(model_1.resid,line = 's')\n",
    "plt.show()"
   ]
  },
  {
   "cell_type": "code",
   "execution_count": null,
   "id": "7caf6ab2-c7b8-4d38-b98b-8a8625c25fdd",
   "metadata": {},
   "outputs": [],
   "source": [
    "# Function to plot residuals vs. fitted values\n",
    "def residuals_fittedvalues_plot(model):\n",
    "    # Implement Lowess algorithm\n",
    "    lowess_res=sm.nonparametric.lowess(model.resid, model.fittedvalues)\n",
    "\n",
    "    # Scatter plot: residuals vs. fitted values\n",
    "    plt.scatter(x=model.fittedvalues,y = model.resid, \n",
    "                color='red',alpha = 0.7,label = 'data')\n",
    "    plt.title('Residuals vs. Fitted values')\n",
    "    plt.xlabel('Fitted Values',fontsize = 12)\n",
    "    plt.ylabel('Residuals',fontsize = 12)\n",
    "    plt.grid()\n",
    "\n",
    "    # Add LOWESS line\n",
    "    plt.plot(lowess_res[:, 0],lowess_res[:, 1],'black', \n",
    "             alpha = 0.8,linewidth = 2,label='LOWESS')\n",
    "    plt.legend()\n",
    "\n",
    "    # Top 3 observations with greates absolute value of the residual\n",
    "    top3=abs(model.resid).sort_values(ascending=False)[:3]\n",
    "    for i in top3.index:\n",
    "        plt.annotate(i,xy=(model.fittedvalues[i],model.resid[i]),color='blue')\n",
    "    \n",
    "    return plt.show()"
   ]
  },
  {
   "cell_type": "code",
   "execution_count": null,
   "id": "b602bdba-6051-4811-aebe-ffd5a0917279",
   "metadata": {},
   "outputs": [],
   "source": [
    "# Scatter plot of residuals vs. fitted values- model 1\n",
    "residuals_fittedvalues_plot(model_1)"
   ]
  },
  {
   "cell_type": "code",
   "execution_count": null,
   "id": "46d61589-fed6-4acb-aaec-79ef7e94198b",
   "metadata": {},
   "outputs": [],
   "source": [
    "# trainv.loc[[825,523,691],:]"
   ]
  },
  {
   "cell_type": "code",
   "execution_count": null,
   "id": "085a31f8-33b0-47e5-b5b3-c7ca370a6fa4",
   "metadata": {},
   "outputs": [],
   "source": [
    "#Function to check Cook's distance\n",
    "def influencer_detector(model,thershold = 1):\n",
    "    \n",
    "    #create instance of influence\n",
    "    influence=model.get_influence()\n",
    "\n",
    "    #Obtain Cook's distance for each observation\n",
    "    cooks=influence.cooks_distance\n",
    "\n",
    "    #Check observations w/ Cook's distance greater than thershold\n",
    "    return np.where(cooks[0] > 1)"
   ]
  },
  {
   "cell_type": "code",
   "execution_count": null,
   "id": "d453c00a-ad48-4ccc-aa9c-ef35cb5d2932",
   "metadata": {},
   "outputs": [],
   "source": [
    "# #Check Cook's ditance- model 1\n",
    "# influencer_detector(model_1)"
   ]
  },
  {
   "cell_type": "code",
   "execution_count": null,
   "id": "67afd228-bb6d-451a-a9c4-57f10e973809",
   "metadata": {},
   "outputs": [],
   "source": [
    "# trainv.loc[[65,   83,   91,  761,  819,  897, 1059, 1118], :]"
   ]
  },
  {
   "cell_type": "code",
   "execution_count": null,
   "id": "428a180d-7b66-4560-a9d3-8f758675ae85",
   "metadata": {},
   "outputs": [],
   "source": [
    "# #List of all numeric variables after converting ordinal variables to numeric (not including 'Saleprice')\n",
    "# var_ind_num3=[3,4,19,20,26,34,36,37,38]+ list(range(43,53))+[54,56,59,61,62]+list(range(66,72))+list(range(75,78))+list(range(81,100))\n",
    "# # var_ind_num2\n",
    "# len(var_ind_num3)"
   ]
  },
  {
   "cell_type": "code",
   "execution_count": null,
   "id": "cd4709c3-fa7f-4187-b49d-729ebe2474d8",
   "metadata": {},
   "outputs": [],
   "source": [
    "#Function to check multicollinearity\n",
    "from statsmodels.stats.outliers_influence import variance_inflation_factor\n",
    "\n",
    "def calc_vif(X):\n",
    "    #Calculating VIF\n",
    "    vif = pd.DataFrame()\n",
    "    vif[\"variables\"]=X.columns\n",
    "    vif[\"VIF\"]=[variance_inflation_factor(X, i) for i in range(X.shape[1])]\n",
    "    return(vif)"
   ]
  },
  {
   "cell_type": "code",
   "execution_count": null,
   "id": "cd0e97b9-2e88-453a-a390-313b3e3e8045",
   "metadata": {},
   "outputs": [],
   "source": [
    "#Check multicollinearity for numeric variables\n",
    "calc_vif(X_trainv)\n",
    "#Note: If VIF > 10 then multicollinearity is high"
   ]
  },
  {
   "cell_type": "code",
   "execution_count": null,
   "id": "31b4f314-fbce-4905-985d-92b1673a86f1",
   "metadata": {},
   "outputs": [],
   "source": [
    "# Regularization: Techniques like Ridge or Lasso regression can help address multicollinearity by adding a penalty to the size of coefficients\n",
    "# ], which can mitigate the impact of collinear variables.\n",
    "# very large: Extreme collinearity, meaning the variable is nearly a perfect linear combination of other variables.Bad model!"
   ]
  },
  {
   "cell_type": "code",
   "execution_count": null,
   "id": "1f8381b3-7673-41b4-a5fa-3fb852ac0c8f",
   "metadata": {},
   "outputs": [],
   "source": [
    "# Box-Cox transformation\n",
    "from sklearn.preprocessing import PowerTransformer\n",
    "boxcox=PowerTransformer(method='box-cox')\n",
    "boxcox.fit(y_trainv.values.reshape(-1, 1))\n",
    "boxcox.lambdas_"
   ]
  },
  {
   "cell_type": "code",
   "execution_count": null,
   "id": "565967a2-d5d9-4ebf-ac96-8a10e8d2c7bf",
   "metadata": {},
   "outputs": [],
   "source": [
    "#Linear regression-model 1 with Box-Cox transformation\n",
    "trans_y_trainv=boxcox.fit_transform(y_trainv.values.reshape(-1, 1))\n",
    "plt.hist(trans_y_trainv,color='red',alpha = 0.5,bins = 50)\n",
    "plt.show()"
   ]
  },
  {
   "cell_type": "code",
   "execution_count": null,
   "id": "33f8f325-c06a-4277-b20d-eeda5b4edfe7",
   "metadata": {},
   "outputs": [],
   "source": [
    "model_1=sm.OLS(trans_y_trainv,X_trainv).fit()\n",
    "model_1.summary()"
   ]
  },
  {
   "cell_type": "code",
   "execution_count": null,
   "id": "7c6e3ffa-7ed8-4a45-adec-edd1c4b5d067",
   "metadata": {},
   "outputs": [],
   "source": [
    "# Histogram of residuals- model 1 with Box-Cox transformation\n",
    "hist_residuals(model_1)"
   ]
  },
  {
   "cell_type": "code",
   "execution_count": null,
   "id": "07a00913-9ba7-4171-ab1e-0466785c9fb4",
   "metadata": {},
   "outputs": [],
   "source": [
    "# QQ-plot- model 1 with Box-Cox transformation\n",
    "sm.qqplot(model_1.resid,line='s')\n",
    "plt.show()"
   ]
  },
  {
   "cell_type": "code",
   "execution_count": null,
   "id": "2050e7a3-2a81-46ea-b644-ccb1d3bd2ea8",
   "metadata": {},
   "outputs": [],
   "source": [
    "# Scatter plot of residuals vs. fitted values- model 1 with Box-Cox transformation\n",
    "residuals_fittedvalues_plot(model_1)"
   ]
  },
  {
   "cell_type": "code",
   "execution_count": null,
   "id": "9ced7289-3db3-42bb-a726-940179546e94",
   "metadata": {},
   "outputs": [],
   "source": [
    "# trainv.loc[[462,632,523], :]"
   ]
  },
  {
   "cell_type": "code",
   "execution_count": null,
   "id": "193fb3d9-faf2-42dd-915a-2aa9506db9e3",
   "metadata": {},
   "outputs": [],
   "source": [
    "# Check Cook's ditance- model 1 with Box-Cox transformation\n",
    "# influencer_detector(model_1)"
   ]
  },
  {
   "cell_type": "code",
   "execution_count": null,
   "id": "e63dafd9-98ae-49db-9e26-5fcbf7313a94",
   "metadata": {},
   "outputs": [],
   "source": [
    "# X_trainv.loc[[ 22,   65,   83,   91,  761,  819,  897, 1059, 1118], :]"
   ]
  },
  {
   "cell_type": "code",
   "execution_count": null,
   "id": "15c14e3d-f36b-4f8e-90f3-413e0c7a866d",
   "metadata": {},
   "outputs": [],
   "source": [
    "# Note: Remove observations \n",
    " # X_train.drop(index =[1322,816,970], inplace = True)\n",
    " # y_train.drop(index =[591,816,970], inplace = True)\n",
    "# trans_y_train=PowerTransformer(method='box-cox').fit_transform(y_train.values.reshape(-1, 1))"
   ]
  },
  {
   "cell_type": "code",
   "execution_count": null,
   "id": "8be8acbf-72a5-41ef-83a5-f4f0bdf69e73",
   "metadata": {},
   "outputs": [],
   "source": [
    "model_1 = sm.OLS(trans_y_trainv,X_trainv).fit()\n",
    "model_1.summary()"
   ]
  },
  {
   "cell_type": "code",
   "execution_count": null,
   "id": "74d4ba69-d904-4d20-ab64-b5b97fc06f4e",
   "metadata": {},
   "outputs": [],
   "source": [
    "# Get the p-values from the model\n",
    "pvalues=model_1.pvalues\n",
    "\n",
    "# Define the significance level (alpha)\n",
    "alpha=0.05\n",
    "\n",
    "# Identify columns with p-value greater than alpha\n",
    "non_significant_columns=pvalues[pvalues>alpha].index\n",
    "print(\"Non-significant columns to drop:\",non_significant_columns)\n",
    "# Drop non-significant columns from the original X_trainv DataFrame\n",
    "X_trainv_significant=X_trainv.drop(columns=non_significant_columns)\n",
    "\n",
    "# Refit the model with the remaining significant columns\n",
    "model_1_significant=sm.OLS(trans_y_trainv, X_trainv_significant).fit()\n",
    "\n",
    "# Summary of the new model\n",
    "print(model_1_significant.summary())\n",
    "# Start with the original X_trainv\n",
    "X_trainv_current=X_trainv.copy()\n",
    "\n",
    "while True:\n",
    "    model = sm.OLS(trans_y_trainv, X_trainv_current).fit()\n",
    "    pvalues = model.pvalues\n",
    "\n",
    "    # Check if all p-values are below the significance level\n",
    "    if pvalues.max()>alpha:\n",
    "        # Drop the column with the highest p-value\n",
    "        non_significant_column = pvalues.idxmax()\n",
    "        print(f\"Dropping non-significant column: {non_significant_column} with p-value: {pvalues.max()}\")\n",
    "        X_trainv_current = X_trainv_current.drop(columns=[non_significant_column])\n",
    "    else:\n",
    "        break"
   ]
  },
  {
   "cell_type": "code",
   "execution_count": null,
   "id": "0c9eb3c3-d1f5-422a-8bad-20ac6fa734bd",
   "metadata": {},
   "outputs": [],
   "source": [
    " # X_train.drop(index=[1322,816,970],inplace = True)\n",
    "y_trainv_current=y_trainv.drop(columns=[non_significant_column])\n",
    "# X_trainv_current=X_trainv_current.drop(columns=[non_significant_column])"
   ]
  },
  {
   "cell_type": "code",
   "execution_count": null,
   "id": "d21a0d37-c168-4d39-967a-3f1d409cb587",
   "metadata": {},
   "outputs": [],
   "source": [
    "y_trainv_current.shape"
   ]
  },
  {
   "cell_type": "code",
   "execution_count": null,
   "id": "7b49abe0-c401-481f-b4b6-df9816a52052",
   "metadata": {},
   "outputs": [],
   "source": [
    "X_trainv.shape"
   ]
  },
  {
   "cell_type": "code",
   "execution_count": null,
   "id": "f82c0f7c-84d3-496c-97e9-49f6ca5efb2d",
   "metadata": {},
   "outputs": [],
   "source": [
    "X_trainv_current.shape"
   ]
  },
  {
   "cell_type": "code",
   "execution_count": null,
   "id": "273a75dd-9de2-4958-b126-f4651979fd1a",
   "metadata": {},
   "outputs": [],
   "source": [
    "X_trainv_current=sm.add_constant(X_trainv_current)"
   ]
  },
  {
   "cell_type": "code",
   "execution_count": null,
   "id": "d61d5524-61d4-450b-a1bf-a119f0d991a7",
   "metadata": {},
   "outputs": [],
   "source": [
    "trans_y_trainv_current=PowerTransformer(method='box-cox').fit_transform(y_trainv_current.values.reshape(-1, 1))"
   ]
  },
  {
   "cell_type": "code",
   "execution_count": null,
   "id": "9d01fad6-340e-4f8e-b668-1a825d7561f4",
   "metadata": {},
   "outputs": [],
   "source": [
    "#Linear regression - model 1 with Box-Cox transformation and significant columns (t_test)\n",
    "model_final=sm.OLS(trans_y_trainv_current,X_trainv_current).fit()\n",
    "print(model_final.summary())"
   ]
  },
  {
   "cell_type": "code",
   "execution_count": null,
   "id": "a74551d6-f41b-4926-a034-efb17fdf7053",
   "metadata": {},
   "outputs": [],
   "source": [
    "# Histogram of residuals- mode_final\n",
    "hist_residuals(model_final)"
   ]
  },
  {
   "cell_type": "code",
   "execution_count": null,
   "id": "5eed3036-9836-4701-a099-8b6c855d4ecb",
   "metadata": {},
   "outputs": [],
   "source": [
    "#Scatter plot of residuals vs. fitted values- mode_final\n",
    "residuals_fittedvalues_plot(model_final)"
   ]
  },
  {
   "cell_type": "code",
   "execution_count": null,
   "id": "04a59946-1762-4a1d-9c85-df6464da731c",
   "metadata": {},
   "outputs": [],
   "source": [
    "# trainv.loc[[825,523,632], :]"
   ]
  },
  {
   "cell_type": "code",
   "execution_count": null,
   "id": "5da7c7ae-d45d-4052-b7cc-841a0e6b4535",
   "metadata": {},
   "outputs": [],
   "source": [
    "# #Check Cook's ditance- model_final\n",
    "influencer_detector(model_final)"
   ]
  },
  {
   "cell_type": "code",
   "execution_count": null,
   "id": "9f79dd01-5a1c-45ef-abcf-0a7d63167497",
   "metadata": {},
   "outputs": [],
   "source": [
    "# trainv.loc[[ 173, 185, 507, 995], :]"
   ]
  },
  {
   "cell_type": "code",
   "execution_count": null,
   "id": "ab156af0-0050-47a1-b181-055928658c80",
   "metadata": {},
   "outputs": [],
   "source": [
    "# # Filter out variables with high VIF (>10)\n",
    "# filtered = vif_df[vif_df['VIF'] > 10]\n",
    "# # filtered_vif_df = vif_df[vif_df['VIF'] <= 10]\n",
    "# print(filtered)\n",
    "# # print(filtered_vif_df)"
   ]
  },
  {
   "cell_type": "markdown",
   "id": "f6aefd0a-0017-4cb4-aead-1e6c61d4a9b3",
   "metadata": {},
   "source": [
    "## Evaluation on the Validation Set (Classic Regression)"
   ]
  },
  {
   "cell_type": "code",
   "execution_count": null,
   "id": "c348169f-2e70-45a1-b7c6-5b673183f829",
   "metadata": {},
   "outputs": [],
   "source": [
    "testv.info()"
   ]
  },
  {
   "cell_type": "code",
   "execution_count": null,
   "id": "9d835ee6-c333-4c32-87f4-8cc33d1830a7",
   "metadata": {},
   "outputs": [],
   "source": [
    " #Create dummy variables for categorical variables\n",
    "dummy_vars_tev=pd.get_dummies(testv[['MSSubClass','MSZoning','Street','Alley','LandContour',\n",
    "                                   'Utilities','LotConfig','Neighborhood','Condition1', 'Condition2',\n",
    "                                   'BldgType','HouseStyle','RoofStyle','Heating','RoofMatl',\n",
    "                                   'Exterior1st','Exterior2nd','MasVnrType','Foundation','CentralAir',\n",
    "                                   'Electrical','GarageType','MiscFeature','SaleType','SaleCondition']])\n",
    "                                   \n",
    "# dummy_vars containing only 0 and 1                                 \n",
    "dummy_vars_tev=dummy_vars_tev.astype(int)\n",
    "\n",
    "# print(dummy_vars_tev.head(2))\n",
    "dummy_vars_tev.info()"
   ]
  },
  {
   "cell_type": "code",
   "execution_count": null,
   "id": "f6a6aeb4-4115-4660-9892-4679ba5c61b3",
   "metadata": {},
   "outputs": [],
   "source": [
    "dummy_vars_trv.shape"
   ]
  },
  {
   "cell_type": "code",
   "execution_count": null,
   "id": "8f3f4e49-e85a-4552-be9f-ab236c7a9614",
   "metadata": {},
   "outputs": [],
   "source": [
    "dummy_vars_tev.shape"
   ]
  },
  {
   "cell_type": "code",
   "execution_count": null,
   "id": "f925c16e-cf1d-40e1-bb13-d2f5d616fc00",
   "metadata": {},
   "outputs": [],
   "source": [
    "# Define base level for each categorical variable Acco8rding to train data set\n",
    "dummy_vars_tev.drop(columns=['MSSubClass_20','MSZoning_RL','Street_Pave','Alley_NA','LandContour_Lvl','Utilities_AllPub',\n",
    "                           'LotConfig_Inside', 'Neighborhood_NAmes', 'Condition1_Norm','Condition2_Norm','BldgType_1Fam',\n",
    "                           'HouseStyle_1Story','RoofStyle_Gable','RoofMatl_CompShg','Exterior1st_VinylSd','Exterior2nd_VinylSd',\n",
    "                           'MasVnrType_none','Foundation_PConc','CentralAir_Y','Heating_GasA','Electrical_SBrkr',\n",
    "                           'GarageType_Attchd','SaleType_WD','SaleCondition_Normal','MiscFeature_NA'], inplace = True)\n",
    "dummy_vars_tev.info()"
   ]
  },
  {
   "cell_type": "code",
   "execution_count": null,
   "id": "823c8599-f6c8-44d9-9960-65c38d09e818",
   "metadata": {},
   "outputs": [],
   "source": [
    "dummy_vars_tev=dummy_vars_tev.reindex(columns=dummy_vars_trv.columns,fill_value=0)"
   ]
  },
  {
   "cell_type": "code",
   "execution_count": null,
   "id": "9d376864-78f0-4c68-aee9-0704f25098fa",
   "metadata": {},
   "outputs": [],
   "source": [
    "print(dummy_vars_trv.shape)\n",
    "print(trainv.shape)\n",
    "\n",
    "\n",
    "print(dummy_vars_tev.shape)\n",
    "print(testv.shape)\n",
    "# print(testv.info)"
   ]
  },
  {
   "cell_type": "code",
   "execution_count": null,
   "id": "66a6b93b-82c7-46a3-a545-f0b4f9a447c2",
   "metadata": {},
   "outputs": [],
   "source": [
    "# Define feature matrix\n",
    "# Train All columns except 'SalePrice'\n",
    "X_X=testv.iloc[:,list(range(0,80))+list(range(81,100))]\n",
    "# print(X_X.columns)\n",
    "X_testv=pd.concat([X_X,dummy_vars_tev],axis = 1)\n",
    "#add constant\n",
    "# X_testv=sm.add_constant(X_testv) \n",
    "X_testv = sm.add_constant(X_testv,has_constant='add')\n",
    "X_testv.shape\n",
    "print(X_testv.columns)"
   ]
  },
  {
   "cell_type": "code",
   "execution_count": null,
   "id": "55a54616-4f6e-4ae3-858a-15c65e6068bd",
   "metadata": {},
   "outputs": [],
   "source": [
    "# Remove coloumn'Id'\n",
    "X_testv.drop(columns=['Id'],inplace=True)\n",
    "X_testv.shape"
   ]
  },
  {
   "cell_type": "code",
   "execution_count": null,
   "id": "2f8cef89-5603-417e-bbfc-115bc2eea4c4",
   "metadata": {},
   "outputs": [],
   "source": [
    "X_testv=X_testv.drop(columns=X_testv.select_dtypes(include=['object']).columns)\n",
    "# Check the data types of the cleaned DataFrame\n",
    "print(X_testv.dtypes)\n",
    "print(X_testv.shape)"
   ]
  },
  {
   "cell_type": "code",
   "execution_count": null,
   "id": "fbd81552-df59-4289-a6c4-d70394cdea19",
   "metadata": {},
   "outputs": [],
   "source": [
    "# Convert float64 and int32 columns to int64\n",
    "X_testv=X_testv.astype({col:'int64' for col in X_testv.select_dtypes(include=['float64','int32']).columns})\n",
    "\n",
    "# Check the data types of the columns to verify the conversion\n",
    "print(X_testv.dtypes)"
   ]
  },
  {
   "cell_type": "code",
   "execution_count": null,
   "id": "816b610f-8184-4b82-bc2a-e9ad894b4ab1",
   "metadata": {},
   "outputs": [],
   "source": [
    "#Linear regression - model 1 with Box-Cox transformation and significant columns (t_test)\n",
    "model_final=sm.OLS(trans_y_trainv_current,X_trainv_current).fit()\n",
    "# print(model_final.summary())"
   ]
  },
  {
   "cell_type": "code",
   "execution_count": null,
   "id": "917564bd-fc9c-4bdb-9e0d-debf46ad2638",
   "metadata": {},
   "outputs": [],
   "source": [
    "trans_y_trainv_current=PowerTransformer(method = 'box-cox').fit_transform(y_trainv_current.values.reshape(-1, 1))"
   ]
  },
  {
   "cell_type": "code",
   "execution_count": null,
   "id": "d2a9acc0-8c5b-4dd0-beca-77a855acaa3d",
   "metadata": {},
   "outputs": [],
   "source": [
    "X_trainv.info()"
   ]
  },
  {
   "cell_type": "code",
   "execution_count": null,
   "id": "86c8bbd7-2845-46d6-9b95-8266553c6ea0",
   "metadata": {},
   "outputs": [],
   "source": [
    "X_testv.info()"
   ]
  },
  {
   "cell_type": "code",
   "execution_count": null,
   "id": "bb936a8b-987d-4b2a-826a-f324d7314e6e",
   "metadata": {},
   "outputs": [],
   "source": [
    "trans_y_trainv_current.shape"
   ]
  },
  {
   "cell_type": "code",
   "execution_count": null,
   "id": "091bbb90-ecd8-4509-b3e1-c6c6e426294c",
   "metadata": {},
   "outputs": [],
   "source": [
    "#Linear regression- model 1 with Box-Cox transformation and significant columns (t_test)\n",
    "model_final=sm.OLS(trans_y_trainv_current,X_trainv_current).fit()\n",
    "print(model_final.summary())"
   ]
  },
  {
   "cell_type": "code",
   "execution_count": null,
   "id": "db5adaff-4b0e-4d58-a0fb-d5c8dfbfff28",
   "metadata": {},
   "outputs": [],
   "source": [
    "X_trainv_current"
   ]
  },
  {
   "cell_type": "code",
   "execution_count": null,
   "id": "00981e79-cb3b-48da-a1a8-baeb32558761",
   "metadata": {},
   "outputs": [],
   "source": [
    " X_testv.shape"
   ]
  },
  {
   "cell_type": "code",
   "execution_count": null,
   "id": "b59ab8e9-068c-4bef-b610-65e02a596099",
   "metadata": {},
   "outputs": [],
   "source": [
    "# Ensure X_testv only contains the significant columns\n",
    "X_testv_significant=X_testv[X_trainv_current.columns]\n",
    "\n",
    "# Predict using the final model\n",
    "testv_pred=model_final.predict(X_testv_significant)\n",
    "\n",
    "# Output the predictions\n",
    "print(testv_pred)"
   ]
  },
  {
   "cell_type": "code",
   "execution_count": null,
   "id": "f684a807-6a5d-4517-9ad9-971aa1fdb620",
   "metadata": {},
   "outputs": [],
   "source": [
    "# X_testv_significant"
   ]
  },
  {
   "cell_type": "code",
   "execution_count": null,
   "id": "eab6482d-b308-45d9-a00e-660f0b79963a",
   "metadata": {},
   "outputs": [],
   "source": [
    "# X_testv_current=X_testv.drop(columns=[non_significant_column])"
   ]
  },
  {
   "cell_type": "code",
   "execution_count": null,
   "id": "960b34a6-8de6-4b90-aab2-88de3b68578e",
   "metadata": {},
   "outputs": [],
   "source": [
    "# X_testv_current.info()"
   ]
  },
  {
   "cell_type": "code",
   "execution_count": null,
   "id": "68a91b7a-26c1-4b9f-b3cb-ecaa4832c32e",
   "metadata": {},
   "outputs": [],
   "source": [
    "# Predict using the final model\n",
    "testv_pred=model_final.predict(X_testv_significant)\n",
    "\n",
    "# Output the predictions\n",
    "print(testv_pred)"
   ]
  },
  {
   "cell_type": "code",
   "execution_count": null,
   "id": "18c30000-0daf-4608-a4d5-c0693cb93715",
   "metadata": {},
   "outputs": [],
   "source": [
    "# Inverse transformation of predicted values (Linear Model)\n",
    "testv['pred_lm']=pd.Series(boxcox.inverse_transform(testv_pred.values.reshape(-1, 1)).reshape(-1), \n",
    "                         index = testv_pred.index)\n",
    "testv['pred_lm']"
   ]
  },
  {
   "cell_type": "code",
   "execution_count": null,
   "id": "c63bb54e-8ab9-48b4-a977-e20efc1c0e21",
   "metadata": {},
   "outputs": [],
   "source": [
    "# Actual vs. Prediction\n",
    "plt.scatter(x=testv['SalePrice'],y = testv['pred_lm'], \n",
    "            c='black',alpha = 0.3)\n",
    "plt.xlabel('Actual')\n",
    "plt.ylabel('Prediction')\n",
    "plt.title('Actual vs. Prediction T_test')\n",
    "\n",
    "#Add 45 degree line\n",
    "xp = np.linspace(testv['SalePrice'].min(),testv['pred_lm'].max(),100)\n",
    "plt.plot(xp,xp,c ='red',linewidth = 3)\n",
    "plt.show()"
   ]
  },
  {
   "cell_type": "code",
   "execution_count": null,
   "id": "20d4c3a9-4e12-4da6-be2c-660fa55d9534",
   "metadata": {},
   "outputs": [],
   "source": [
    "from scipy.stats import iqr\n",
    "from sklearn.metrics import mean_absolute_error, mean_squared_error, r2_score\n",
    "\n",
    "# Absolute error\n",
    "abs_err_lm=abs(testv['SalePrice']-testv['pred_lm'])\n",
    "\n",
    "# Calculate MAE, MSE, RMSE and Absolute error median, sd, IQR, min, max\n",
    "mae=mean_absolute_error(testv['SalePrice'],testv['pred_lm'])\n",
    "mse=mean_squared_error(testv['SalePrice'],testv['pred_lm'])\n",
    "rmse=np.sqrt(mse)\n",
    "\n",
    "# Display the models comparison DataFrame\n",
    "models_comp=pd.DataFrame({'Mean of AbsErrors(MAE)': abs_err_lm.mean(),\n",
    "                            'MSE' :                   mse,\n",
    "                            'RMSE' :                  rmse,\n",
    "                            'Median of AbsErrors' : abs_err_lm.median(),\n",
    "                            'SD of AbsErrors' :     abs_err_lm.std(),\n",
    "                            'IQR of AbsErrors':     iqr(abs_err_lm),\n",
    "                            'Min of AbsErrors':     abs_err_lm.min(),\n",
    "                            'Max of AbsErrors':     abs_err_lm.max()}, \n",
    "                           index = ['LM_t-Test'])\n",
    "models_comp"
   ]
  },
  {
   "cell_type": "markdown",
   "id": "9bc58386-6177-41d7-8f61-0843e90e23f2",
   "metadata": {},
   "source": [
    "## Forward Selection"
   ]
  },
  {
   "cell_type": "code",
   "execution_count": null,
   "id": "02609b5d-6ae0-4f70-b3a4-0d226383fdc4",
   "metadata": {},
   "outputs": [],
   "source": [
    "# Define function to fit linear regression\n",
    "def fit_lm(feature_set,y,X):\n",
    "    reg_model=sm.OLS(y, X[['const']+list(feature_set)]).fit()\n",
    "    return{'model':reg_model, \n",
    "            'r2':reg_model.rsquared,\n",
    "            'adj_r2':reg_model.rsquared_adj,\n",
    "            'aic':reg_model.aic,\n",
    "            'bic':reg_model.bic}"
   ]
  },
  {
   "cell_type": "code",
   "execution_count": null,
   "id": "bca0d3b4-d86a-4c54-a0f4-f9efacc664ef",
   "metadata": {},
   "outputs": [],
   "source": [
    "# Define function to do forward selection\n",
    "def fwd_selection(features, y, X):\n",
    "    res = []\n",
    "    # Pull out features still needed to process\n",
    "    remaining_features = [ _ for _  in X.iloc[:, 1:].columns if _ not in features]\n",
    "          \n",
    "    # Fit linear model and save the results\n",
    "    for f in remaining_features:\n",
    "        res.append(fit_lm(features+[f], y, X))\n",
    "   \n",
    "    models=pd.DataFrame(res)\n",
    "    \n",
    "    # Choose the model with the highest R squared\n",
    "    best_model=models.iloc[models['r2'].argmax()] \n",
    "    \n",
    "    # Return the best model\n",
    "    return best_model"
   ]
  },
  {
   "cell_type": "code",
   "execution_count": null,
   "id": "2e25c690-7a49-411e-bde7-9b5cd31b61cc",
   "metadata": {},
   "outputs": [],
   "source": [
    "X_trainv.shape"
   ]
  },
  {
   "cell_type": "code",
   "execution_count": null,
   "id": "ee6b51c7-4cd5-4d1c-881a-4aa2734f79f5",
   "metadata": {},
   "outputs": [],
   "source": [
    "len(trans_y_trainv)"
   ]
  },
  {
   "cell_type": "code",
   "execution_count": null,
   "id": "99dedf4f-f668-483f-9df3-71ab508e37ed",
   "metadata": {},
   "outputs": [],
   "source": [
    "#Forward selection implementation\n",
    "import time #to measure the processing time\n",
    "fwd_models=pd.DataFrame(columns=['model','r2','adj_r2','aic','bic'])\n",
    "start_time=time.time()\n",
    "features=[]\n",
    "for i in range(1,len(X_trainv.iloc[:, 1:].columns)+1):\n",
    "    fwd_models.loc[i]=fwd_selection(features,trans_y_trainv,X_trainv)\n",
    "    features=fwd_models.loc[i,'model'].model.exog_names[1:]\n",
    "end_time=time.time()\n",
    "print('The Processing time is: ',end_time-start_time,'seconds')"
   ]
  },
  {
   "cell_type": "markdown",
   "id": "3ad65e0e-d894-4756-ad88-9e30ee8573cd",
   "metadata": {},
   "source": [
    "### Evaluation on the Validation Set (Forward selection)"
   ]
  },
  {
   "cell_type": "code",
   "execution_count": null,
   "id": "f410e2f2-f4c8-44aa-b99b-c734d3732dce",
   "metadata": {},
   "outputs": [],
   "source": [
    "#Models evaluation\n",
    "plt.figure(figsize = (20,12))\n",
    "plt.subplots_adjust(hspace = 0.3,wspace = 0.3)\n",
    "for i in range(1,5):\n",
    "    plt.subplot(2,2,i)\n",
    "    plt.plot(fwd_models.iloc[:, i],'r-o',alpha=0.3,linewidth=2,)\n",
    "    plt.title(fwd_models.columns[i])\n",
    "    plt.xlabel('# of Predictors',fontsize=12)\n",
    "    plt.xticks(range(0,214,15))\n",
    "    plt.ylabel(fwd_models.columns[i],fontsize=12)\n",
    "    plt.grid(True)\n",
    "# Show the plot\n",
    "plt.show()"
   ]
  },
  {
   "cell_type": "code",
   "execution_count": null,
   "id": "4f767c1e-0319-4125-8e73-19b616367523",
   "metadata": {},
   "outputs": [],
   "source": [
    "#Liner model with 105 Variables (based on r2 and observing other 3 plots )\n",
    "fwd_models.loc[105,'model'].params"
   ]
  },
  {
   "cell_type": "code",
   "execution_count": null,
   "id": "21d7e4e9-fc21-46ef-9871-80c07fbc94ea",
   "metadata": {},
   "outputs": [],
   "source": [
    "#Selected features \n",
    "fwd_models.loc[105,'model'].model.exog_names"
   ]
  },
  {
   "cell_type": "code",
   "execution_count": null,
   "id": "60d101b9-caee-4b2b-bb85-c5a90fa5f716",
   "metadata": {},
   "outputs": [],
   "source": [
    "#Predict on test- model 2\n",
    "pred_fwd=fwd_models.loc[105, 'model'].predict(X_testv[fwd_models.loc[105,'model'].model.exog_names])\n",
    "pred_fwd=pd.Series(boxcox.inverse_transform(pred_fwd.values.reshape(-1, 1)).reshape(-1),index=testv.index)\n",
    "# pred_fwd"
   ]
  },
  {
   "cell_type": "code",
   "execution_count": null,
   "id": "a8858724-37f3-4023-b376-9986d779e645",
   "metadata": {},
   "outputs": [],
   "source": [
    "len(pred_fwd)"
   ]
  },
  {
   "cell_type": "code",
   "execution_count": null,
   "id": "2595edeb-5889-4819-88bb-29cbdd1b1900",
   "metadata": {},
   "outputs": [],
   "source": [
    "len(testv['SalePrice'])"
   ]
  },
  {
   "cell_type": "code",
   "execution_count": null,
   "id": "b4820f70-83ad-4a5c-9d7a-be569674fa50",
   "metadata": {},
   "outputs": [],
   "source": [
    "#Absolute error\n",
    "abs_err_fwd=abs(testv['SalePrice']-pred_fwd)\n",
    "\n",
    "# Calculate MAE, MSE, RMSE and Absolute error median, sd, IQR, min, max\n",
    "mae_fwd =mean_absolute_error(testv['SalePrice'], pred_fwd)\n",
    "mse_fwd=mean_squared_error(testv['SalePrice'], pred_fwd)\n",
    "rmse_fwd=np.sqrt(mse_fwd)\n",
    "\n",
    "#Absolute error mean, median, sd, IQR, max, min\n",
    "models_comp = pd.concat([models_comp,\n",
    "                         pd.DataFrame({'Mean of AbsErrors(MAE)': abs_err_fwd.mean(),\n",
    "                            'MSE' :                   mse_fwd,\n",
    "                            'RMSE' :                 rmse_fwd,\n",
    "                            'Median of AbsErrors' : abs_err_fwd.median(),\n",
    "                            'SD of AbsErrors' :     abs_err_fwd.std(),\n",
    "                            'IQR of AbsErrors':     iqr(abs_err_fwd),\n",
    "                            'Min of AbsErrors':     abs_err_fwd.min(),\n",
    "                            'Max of AbsErrors':     abs_err_fwd.max()}, \n",
    "                            index = ['LM_FWD'])])\n",
    "models_comp"
   ]
  },
  {
   "cell_type": "code",
   "execution_count": null,
   "id": "46dde0bc-169b-41a0-9adf-25b70a22d494",
   "metadata": {},
   "outputs": [],
   "source": [
    "# Actual vs. Prediction\n",
    "plt.scatter(x=testv['SalePrice'],y = pred_fwd, \n",
    "            c='black',alpha = 0.3)\n",
    "plt.xlabel('Actual')\n",
    "plt.ylabel('Prediction')\n",
    "plt.title('Actual vs. Prediction- FWD Selection')\n",
    "\n",
    "#Add 45 degree line\n",
    "xp = np.linspace(testv['SalePrice'].min(),pred_fwd.max(),100)\n",
    "plt.plot(xp,xp,c='red',linewidth = 3)\n",
    "plt.show()"
   ]
  },
  {
   "cell_type": "markdown",
   "id": "e8440c5f-cccf-4a6e-ba99-3f5881be6ceb",
   "metadata": {},
   "source": [
    "## Backward Elimination"
   ]
  },
  {
   "cell_type": "code",
   "execution_count": null,
   "id": "d4a0e518-ecc8-483f-a2de-1eadf7764b1a",
   "metadata": {},
   "outputs": [],
   "source": [
    "import itertools\n",
    "\n",
    "#Define function to do backward elimination\n",
    "def bwd_elimination(features,y,X):\n",
    "    res = []\n",
    "    \n",
    "    #Fit linear model and save the results\n",
    "    for f in itertools.combinations(features,len(features)-1):\n",
    "        res.append(fit_lm(f,y,X))\n",
    "    \n",
    "    models=pd.DataFrame(res)\n",
    "    \n",
    "    #Choose the model with the highest R squared\n",
    "    best_model=models.iloc[models['r2'].argmax()] \n",
    "          \n",
    "    #Return the best model\n",
    "    return best_model"
   ]
  },
  {
   "cell_type": "code",
   "execution_count": null,
   "id": "7ed6657a-1035-47cd-9de4-12bd9cf7b2cc",
   "metadata": {},
   "outputs": [],
   "source": [
    "X_trainv.shape"
   ]
  },
  {
   "cell_type": "code",
   "execution_count": null,
   "id": "976cf425-6329-46e1-adc1-4938b5336381",
   "metadata": {},
   "outputs": [],
   "source": [
    "#Backward elimination implementation\n",
    "bwd_models=pd.DataFrame(columns=['model','r2','adj_r2','aic','bic'])\n",
    "start_time=time.time()\n",
    "features=X_trainv.columns\n",
    "while(len(features)>1):  \n",
    "    bwd_models.loc[len(features)-1]=bwd_elimination(features,trans_y_trainv,X_trainv)\n",
    "    features=bwd_models.loc[len(features)-1]['model'].model.exog_names[1:]\n",
    "end_time=time.time()\n",
    "print('The Processing time is: ',end_time-start_time,'seconds')"
   ]
  },
  {
   "cell_type": "code",
   "execution_count": null,
   "id": "958e6652-b3c6-4b1f-aad3-a7fcf2a898d9",
   "metadata": {},
   "outputs": [],
   "source": [
    "bwd_models"
   ]
  },
  {
   "cell_type": "markdown",
   "id": "ae6750df-563d-4862-9224-4b080ae2c0da",
   "metadata": {},
   "source": [
    "## Evaluation on the Validation Set (Backward Elimination)"
   ]
  },
  {
   "cell_type": "code",
   "execution_count": null,
   "id": "9bd0a6a2-d800-4265-8c59-72e75e973f8c",
   "metadata": {},
   "outputs": [],
   "source": [
    "#Models evaluation\n",
    "plt.figure(figsize = (20,12))\n",
    "plt.subplots_adjust(hspace = 0.3, wspace = 0.3)\n",
    "for i in range(1, 5):\n",
    "    plt.subplot(2, 2, i)\n",
    "    plt.plot(bwd_models.iloc[:, i], 'r-o', alpha = 0.3, linewidth=2)\n",
    "    plt.title(bwd_models.columns[i])\n",
    "    plt.xlabel('# of Predictors', fontsize=12)\n",
    "    plt.xticks(range(0, 214,15))\n",
    "    plt.ylabel(bwd_models.columns[i],fontsize=12)\n",
    "    plt.grid(True)\n",
    "# Show the plot\n",
    "plt.show()"
   ]
  },
  {
   "cell_type": "code",
   "execution_count": null,
   "id": "1df07485-7ffb-4bb3-aae2-37a0c0cfcf79",
   "metadata": {},
   "outputs": [],
   "source": [
    "#Liner model with 120 Variables (based on r2)\n",
    "bwd_models.loc[120,'model'].params"
   ]
  },
  {
   "cell_type": "code",
   "execution_count": null,
   "id": "7b732f98-8d57-4be6-9c09-0b5a2331c8c4",
   "metadata": {},
   "outputs": [],
   "source": [
    "#Selected features \n",
    "bwd_models.loc[120,'model'].model.exog_names"
   ]
  },
  {
   "cell_type": "code",
   "execution_count": null,
   "id": "e2598f19-21b4-42a0-9ddb-242adbe86c85",
   "metadata": {},
   "outputs": [],
   "source": [
    "#Predict on test- model 3\n",
    "pred_bwd=bwd_models.loc[120,'model'].predict(X_testv[bwd_models.loc[120,'model'].model.exog_names])\n",
    "pred_bwd=pd.Series(boxcox.inverse_transform(pred_bwd.values.reshape(-1, 1)).reshape(-1), index = testv.index)\n",
    "pred_bwd"
   ]
  },
  {
   "cell_type": "code",
   "execution_count": null,
   "id": "5c81585e-0b72-4ec9-b364-0e5bb109abde",
   "metadata": {},
   "outputs": [],
   "source": [
    "#Absolute error\n",
    "abs_err_bwd=abs(testv['SalePrice']-pred_bwd)\n",
    "\n",
    "# Calculate MAE, MSE, RMSE and Absolute error median, sd, IQR, min, max\n",
    "mae_bwd=mean_absolute_error(testv['SalePrice'],pred_bwd)\n",
    "mse_bwd=mean_squared_error(testv['SalePrice'],pred_bwd)\n",
    "rmse_bwd=np.sqrt(mse_bwd)\n",
    "\n",
    "#Absolute error mean, median, sd, IQR, max, min\n",
    "models_comp=pd.concat([models_comp,\n",
    "                         pd.DataFrame({'Mean of AbsErrors(MAE)': abs_err_bwd.mean(),\n",
    "                            'MSE' :                   mse_bwd,\n",
    "                            'RMSE' :                 rmse_bwd,\n",
    "                            'Median of AbsErrors' : abs_err_bwd.median(),\n",
    "                            'SD of AbsErrors' :     abs_err_bwd.std(),\n",
    "                            'IQR of AbsErrors':     iqr(abs_err_bwd),\n",
    "                            'Min of AbsErrors':     abs_err_bwd.min(),\n",
    "                            'Max of AbsErrors':     abs_err_bwd.max()}, \n",
    "                            index = ['LM_BWD'])])\n",
    "models_comp"
   ]
  },
  {
   "cell_type": "code",
   "execution_count": null,
   "id": "cfd52045-b406-492d-80df-a98259ede4f4",
   "metadata": {},
   "outputs": [],
   "source": [
    "# Actual vs. Prediction\n",
    "plt.scatter(x=testv['SalePrice'],y=pred_bwd, \n",
    "            c='black', alpha = 0.3)\n",
    "plt.xlabel('Actual')\n",
    "plt.ylabel('Prediction')\n",
    "plt.title('Actual vs. Prediction- BWD Elimination')\n",
    "\n",
    "#Add 45 degree line\n",
    "xp = np.linspace(testv['SalePrice'].min(),pred_bwd.max(), 100)\n",
    "plt.plot(xp,xp,c='red',linewidth = 3)\n",
    "plt.show()"
   ]
  },
  {
   "cell_type": "markdown",
   "id": "835dd691-f41f-453a-8b89-1b77994b48fc",
   "metadata": {},
   "source": [
    "## Ridge Regression"
   ]
  },
  {
   "cell_type": "code",
   "execution_count": null,
   "id": "80ccb893-b8ea-49c5-976d-f00915d950d6",
   "metadata": {},
   "outputs": [],
   "source": [
    "#Scale data before implementing Ridge regression\n",
    "from sklearn.preprocessing import StandardScaler\n",
    "scaler=StandardScaler()\n",
    "X_trainv_scaled=scaler.fit_transform(X_trainv)\n",
    "X_trainv_scaled"
   ]
  },
  {
   "cell_type": "code",
   "execution_count": null,
   "id": "d125cdc4-283e-4ed8-b267-524ceb1c95a4",
   "metadata": {},
   "outputs": [],
   "source": [
    "#Implement Ridge regression - model 4\n",
    "from sklearn.linear_model import Ridge\n",
    "ridge_reg=Ridge(alpha=0.1) #lambda = 0.1 (regularization hyperparameter)\n",
    "model_4=ridge_reg.fit(X_trainv_scaled,trans_y_trainv)"
   ]
  },
  {
   "cell_type": "code",
   "execution_count": null,
   "id": "81c18e15-977c-4485-8244-bf814e00b1af",
   "metadata": {},
   "outputs": [],
   "source": [
    "model_4.coef_"
   ]
  },
  {
   "cell_type": "code",
   "execution_count": null,
   "id": "dd850f82-09cb-4fdd-baca-ecd57344026a",
   "metadata": {},
   "outputs": [],
   "source": [
    "# Grid\n",
    "lambda_grid=10**np.linspace(3,-3,100)\n",
    "lambda_grid"
   ]
  },
  {
   "cell_type": "code",
   "execution_count": null,
   "id": "f824c0b6-11f3-4c02-9c23-6b465bfe3f02",
   "metadata": {},
   "outputs": [],
   "source": [
    "# K-fold cross validation to choose the best model\n",
    "from sklearn.model_selection import cross_val_score\n",
    "\n",
    "cv_errors=np.zeros(shape=len(lambda_grid)) #to save cv results\n",
    "\n",
    "for i in range(len(lambda_grid)):\n",
    "    ridge_reg = Ridge(alpha = lambda_grid[i])\n",
    "    scores=cross_val_score(estimator = ridge_reg, \n",
    "                             X=X_trainv_scaled, \n",
    "                             y=trans_y_trainv,\n",
    "                             scoring='neg_root_mean_squared_error',\n",
    "                             cv=5, n_jobs = -1)\n",
    "    cv_errors[i]=scores.mean() \n",
    "\n",
    "\n",
    "cv_errors"
   ]
  },
  {
   "cell_type": "code",
   "execution_count": null,
   "id": "dd31465c-25da-4edf-9b5a-7f5c95e7c803",
   "metadata": {},
   "outputs": [],
   "source": [
    "# Best lambda\n",
    "best_lamda=lambda_grid[np.argmax(cv_errors)]\n",
    "best_lamda"
   ]
  },
  {
   "cell_type": "code",
   "execution_count": null,
   "id": "f4a03dea-a4ba-4074-805b-1bb9d996879f",
   "metadata": {},
   "outputs": [],
   "source": [
    "# Best model coefs:\n",
    "ridge_reg=Ridge(alpha = best_lamda)\n",
    "model_4=ridge_reg.fit(X_trainv_scaled, trans_y_trainv)\n",
    "model_4.coef_"
   ]
  },
  {
   "cell_type": "markdown",
   "id": "94ee6f25-69a3-423b-a0cd-0382fdc3e8df",
   "metadata": {},
   "source": [
    "## Evaluation on the Validation Set (Ridge Regression)"
   ]
  },
  {
   "cell_type": "code",
   "execution_count": null,
   "id": "cc62e380-89e0-49ed-a0dc-0f510cf856b2",
   "metadata": {},
   "outputs": [],
   "source": [
    "# Predict on test- model 4\n",
    "# Sacle test data set\n",
    "X_testv_scaled=scaler.transform(X_testv)\n",
    "pred_ridge=model_4.predict(X_testv_scaled)\n",
    "pred_ridge=pd.Series(boxcox.inverse_transform(pred_ridge).reshape(-1),index = testv.index)\n",
    "pred_ridge"
   ]
  },
  {
   "cell_type": "code",
   "execution_count": null,
   "id": "dbc28a7e-0fa8-4c34-abf8-0b4b8b497d9d",
   "metadata": {},
   "outputs": [],
   "source": [
    "# Absolute error\n",
    "abs_err_ridge=abs(testv['SalePrice']-pred_ridge)\n",
    "\n",
    "\n",
    "# Calculate MAE, MSE, RMSE and Absolute error median, sd, IQR, min, max\n",
    "mae_ridge =mean_absolute_error(testv['SalePrice'], pred_ridge)\n",
    "mse_ridge=mean_squared_error(testv['SalePrice'], pred_ridge)\n",
    "rmse_ridge=np.sqrt(mse_bwd)\n",
    "\n",
    "#Absolute error mean, median, sd, IQR, max, min\n",
    "models_comp=pd.concat([models_comp,\n",
    "                         pd.DataFrame({'Mean of AbsErrors(MAE)': abs_err_ridge.mean(),\n",
    "                            'MSE' :                   mse_ridge,\n",
    "                            'RMSE' :                   rmse_ridge,\n",
    "                            'Median of AbsErrors' :   abs_err_ridge.median(),\n",
    "                            'SD of AbsErrors' :       abs_err_ridge.std(),\n",
    "                            'IQR of AbsErrors':       iqr(abs_err_ridge),\n",
    "                            'Min of AbsErrors':       abs_err_ridge.min(),\n",
    "                            'Max of AbsErrors':       abs_err_ridge.max()}, \n",
    "                            index = ['LM_Ridge'])])\n",
    "models_comp\n"
   ]
  },
  {
   "cell_type": "code",
   "execution_count": null,
   "id": "e91a9915-ade4-4670-bad2-23ded172af2f",
   "metadata": {},
   "outputs": [],
   "source": [
    "# Actual vs. Prediction\n",
    "plt.scatter(x=testv['SalePrice'],y=pred_ridge, \n",
    "            c='black',alpha = 0.3)\n",
    "plt.xlabel('Actual')\n",
    "plt.ylabel('Prediction')\n",
    "plt.title('Actual vs. Prediction- Ridge Regression')\n",
    "\n",
    "#Add 45 degree line\n",
    "xp = np.linspace(testv['SalePrice'].min(),pred_ridge.max(),100)\n",
    "plt.plot(xp,xp,c='red', linewidth=3)\n",
    "plt.show()"
   ]
  },
  {
   "cell_type": "markdown",
   "id": "ee01d569-c56f-4a65-8bc2-aabc351691ce",
   "metadata": {},
   "source": [
    "## LASSO Regression"
   ]
  },
  {
   "cell_type": "code",
   "execution_count": null,
   "id": "1a2dd2e4-d05a-4c70-8359-380b1fc00bbd",
   "metadata": {},
   "outputs": [],
   "source": [
    "#Implement LASSO regression- model 5\n",
    "from sklearn.linear_model import Lasso\n",
    "lasso_reg=Lasso(alpha = 0.1) #lambda = 0.1 (regularization hyperparameter)\n",
    "model_5=lasso_reg.fit(X_trainv_scaled, trans_y_trainv)"
   ]
  },
  {
   "cell_type": "code",
   "execution_count": null,
   "id": "aa741a1e-64e6-449a-937a-2becc06bd919",
   "metadata": {},
   "outputs": [],
   "source": [
    "model_5.coef_"
   ]
  },
  {
   "cell_type": "code",
   "execution_count": null,
   "id": "07f2e8f9-99b9-4d1c-9504-6af64c383477",
   "metadata": {},
   "outputs": [],
   "source": [
    "# K-fold cross validation to choose the best model\n",
    "cv_errors=np.zeros(shape=len(lambda_grid)) #to save cv results\n",
    "\n",
    "for i in range(len(lambda_grid)):\n",
    "    lasso_reg=Lasso(alpha = lambda_grid[i])\n",
    "    scores= cross_val_score(estimator=lasso_reg, \n",
    "                             X=X_trainv_scaled, \n",
    "                             y=trans_y_trainv,\n",
    "                             scoring='neg_root_mean_squared_error',\n",
    "                             cv=5, n_jobs = -1)\n",
    "    cv_errors[i]=scores.mean() \n",
    " \n",
    "cv_errors"
   ]
  },
  {
   "cell_type": "code",
   "execution_count": null,
   "id": "bdbd68fe-ec53-46c6-86dc-f2559dd74282",
   "metadata": {},
   "outputs": [],
   "source": [
    "# Best lambda\n",
    "best_lamda=lambda_grid[np.argmax(cv_errors)]\n",
    "best_lamda"
   ]
  },
  {
   "cell_type": "code",
   "execution_count": null,
   "id": "5fb6dc1b-66d9-4dff-8e91-e77a8f2b3960",
   "metadata": {},
   "outputs": [],
   "source": [
    "# Best model coefs:\n",
    "lasso_reg=Lasso(alpha=best_lamda)\n",
    "model_5=lasso_reg.fit(X_trainv_scaled,trans_y_trainv)\n",
    "model_5.coef_"
   ]
  },
  {
   "cell_type": "markdown",
   "id": "4713e491-2954-44d4-bb57-a1436c7f72f5",
   "metadata": {},
   "source": [
    "## Evaluation on the Validation Set (LASSO Regression)"
   ]
  },
  {
   "cell_type": "code",
   "execution_count": null,
   "id": "6ed448f9-8590-4762-b962-77424253e09f",
   "metadata": {},
   "outputs": [],
   "source": [
    "#Predict on test- model 5\n",
    "pred_lasso=model_5.predict(X_testv_scaled)\n",
    "pred_lasso=pd.Series(boxcox.inverse_transform(pred_lasso.reshape(-1, 1)).reshape(-1),index = testv.index)\n",
    "pred_lasso"
   ]
  },
  {
   "cell_type": "code",
   "execution_count": null,
   "id": "5d7a1a36-c5b7-4e50-9099-c5bc27fc1e73",
   "metadata": {},
   "outputs": [],
   "source": [
    "#Absolute error\n",
    "abs_err_lasso=abs(testv['SalePrice']-pred_lasso)\n",
    "\n",
    "# Calculate MAE, MSE, RMSE and Absolute error median, sd, IQR, min, max\n",
    "mae_lasso=mean_absolute_error(testv['SalePrice'],pred_lasso)\n",
    "mse_lasso=mean_squared_error(testv['SalePrice'],pred_lasso)\n",
    "rmse_lasso=np.sqrt(mse_lasso)\n",
    "\n",
    "#Absolute error mean, median, sd, IQR, max, min\n",
    "models_comp=pd.concat([models_comp,\n",
    "                         pd.DataFrame({'Mean of AbsErrors(MAE)': abs_err_lasso.mean(),\n",
    "                            'MSE' :                   mse_lasso,\n",
    "                            'RMSE' :                   rmse_lasso,\n",
    "                            'Median of AbsErrors' :   abs_err_lasso.median(),\n",
    "                            'SD of AbsErrors' :       abs_err_lasso.std(),\n",
    "                            'IQR of AbsErrors':       iqr(abs_err_lasso),\n",
    "                            'Min of AbsErrors':       abs_err_lasso.min(),\n",
    "                            'Max of AbsErrors':       abs_err_lasso.max()}, \n",
    "                            index = ['LM_LASSO'])])\n",
    "models_comp"
   ]
  },
  {
   "cell_type": "code",
   "execution_count": null,
   "id": "342980cb-2455-4786-bbf9-8c774ff7ea51",
   "metadata": {},
   "outputs": [],
   "source": [
    "# Actual vs. Prediction\n",
    "plt.scatter(x=testv['SalePrice'],y=pred_lasso, \n",
    "            c='black', alpha = 0.3)\n",
    "plt.xlabel('Actual')\n",
    "plt.ylabel('Prediction')\n",
    "plt.title('Actual vs. Prediction- LASSO Regression')\n",
    "\n",
    "#Add 45 degree line\n",
    "xp = np.linspace(testv['SalePrice'].min(),pred_lasso.max(),100)\n",
    "plt.plot(xp,xp,c='red',linewidth = 3)\n",
    "plt.show()"
   ]
  },
  {
   "cell_type": "markdown",
   "id": "5236aaca-a096-4712-9e72-9bec46a0824f",
   "metadata": {},
   "source": [
    "# Decision Tree"
   ]
  },
  {
   "cell_type": "code",
   "execution_count": null,
   "id": "9e545112-af19-4d65-a3d5-771bee766b7a",
   "metadata": {},
   "outputs": [],
   "source": [
    "# Decision Tree- model 6\n",
    "from sklearn.tree import DecisionTreeRegressor\n",
    "#Post prunning approach\n",
    "tree_reg=DecisionTreeRegressor(criterion='squared_error',\n",
    "                                 max_depth=5, \n",
    "                                 min_samples_leaf=5, \n",
    "                                 ccp_alpha=0)\n",
    "model_6=tree_reg.fit(X_trainv,trans_y_trainv)"
   ]
  },
  {
   "cell_type": "code",
   "execution_count": null,
   "id": "33b08d02-17a3-4e0f-b155-27eec1f82e70",
   "metadata": {},
   "outputs": [],
   "source": [
    "# Plot the Tree\n",
    "from sklearn.tree import plot_tree\n",
    " \n",
    "# Convert the feature names from Index to list\n",
    "feature_names_list=X_trainv.columns.tolist()\n",
    "\n",
    "# Plot the Tree\n",
    "plt.figure(figsize=(25,20))\n",
    "plot_tree(model_6,feature_names=feature_names_list)\n",
    "plt.show()"
   ]
  },
  {
   "cell_type": "code",
   "execution_count": null,
   "id": "f6689f11-a272-4764-bc9a-e5d86096fc67",
   "metadata": {},
   "outputs": [],
   "source": [
    "# Post prunning\n",
    "prunning_path=model_6.cost_complexity_pruning_path(X_trainv,trans_y_trainv)\n",
    "prunning_path"
   ]
  },
  {
   "cell_type": "code",
   "execution_count": null,
   "id": "1e644d23-6d36-4754-b287-e8114136cc6b",
   "metadata": {},
   "outputs": [],
   "source": [
    "# Grid\n",
    "alpha_grid=prunning_path['ccp_alphas']\n",
    "alpha_grid"
   ]
  },
  {
   "cell_type": "code",
   "execution_count": null,
   "id": "d00cfe60-0154-434f-a575-81489f799427",
   "metadata": {},
   "outputs": [],
   "source": [
    "# K-fold cross validation to choose the best model\n",
    "from sklearn.model_selection import cross_val_score\n",
    "\n",
    "cv_errors=np.zeros(shape =len(alpha_grid)) #to save cv results\n",
    "\n",
    "import time #to measure the processing time\n",
    "start_time=time.time()\n",
    "for i in range(len(alpha_grid)):\n",
    "    tree_reg=DecisionTreeRegressor(criterion='squared_error',\n",
    "                                     max_depth=5, \n",
    "                                     min_samples_leaf=5, \n",
    "                                     ccp_alpha=alpha_grid[i])\n",
    "    scores = cross_val_score(estimator=tree_reg, \n",
    "                             X=X_trainv, \n",
    "                             y=trans_y_trainv,\n",
    "                             scoring='neg_root_mean_squared_error',\n",
    "                             cv=10,n_jobs=-1)\n",
    "    cv_errors[i]=scores.mean() \n",
    "\n",
    "end_time=time.time()\n",
    "print('The Processing time is: ',end_time-start_time, 'seconds')\n",
    "cv_errors"
   ]
  },
  {
   "cell_type": "code",
   "execution_count": null,
   "id": "effcca38-ed5c-425f-a309-d4f3aa0d2c02",
   "metadata": {},
   "outputs": [],
   "source": [
    "# Best alpha\n",
    "best_alpha=alpha_grid[np.argmax(cv_errors)]\n",
    "best_alpha"
   ]
  },
  {
   "cell_type": "code",
   "execution_count": null,
   "id": "1ddca6d1-e2a8-4f00-a5b0-579eed7eb178",
   "metadata": {},
   "outputs": [],
   "source": [
    "#Best model\n",
    "tree_reg=DecisionTreeRegressor(criterion='squared_error',\n",
    "                                 max_depth=5, \n",
    "                                 min_samples_leaf=5, \n",
    "                                 ccp_alpha=best_alpha)\n",
    "\n",
    "\n",
    "model_6=tree_reg.fit(X_trainv,trans_y_trainv)\n",
    "\n",
    "# Convert the feature names from Index to list\n",
    "feature_names_list=X_trainv.columns.tolist()\n",
    "\n",
    "\n",
    "#Plot the Tree\n",
    "from sklearn.tree import plot_tree\n",
    "plt.figure(figsize=(25, 20))\n",
    "plot_tree(model_6, feature_names=feature_names_list)\n",
    "plt.show()\n"
   ]
  },
  {
   "cell_type": "code",
   "execution_count": null,
   "id": "752071d7-222b-4c53-9bae-0246b64f45f9",
   "metadata": {},
   "outputs": [],
   "source": [
    "X_testv.shape"
   ]
  },
  {
   "cell_type": "code",
   "execution_count": null,
   "id": "8d53e7ee-2488-412a-bf13-4fc53cba897a",
   "metadata": {},
   "outputs": [],
   "source": [
    "print(dummy_vars_tev.shape)\n",
    "print(testv.shape)"
   ]
  },
  {
   "cell_type": "markdown",
   "id": "499c2050-de9a-4224-b28d-e7c6b33caf53",
   "metadata": {},
   "source": [
    "## Evaluation on the Validation Set (Decision Tree)"
   ]
  },
  {
   "cell_type": "code",
   "execution_count": null,
   "id": "5a15742d-59d8-47a1-a0c6-59ffd1bbf58a",
   "metadata": {},
   "outputs": [],
   "source": [
    " #Define feature matrix\n",
    "# Train All columns except 'SalePrice'\n",
    "X_X=testv.iloc[:,list(range(0,80))+list(range(81,100))]\n",
    "# print(X_X.columns)\n",
    "X_testv=pd.concat([X_X,dummy_vars_tev],axis = 1)\n",
    "#add constant\n",
    "# X_testv=sm.add_constant(X_testv) \n",
    "X_testv = sm.add_constant(X_testv,has_constant='add')\n",
    "X_testv.shape\n",
    "print(X_testv.columns)"
   ]
  },
  {
   "cell_type": "code",
   "execution_count": null,
   "id": "edab80d4-1bea-40b1-9fcd-e8a228cd8ecb",
   "metadata": {},
   "outputs": [],
   "source": [
    "# Remove coloumn'Id'\n",
    "# X_testv.drop(columns=['Id'],inplace=True)\n",
    "X_testv.shape"
   ]
  },
  {
   "cell_type": "code",
   "execution_count": null,
   "id": "5d510f90-bffe-4852-b205-789928a3aa70",
   "metadata": {},
   "outputs": [],
   "source": [
    "X_testv=X_testv.drop(columns=X_testv.select_dtypes(include=['object']).columns)\n",
    "# Check the data types of the cleaned DataFrame\n",
    "print(X_testv.dtypes)\n",
    "print(X_testv.shape)"
   ]
  },
  {
   "cell_type": "code",
   "execution_count": null,
   "id": "60638526-5441-402d-bfe6-a158e53469b7",
   "metadata": {},
   "outputs": [],
   "source": [
    "# Convert float64 and int32 columns to int64\n",
    "X_testv=X_testv.astype({col:'int64' for col in X_testv.select_dtypes(include=['float64','int32']).columns})\n",
    "\n",
    "# Check the data types of the columns to verify the conversion\n",
    "print(X_testv.dtypes)"
   ]
  },
  {
   "cell_type": "code",
   "execution_count": null,
   "id": "39f5f0d7-3e3f-4afe-8fd3-0f5dd75f59ff",
   "metadata": {},
   "outputs": [],
   "source": [
    "trans_y_trainv=PowerTransformer(method = 'box-cox').fit_transform(y_trainv.values.reshape(-1, 1))"
   ]
  },
  {
   "cell_type": "code",
   "execution_count": null,
   "id": "638bd917-852c-438e-bf92-70ac14cafd9c",
   "metadata": {},
   "outputs": [],
   "source": [
    "X_trainv.info()"
   ]
  },
  {
   "cell_type": "code",
   "execution_count": null,
   "id": "22ac0f81-20d6-4c21-b6af-b1c9824971d1",
   "metadata": {},
   "outputs": [],
   "source": [
    "X_trainv"
   ]
  },
  {
   "cell_type": "code",
   "execution_count": null,
   "id": "16701452-b532-40fe-9a11-0b526d8efa5f",
   "metadata": {},
   "outputs": [],
   "source": [
    "X_testv"
   ]
  },
  {
   "cell_type": "code",
   "execution_count": null,
   "id": "ced966e7-f345-468b-a182-9576cf677ff8",
   "metadata": {},
   "outputs": [],
   "source": [
    "X_testv=X_testv.drop(columns=['Id'])"
   ]
  },
  {
   "cell_type": "code",
   "execution_count": null,
   "id": "54e455f8-0f2a-4db0-824e-7e76f427f50e",
   "metadata": {},
   "outputs": [],
   "source": [
    "X_testv"
   ]
  },
  {
   "cell_type": "code",
   "execution_count": null,
   "id": "5814c03f-ca1b-4174-8e89-1e53e475af6f",
   "metadata": {},
   "outputs": [],
   "source": [
    "#Prediction using model 6\n",
    "pred_tree = model_6.predict(X_testv)\n",
    "pred_tree = pd.Series(boxcox.inverse_transform(pred_tree.reshape(-1, 1)).reshape(-1), \n",
    "                      index = testv.index)\n",
    "pred_tree"
   ]
  },
  {
   "cell_type": "code",
   "execution_count": null,
   "id": "142b0409-6a2d-49b0-bd41-f88fe547bc42",
   "metadata": {},
   "outputs": [],
   "source": [
    "#Absolute error\n",
    "abs_err_tree=abs(testv['SalePrice']-pred_tree)\n",
    "\n",
    "# Calculate MAE, MSE, RMSE and Absolute error median, sd, IQR, min, max\n",
    "mae_tree=mean_absolute_error(testv['SalePrice'],pred_tree)\n",
    "mse_tree=mean_squared_error(testv['SalePrice'],pred_tree)\n",
    "rmse_tree=np.sqrt(mse_tree)\n",
    "\n",
    "#Absolute error mean, median, sd, IQR, max, min\n",
    "models_comp=pd.concat([models_comp,\n",
    "                         pd.DataFrame({'Mean of AbsErrors(MAE)': abs_err_tree.mean(),\n",
    "                            'MSE' :                   mse_tree,\n",
    "                            'RMSE' :                   rmse_tree,\n",
    "                            'Median of AbsErrors' :   abs_err_tree.median(),\n",
    "                            'SD of AbsErrors' :       abs_err_tree.std(),\n",
    "                            'IQR of AbsErrors':       iqr(abs_err_tree),\n",
    "                            'Min of AbsErrors':       abs_err_tree.min(),\n",
    "                            'Max of AbsErrors':       abs_err_tree.max()}, \n",
    "                            index = ['Decision Tree'])])\n",
    "models_comp"
   ]
  },
  {
   "cell_type": "code",
   "execution_count": null,
   "id": "7b8225b7-10e8-4043-882b-53d6adb12e09",
   "metadata": {},
   "outputs": [],
   "source": [
    "# Actual vs. Prediction\n",
    "plt.scatter(x=testv['SalePrice'],y=pred_tree,c='black',alpha = 0.3)\n",
    "plt.xlabel('Actual')\n",
    "plt.ylabel('Prediction')\n",
    "plt.title('Actual vs. Prediction- Decision Tree')\n",
    "\n",
    "#Add 45 degree line\n",
    "xp = np.linspace(testv['SalePrice'].min(),pred_tree.max(),100)\n",
    "plt.plot(xp,xp,c='red',linewidth = 3)\n",
    "plt.show()"
   ]
  },
  {
   "cell_type": "markdown",
   "id": "37c22913-6239-4b42-b479-d12d78cb8e98",
   "metadata": {},
   "source": [
    "# Random Forest"
   ]
  },
  {
   "cell_type": "code",
   "execution_count": null,
   "id": "91ec4734-f3b0-4ee7-a8b0-ed8a3dbda71f",
   "metadata": {},
   "outputs": [],
   "source": [
    "#Sample Random Forest model (not tuned)\n",
    "from sklearn.ensemble import RandomForestRegressor\n",
    "rf_reg = RandomForestRegressor(n_estimators=300,\n",
    "                               max_features=15, \n",
    "                               criterion='squared_error',\n",
    "                               max_depth=15, \n",
    "                               min_samples_leaf=5, \n",
    "                               ccp_alpha=0,\n",
    "                               random_state =1234)\n",
    "model_7=rf_reg.fit(X_trainv,trans_y_trainv.reshape(-1))"
   ]
  },
  {
   "cell_type": "code",
   "execution_count": null,
   "id": "59f30e55-3fb1-41c1-a4cc-49734b6507df",
   "metadata": {},
   "outputs": [],
   "source": [
    "#Calculate variable importance\n",
    "importance=pd.DataFrame({'importance': model_7.feature_importances_ * 100}, \n",
    "                          index = X_trainv.columns)\n",
    " # importance.sort_values\n",
    "importance_sorted = importance.sort_values(by='importance',ascending=False)\n",
    "plt.figure(figsize=(30,25))                                                                           \n",
    "importance_sorted[:25].plot(kind='barh',color='r',legend=False)                                                                        \n",
    "plt.title('Variable Importance')\n",
    "plt.xlabel('MSE Increase (%)')\n",
    "plt.show()"
   ]
  },
  {
   "cell_type": "code",
   "execution_count": null,
   "id": "a0fd2954-43f8-43c8-8b65-973843e0e616",
   "metadata": {},
   "outputs": [],
   "source": [
    "#Create hyper-parameters grid\n",
    "import itertools\n",
    "n_estimators=[100,200,500,700]\n",
    "max_features=['sqrt', 'log2'] \n",
    "max_depth=[2,5,10,20]\n",
    "min_samples_leaf=[5,10,15]\n",
    "params_grid=list(itertools.product(n_estimators,max_features,max_depth,min_samples_leaf))\n",
    "params_grid=pd.DataFrame(data=params_grid,\n",
    "                           index=range(1,97), \n",
    "                           columns=['n_estimators', \n",
    "                                      'max_features', \n",
    "                                      'max_depth', \n",
    "                                      'min_samples_leaf'])\n",
    "params_grid"
   ]
  },
  {
   "cell_type": "code",
   "execution_count": null,
   "id": "87d30e9b-a95f-45ee-adad-d18ea0d5af8f",
   "metadata": {},
   "outputs": [],
   "source": [
    "#K-fold cross validation to choose the best model\n",
    "from sklearn.model_selection import cross_val_score\n",
    "\n",
    "import time #to measure the processing time\n",
    "start_time = time.time()\n",
    "cv_errors = np.zeros(shape = len(params_grid)) #to save cv results\n",
    "for i in range(len(params_grid)):\n",
    "    rf_reg=RandomForestRegressor(n_estimators=params_grid.iloc[i, 0],\n",
    "                                   max_features=params_grid.iloc[i, 1], \n",
    "                                   criterion='squared_error',\n",
    "                                   max_depth=params_grid.iloc[i, 2], \n",
    "                                   min_samples_leaf = params_grid.iloc[i, 3], \n",
    "                                   ccp_alpha=0)\n",
    "    scores = cross_val_score(estimator=rf_reg, \n",
    "                             X=X_trainv, \n",
    "                             y=trans_y_trainv,\n",
    "                             scoring='neg_root_mean_squared_error',\n",
    "                             cv=10, n_jobs=-1)\n",
    "    cv_errors[i]=scores.mean() \n",
    "\n",
    "end_time=time.time()\n",
    "print('The Processing time is: ',end_time-start_time,'seconds')\n",
    "\n",
    "cv_errors"
   ]
  },
  {
   "cell_type": "code",
   "execution_count": null,
   "id": "90150899-1999-40b8-884d-5ce0f35a1085",
   "metadata": {},
   "outputs": [],
   "source": [
    "#Best model\n",
    "params_grid.iloc[np.argmax(cv_errors),:]"
   ]
  },
  {
   "cell_type": "code",
   "execution_count": null,
   "id": "e34916a4-534c-41df-9ff8-bb9f8aca0693",
   "metadata": {},
   "outputs": [],
   "source": [
    "#Train model 7\n",
    "rf_reg=RandomForestRegressor(n_estimators=params_grid.iloc[np.argmax(cv_errors),0],\n",
    "                               max_features=params_grid.iloc[np.argmax(cv_errors),1], \n",
    "                               criterion='squared_error',\n",
    "                               max_depth=params_grid.iloc[np.argmax(cv_errors),2], \n",
    "                               min_samples_leaf=params_grid.iloc[np.argmax(cv_errors),3], \n",
    "                               ccp_alpha=0,\n",
    "                               random_state=1234)\n",
    "model_7=rf_reg.fit(X_trainv,trans_y_trainv.reshape(-1))\n"
   ]
  },
  {
   "cell_type": "markdown",
   "id": "b2e36840-9226-4d82-9a50-5d6356197717",
   "metadata": {},
   "source": [
    "## Evaluation on the Validation Set (Random Forest)"
   ]
  },
  {
   "cell_type": "code",
   "execution_count": null,
   "id": "6713534e-8ed2-4672-b036-18ec9248cd87",
   "metadata": {},
   "outputs": [],
   "source": [
    "common_columns = X_trainv.columns.intersection(X_testv.columns)\n",
    "X_trainv = X_trainv[common_columns]\n",
    "X_testv = X_testv[common_columns]"
   ]
  },
  {
   "cell_type": "code",
   "execution_count": null,
   "id": "90961b30-2c3f-4548-b88c-418068bd5f5e",
   "metadata": {},
   "outputs": [],
   "source": [
    "#Prediction using model 7\n",
    "pred_rf=model_7.predict(X_testv)\n",
    "pred_rf=pd.Series(boxcox.inverse_transform(pred_rf.reshape(-1, 1)).reshape(-1), \n",
    "                    index=testv.index)\n",
    "pred_rf"
   ]
  },
  {
   "cell_type": "code",
   "execution_count": null,
   "id": "2107e981-836c-4c96-9e73-ae9c411d4591",
   "metadata": {},
   "outputs": [],
   "source": [
    "#Absolute error\n",
    "abs_err_rf=abs(testv['SalePrice']-pred_rf)\n",
    "\n",
    "# Calculate MAE, MSE, RMSE and Absolute error median, sd, IQR, min, max\n",
    "mae_rf=mean_absolute_error(testv['SalePrice'],pred_rf)\n",
    "mse_rf=mean_squared_error(testv['SalePrice'],pred_rf)\n",
    "rmse_rf=np.sqrt(mse_rf)\n",
    "\n",
    "#Absolute error mean, median, sd, IQR, max, min\n",
    "models_comp=pd.concat([models_comp,\n",
    "                         pd.DataFrame({'Mean of AbsErrors(MAE)': abs_err_rf.mean(),\n",
    "                            'MSE' :                   mse_rf,\n",
    "                            'RMSE' :                   rmse_rf,\n",
    "                            'Median of AbsErrors' :   abs_err_rf.median(),\n",
    "                            'SD of AbsErrors' :       abs_err_rf.std(),\n",
    "                            'IQR of AbsErrors':       iqr(abs_err_rf),\n",
    "                            'Min of AbsErrors':       abs_err_rf.min(),\n",
    "                            'Max of AbsErrors':       abs_err_rf.max()}, \n",
    "                            index = ['Random Forest'])])\n",
    "models_comp"
   ]
  },
  {
   "cell_type": "code",
   "execution_count": null,
   "id": "bd375b03-17c0-47d8-98a6-560e80f238cc",
   "metadata": {},
   "outputs": [],
   "source": [
    "# Actual vs. Prediction\n",
    "plt.scatter(x=testv['SalePrice'],y=pred_rf, c='black', alpha = 0.3)\n",
    "plt.xlabel('Actual')\n",
    "plt.ylabel('Prediction')\n",
    "plt.title('Actual vs. Prediction- Random Forest')\n",
    "\n",
    "#Add 45 degree line\n",
    "xp = np.linspace(testv['SalePrice'].min(),pred_rf.max(),100)\n",
    "plt.plot(xp,xp,c='red',linewidth = 3)\n",
    "plt.show()"
   ]
  },
  {
   "cell_type": "markdown",
   "id": "fec494fc-eb20-45ef-973a-8f26646a6f95",
   "metadata": {},
   "source": [
    "# Principal Component Regression (PCR)"
   ]
  },
  {
   "cell_type": "code",
   "execution_count": null,
   "id": "9569fd21-10a7-4d7a-a083-11a0ceb3e8ea",
   "metadata": {},
   "outputs": [],
   "source": [
    "#Scale data\n",
    "from sklearn.preprocessing import StandardScaler\n",
    "scaler=StandardScaler()\n",
    "X_trainv_scaled=scaler.fit_transform(X_trainv)"
   ]
  },
  {
   "cell_type": "code",
   "execution_count": null,
   "id": "e4ca1f3d-735f-4aff-9c7a-3b35b1f634e0",
   "metadata": {},
   "outputs": [],
   "source": [
    "#PCA\n",
    "from sklearn.decomposition import PCA\n",
    "pca=PCA()\n",
    "pca_model=pca.fit(X_trainv_scaled)"
   ]
  },
  {
   "cell_type": "code",
   "execution_count": null,
   "id": "eeb901ac-c93e-4c4f-9fa2-c09f10fda76e",
   "metadata": {},
   "outputs": [],
   "source": [
    "#Explaind variance percentage\n",
    "plt.figure(figsize = (10, 6))\n",
    "plt.bar(x = range(1,213), \n",
    "        height=pca_model.explained_variance_ratio_ * 100,\n",
    "        color='red', \n",
    "        alpha =0.7)\n",
    "plt.title('Explained Variance')\n",
    "plt.xlabel('Components')\n",
    "plt.ylabel('Explained Variance Percentage')\n",
    "plt.xticks(ticks=range(1,213), labels= ['PC' + str(_) for _ in range(1,213)])\n",
    "plt.grid()\n",
    "plt.show()"
   ]
  },
  {
   "cell_type": "code",
   "execution_count": null,
   "id": "45d580ae-a0b4-4af8-8d2d-6effba6164f0",
   "metadata": {},
   "outputs": [],
   "source": [
    "#Cumulative explaind variance percentage\n",
    "np.cumsum(np.round(pca_model.explained_variance_ratio_ * 100, 1))"
   ]
  },
  {
   "cell_type": "code",
   "execution_count": null,
   "id": "5eec3681-328b-419a-806b-4ef7a0986fe7",
   "metadata": {},
   "outputs": [],
   "source": [
    "#Principal axes in feature space\n",
    "print(pca_model.components_.shape)\n",
    "print(pca_model.components_)"
   ]
  },
  {
   "cell_type": "code",
   "execution_count": null,
   "id": "28af40ee-4164-41a8-8c81-01d137462da2",
   "metadata": {},
   "outputs": [],
   "source": [
    "#Transfrom data into new dimensions\n",
    "X_trainv_pca=pca_model.transform(X_trainv_scaled)\n",
    "X_trainv_pca.shape"
   ]
  },
  {
   "cell_type": "code",
   "execution_count": null,
   "id": "2845e205-58b8-4c06-a8dc-fdbd0584ece2",
   "metadata": {},
   "outputs": [],
   "source": [
    "#K-fold cross validation to choose the best model\n",
    "from sklearn.model_selection import cross_val_score\n",
    "from sklearn.linear_model import LinearRegression\n",
    "\n",
    "cv_errors=np.zeros(shape=X_trainv_pca.shape[1]) #to save cv results\n",
    "\n",
    "import time #to measure the processing time\n",
    "start_time=time.time()\n",
    "\n",
    "for i in range(X_trainv_pca.shape[1]):\n",
    "    linear_reg=LinearRegression()\n",
    "    scores=cross_val_score(estimator=linear_reg, \n",
    "                             X=X_trainv_pca[:, : i + 1], \n",
    "                             y=trans_y_trainv,\n",
    "                             scoring='neg_root_mean_squared_error',\n",
    "                             cv=5,n_jobs = -1)\n",
    "    cv_errors[i]=scores.mean() \n",
    "\n",
    "end_time=time.time()\n",
    "print('The Processing time is: ',end_time-start_time,'seconds')\n",
    "cv_errors"
   ]
  },
  {
   "cell_type": "code",
   "execution_count": null,
   "id": "b30e8f2f-ddf2-49ff-a1fa-5ce484a1a720",
   "metadata": {},
   "outputs": [],
   "source": [
    "#Best number of components\n",
    "components_number=np.argmax(cv_errors)\n",
    "components_number"
   ]
  },
  {
   "cell_type": "code",
   "execution_count": null,
   "id": "2ba0341e-6e1b-41ac-a8aa-cbe95a101d18",
   "metadata": {},
   "outputs": [],
   "source": [
    "#Correlation btw components\n",
    "np.round(pd.DataFrame(X_trainv_pca[:, : components_number]).corr(), 3)"
   ]
  },
  {
   "cell_type": "code",
   "execution_count": null,
   "id": "1fb47ba5-9b4c-4e56-8d20-c1e0d54f9193",
   "metadata": {},
   "outputs": [],
   "source": [
    "#Best model\n",
    "from sklearn.linear_model import LinearRegression\n",
    "linear_reg=LinearRegression()\n",
    "model_8=linear_reg.fit(X_trainv_pca[:, : components_number], \n",
    "                         trans_y_trainv)"
   ]
  },
  {
   "cell_type": "code",
   "execution_count": null,
   "id": "90cbad64-414c-48f6-bc97-e1121b0e5cfa",
   "metadata": {},
   "outputs": [],
   "source": [
    "#Predict on test - model 8\n",
    "\n",
    "#Scale data\n",
    "X_testv_scaled=scaler.transform(X_testv)\n",
    "\n",
    "#Transfrom data into new dimensions\n",
    "X_testv_pca=pca_model.transform(X_testv_scaled)\n",
    "\n",
    "#Prediction on test\n",
    "pred_pcr=model_8.predict(X_testv_pca[:, : components_number])\n",
    "pred_pcr=pd.Series(boxcox.inverse_transform(pred_pcr.reshape(-1, 1)).reshape(-1), \n",
    "                    index = testv.index)\n",
    "pred_pcr"
   ]
  },
  {
   "cell_type": "code",
   "execution_count": null,
   "id": "f591b63c-aa16-444c-a549-7a6db239ea9f",
   "metadata": {},
   "outputs": [],
   "source": [
    "pred_pcr.shape\n"
   ]
  },
  {
   "cell_type": "markdown",
   "id": "6875e772-2248-4f4a-b8cf-3128f185af83",
   "metadata": {},
   "source": [
    "## Evaluation on the Validation Set (PCR)"
   ]
  },
  {
   "cell_type": "code",
   "execution_count": null,
   "id": "73472d23-9fc3-4c43-a39b-5bee11a495c0",
   "metadata": {},
   "outputs": [],
   "source": [
    "#Absolute error\n",
    "abs_err_pcr=abs(testv['SalePrice']-pred_pcr)\n",
    "\n",
    "# Calculate MAE, MSE, RMSE and Absolute error median, sd, IQR, min, max\n",
    "mae_pcr=mean_absolute_error(testv['SalePrice'],pred_pcr)\n",
    "mse_pcr=mean_squared_error(testv['SalePrice'],pred_pcr)\n",
    "rmse_pcr=np.sqrt(mse_pcr)\n",
    "\n",
    "#Absolute error mean, median, sd, IQR, max, min\n",
    "models_comp=pd.concat([models_comp,\n",
    "                         pd.DataFrame({'Mean of AbsErrors(MAE)': abs_err_pcr.mean(),\n",
    "                            'MSE' :                   mse_pcr,\n",
    "                            'RMSE' :                   rmse_pcr,\n",
    "                            'Median of AbsErrors' :   abs_err_pcr.median(),\n",
    "                            'SD of AbsErrors' :       abs_err_pcr.std(),\n",
    "                            'IQR of AbsErrors':       iqr(abs_err_pcr),\n",
    "                            'Min of AbsErrors':       abs_err_pcr.min(),\n",
    "                            'Max of AbsErrors':       abs_err_pcr.max()}, \n",
    "                            index = ['PCR'])])\n",
    "models_comp"
   ]
  },
  {
   "cell_type": "code",
   "execution_count": null,
   "id": "fed504b6-ccda-456e-90f1-03ea37ac7e7e",
   "metadata": {},
   "outputs": [],
   "source": [
    "# Actual vs. Prediction\n",
    "plt.scatter(x=testv['SalePrice'],y=pred_pcr,c='black', alpha = 0.3)\n",
    "plt.xlabel('Actual')\n",
    "plt.ylabel('Prediction')\n",
    "plt.title('Actual vs. Prediction- Principal Component Regression')\n",
    "\n",
    "#Add 45 degree line\n",
    "xp = np.linspace(testv['SalePrice'].min(),pred_pcr.max(),100)\n",
    "plt.plot(xp,xp,c='red',linewidth = 3)\n",
    "plt.show()"
   ]
  },
  {
   "cell_type": "markdown",
   "id": "bd644d01-4f02-4ab7-b6cf-832f4f4e5f22",
   "metadata": {},
   "source": [
    "# Model Evaluation"
   ]
  },
  {
   "cell_type": "markdown",
   "id": "2cce1ec1-f616-4187-87c2-ae1e2950f7bc",
   "metadata": {},
   "source": [
    "# Test data understanding- Phase1 \n",
    "### 2: Test Data Set Description"
   ]
  },
  {
   "cell_type": "code",
   "execution_count": null,
   "id": "daac0e48-baf6-4397-9e61-69a69be18d94",
   "metadata": {},
   "outputs": [],
   "source": [
    "import numpy as np\n",
    "import pandas as pd\n",
    "import matplotlib.pyplot as plt\n",
    "import statsmodels.api as sm\n",
    "import seaborn as sns"
   ]
  },
  {
   "cell_type": "code",
   "execution_count": null,
   "id": "7dfaf7fb-7684-4bf0-b6ea-859d448acb7b",
   "metadata": {},
   "outputs": [],
   "source": [
    "# Test data\n",
    "#Read Test data from file\n",
    "test=pd.read_csv('test.csv')\n",
    "# test.info()\n",
    "test.head(10)"
   ]
  },
  {
   "cell_type": "code",
   "execution_count": null,
   "id": "7d14a331-9819-4534-8eb7-6fc80c34ce16",
   "metadata": {},
   "outputs": [],
   "source": [
    "test['Id'].nunique()"
   ]
  },
  {
   "cell_type": "code",
   "execution_count": null,
   "id": "f547a90d-2597-40de-a2fe-c6f4333624bf",
   "metadata": {},
   "outputs": [],
   "source": [
    "np.sum(test.duplicated())"
   ]
  },
  {
   "cell_type": "markdown",
   "id": "0e191347-eb55-4d6c-8f06-0c63f993f08b",
   "metadata": {},
   "source": [
    "### 3: Check for Missing Values"
   ]
  },
  {
   "cell_type": "code",
   "execution_count": null,
   "id": "a2628128-e8bc-4b7b-a7c8-c26597004669",
   "metadata": {},
   "outputs": [],
   "source": [
    "# Step 1:Determine the type of MVs\n",
    "# Know the cause\n",
    "np.sum(test.isnull())"
   ]
  },
  {
   "cell_type": "code",
   "execution_count": null,
   "id": "9994fe31-aa2c-43b5-b972-a9634569f57a",
   "metadata": {},
   "outputs": [],
   "source": [
    "# Step 2: Determine the extent of MVs\n",
    "#S ummary of MVs in each column\n",
    "mvs_summary = pd.DataFrame({'freq':np.sum(test.isnull())})\n",
    "mvs_summary['pct'] = round(mvs_summary['freq']/test.shape[0]* 100, 1)\n",
    "mvs_summary.sort_values(by ='pct', ascending = False)"
   ]
  },
  {
   "cell_type": "code",
   "execution_count": null,
   "id": "b4dbe85c-52d9-4e30-ad13-075030792733",
   "metadata": {},
   "outputs": [],
   "source": [
    "#Summary of MVs for each case\n",
    "test.loc[:,'mvs']=test.apply(lambda row: np.sum(row.isnull()), axis = 1)\n",
    "test.sort_values(by ='mvs',ascending = False)\n",
    "test.loc[:,'mvs_pct']=round(test.apply(lambda row: np.sum(row.isnull())/(test.shape[1]-3)*100,axis = 1),1)\n",
    "#(data.shape[1]-3), 3 refers to 3 extra columns (id, mvs, mvs-pct)\n",
    "test.sort_values(by='mvs',ascending = False)"
   ]
  },
  {
   "cell_type": "markdown",
   "id": "0c347594-eba1-4519-92e5-eefbc16e23e9",
   "metadata": {},
   "source": [
    "#Decision: Modify elements that are known as null but still contain information (Descriptive Statistics)"
   ]
  },
  {
   "cell_type": "code",
   "execution_count": null,
   "id": "f25ac7d9-936b-454e-aa23-5cc8b3a77b33",
   "metadata": {},
   "outputs": [],
   "source": [
    " # Modifying 'MasVnrType'\n",
    "test.loc[test['MasVnrArea']==0].shape[0]"
   ]
  },
  {
   "cell_type": "code",
   "execution_count": null,
   "id": "74dca62b-6a14-411a-bddb-57423bccf068",
   "metadata": {},
   "outputs": [],
   "source": [
    "test.loc[test['MasVnrArea'] == 0,'MasVnrType'] ='none'\n",
    "np.sum(test['MasVnrType'].isnull())"
   ]
  },
  {
   "cell_type": "code",
   "execution_count": null,
   "id": "07914d56-4b0d-4c50-8d36-14470e0849b4",
   "metadata": {},
   "outputs": [],
   "source": [
    "np.sum(test['MasVnrArea'].isnull())"
   ]
  },
  {
   "cell_type": "code",
   "execution_count": null,
   "id": "95a3e6d1-70b9-4624-8069-e375947a7f58",
   "metadata": {},
   "outputs": [],
   "source": [
    "test.loc[test['MasVnrArea'].isnull()]"
   ]
  },
  {
   "cell_type": "code",
   "execution_count": null,
   "id": "0e60369d-0419-4eba-a82e-420e75ca209e",
   "metadata": {},
   "outputs": [],
   "source": [
    "test.loc[test['MasVnrType'].isnull()]"
   ]
  },
  {
   "cell_type": "code",
   "execution_count": null,
   "id": "1d8e3317-04d7-403e-8ee9-e4069f81dde5",
   "metadata": {},
   "outputs": [],
   "source": [
    "# test[['MasVnrArea','MasVnrType']]"
   ]
  },
  {
   "cell_type": "code",
   "execution_count": null,
   "id": "923ca35d-fdf9-4b90-9b1c-2e4f2717fe10",
   "metadata": {},
   "outputs": [],
   "source": [
    "# Modifying'FireplaceQu'\n",
    "test.loc[test['Fireplaces']==0,'FireplaceQu']='NA'"
   ]
  },
  {
   "cell_type": "code",
   "execution_count": null,
   "id": "30236749-97d8-4fcd-8094-ae09517d4602",
   "metadata": {},
   "outputs": [],
   "source": [
    "np.sum(test['Fireplaces']==0)"
   ]
  },
  {
   "cell_type": "code",
   "execution_count": null,
   "id": "4b36f5fc-565d-4863-9387-c3a36c7757d5",
   "metadata": {},
   "outputs": [],
   "source": [
    "np.sum(test['FireplaceQu']=='NA')"
   ]
  },
  {
   "cell_type": "code",
   "execution_count": null,
   "id": "aec3202c-cc36-4b54-9797-a19d1ef4243e",
   "metadata": {},
   "outputs": [],
   "source": [
    "np.sum(test['FireplaceQu'].isnull())"
   ]
  },
  {
   "cell_type": "code",
   "execution_count": null,
   "id": "304682e4-5f9b-4345-90a1-ac6203d94a35",
   "metadata": {},
   "outputs": [],
   "source": [
    "# Modifying'PoolQC'\n",
    "test.loc[test['PoolArea']==0,'PoolQC']='NA'"
   ]
  },
  {
   "cell_type": "code",
   "execution_count": null,
   "id": "07b95903-fd81-43d9-99a1-d6c41d137b4e",
   "metadata": {},
   "outputs": [],
   "source": [
    "np.sum(test['PoolArea']==0)"
   ]
  },
  {
   "cell_type": "code",
   "execution_count": null,
   "id": "fba9a8a6-16c0-48cf-bcb3-a0128c4d9faf",
   "metadata": {},
   "outputs": [],
   "source": [
    "np.sum(test['PoolQC']=='NA')"
   ]
  },
  {
   "cell_type": "code",
   "execution_count": null,
   "id": "d0a19cf2-c3b5-4fa9-af50-dca7a3cad3ae",
   "metadata": {},
   "outputs": [],
   "source": [
    "np.sum(test['PoolQC'].isnull())"
   ]
  },
  {
   "cell_type": "code",
   "execution_count": null,
   "id": "13f4e939-b149-4ba1-98ee-06b91050529b",
   "metadata": {},
   "outputs": [],
   "source": [
    "# test[['PoolArea','PoolQC']]"
   ]
  },
  {
   "cell_type": "code",
   "execution_count": null,
   "id": "9d395ddb-0137-49fa-b871-1b91e0f01c7c",
   "metadata": {},
   "outputs": [],
   "source": [
    "test.loc[(test['PoolArea'] != 0)&(test['PoolQC']=='NA'),'PoolQC']=np.nan"
   ]
  },
  {
   "cell_type": "code",
   "execution_count": null,
   "id": "b098e7b8-f970-44eb-8318-0d659aec4e24",
   "metadata": {},
   "outputs": [],
   "source": [
    "test.loc[test['PoolArea']!= 0]"
   ]
  },
  {
   "cell_type": "code",
   "execution_count": null,
   "id": "5d793337-a6bd-4fbb-b8aa-87b56b2d663f",
   "metadata": {},
   "outputs": [],
   "source": [
    "# data.loc[1298, 'PoolQC']=np.nan"
   ]
  },
  {
   "cell_type": "code",
   "execution_count": null,
   "id": "936a5cd4-96f8-482a-a7ae-8d8e7a0d1209",
   "metadata": {},
   "outputs": [],
   "source": [
    "np.sum(test['PoolQC'].isnull())"
   ]
  },
  {
   "cell_type": "code",
   "execution_count": null,
   "id": "08f78c76-0190-483d-9513-03934f631b27",
   "metadata": {},
   "outputs": [],
   "source": [
    "test.loc[test['PoolQC'].isnull()]"
   ]
  },
  {
   "cell_type": "code",
   "execution_count": null,
   "id": "43b8ed0e-131a-42d2-847a-de931c5189b9",
   "metadata": {},
   "outputs": [],
   "source": [
    "# Modifying'Fence'\n",
    "np.sum(test['Fence'].isnull())"
   ]
  },
  {
   "cell_type": "code",
   "execution_count": null,
   "id": "39c145c4-3bfc-4fcc-bce3-f1ec885830e1",
   "metadata": {},
   "outputs": [],
   "source": [
    "test.loc[test['Fence'].isnull(),'Fence']='NA'"
   ]
  },
  {
   "cell_type": "code",
   "execution_count": null,
   "id": "730fc108-d226-4212-a456-37bc82694800",
   "metadata": {},
   "outputs": [],
   "source": [
    "np.sum(test['Fence'].isnull())"
   ]
  },
  {
   "cell_type": "code",
   "execution_count": null,
   "id": "8083bc2c-e569-492a-9e0d-368b047239ed",
   "metadata": {},
   "outputs": [],
   "source": [
    "# test['Fence']"
   ]
  },
  {
   "cell_type": "code",
   "execution_count": null,
   "id": "7c6b6cb5-232e-4764-9de6-2a18e128378c",
   "metadata": {},
   "outputs": [],
   "source": [
    "# Modifying'MiscFeature'\n",
    "np.sum(test['MiscFeature'].isnull())"
   ]
  },
  {
   "cell_type": "code",
   "execution_count": null,
   "id": "8359aa57-b436-45f7-b432-406079158985",
   "metadata": {},
   "outputs": [],
   "source": [
    "test.loc[test['MiscFeature'].isnull(),'MiscFeature']='NA'"
   ]
  },
  {
   "cell_type": "code",
   "execution_count": null,
   "id": "53a1d9cf-bee5-4a94-a8a6-0f4b38997a47",
   "metadata": {},
   "outputs": [],
   "source": [
    "np.sum(test['MiscFeature'].isnull())"
   ]
  },
  {
   "cell_type": "code",
   "execution_count": null,
   "id": "e7119663-c76c-48b9-b76b-685fdd248f60",
   "metadata": {},
   "outputs": [],
   "source": [
    "# test['MiscFeature']"
   ]
  },
  {
   "cell_type": "code",
   "execution_count": null,
   "id": "7df6922e-1822-4c14-89f2-3f82fd52522e",
   "metadata": {},
   "outputs": [],
   "source": [
    "# Modifying 'GarageType','GarageCars','GarageYrBlt','GarageFinish','GarageQual'and'GarageCond'\n",
    "np.sum(test['GarageArea']==0)"
   ]
  },
  {
   "cell_type": "code",
   "execution_count": null,
   "id": "574ec924-36c4-4686-b602-201e3d831771",
   "metadata": {},
   "outputs": [],
   "source": [
    "test.loc[test['GarageArea']==0,['GarageType','GarageFinish','GarageQual','GarageCond']]='NA'\n",
    "test.loc[test['GarageArea']==0,['GarageYrBlt','GarageCars']]=0\n",
    "# test[['GarageArea','GarageType','GarageYrBlt','GarageFinish','GarageQual','GarageCond','GarageCars']]"
   ]
  },
  {
   "cell_type": "code",
   "execution_count": null,
   "id": "5ec8450b-7cf3-4a71-99c4-8d39ff8468bc",
   "metadata": {},
   "outputs": [],
   "source": [
    "np.sum(test['GarageType'].isnull())"
   ]
  },
  {
   "cell_type": "code",
   "execution_count": null,
   "id": "4b96a808-65fe-4b7d-8839-30e8a62af299",
   "metadata": {},
   "outputs": [],
   "source": [
    "np.sum(test['GarageYrBlt'].isnull())"
   ]
  },
  {
   "cell_type": "code",
   "execution_count": null,
   "id": "4605894b-115a-4a91-9b9e-3e7cf31c370a",
   "metadata": {},
   "outputs": [],
   "source": [
    "test.loc[test['GarageYrBlt'].isnull()]"
   ]
  },
  {
   "cell_type": "code",
   "execution_count": null,
   "id": "53cabb66-d98c-450c-b53c-efe2d34c35bf",
   "metadata": {},
   "outputs": [],
   "source": [
    "np.sum(test['GarageFinish'].isnull())"
   ]
  },
  {
   "cell_type": "code",
   "execution_count": null,
   "id": "2ab680a2-b19e-442e-8b99-07305fa67146",
   "metadata": {},
   "outputs": [],
   "source": [
    "test.loc[test['GarageFinish'].isnull()]"
   ]
  },
  {
   "cell_type": "code",
   "execution_count": null,
   "id": "cf66e54b-d7bd-4b5c-98f7-97cd9034a989",
   "metadata": {},
   "outputs": [],
   "source": [
    "np.sum(test['GarageQual'].isnull())"
   ]
  },
  {
   "cell_type": "code",
   "execution_count": null,
   "id": "72146097-bded-4cee-b73e-430bad7beabd",
   "metadata": {},
   "outputs": [],
   "source": [
    "test.loc[test['GarageQual'].isnull()]"
   ]
  },
  {
   "cell_type": "code",
   "execution_count": null,
   "id": "56ef5026-83cd-40db-9aa9-f13458c0f07b",
   "metadata": {},
   "outputs": [],
   "source": [
    "np.sum(test['GarageCond'].isnull())"
   ]
  },
  {
   "cell_type": "code",
   "execution_count": null,
   "id": "93983826-9f37-4e60-a9ab-cf48664ec191",
   "metadata": {},
   "outputs": [],
   "source": [
    "test.loc[test['GarageCond'].isnull()]"
   ]
  },
  {
   "cell_type": "code",
   "execution_count": null,
   "id": "3a2b1022-fa49-4ea4-b882-ccd42ac93993",
   "metadata": {},
   "outputs": [],
   "source": [
    "np.sum(test['GarageCars'].isnull())"
   ]
  },
  {
   "cell_type": "code",
   "execution_count": null,
   "id": "ed9b5d47-2ab9-4aa0-9aee-1664bcbd889b",
   "metadata": {},
   "outputs": [],
   "source": [
    "test.loc[test['GarageCars'].isnull()]"
   ]
  },
  {
   "cell_type": "code",
   "execution_count": null,
   "id": "2ac04269-47cc-44cf-b97f-38cc9999da08",
   "metadata": {},
   "outputs": [],
   "source": [
    "# Check Missing Value in 'SaleType'\n",
    "np.sum(test['SaleType'].isnull())"
   ]
  },
  {
   "cell_type": "code",
   "execution_count": null,
   "id": "710ebc1f-ade1-47ec-b1e3-7270dacfc774",
   "metadata": {},
   "outputs": [],
   "source": [
    "test.loc[test['SaleType'].isnull()]"
   ]
  },
  {
   "cell_type": "code",
   "execution_count": null,
   "id": "c1a79e06-497d-4cf3-bb7e-2fe538189a31",
   "metadata": {},
   "outputs": [],
   "source": [
    "# Modifying 'LotFrontage'\n",
    "np.sum(test['LotFrontage'].isnull())"
   ]
  },
  {
   "cell_type": "code",
   "execution_count": null,
   "id": "ae0a82fd-ea29-4d6f-89a1-c4415416410d",
   "metadata": {},
   "outputs": [],
   "source": [
    "test.loc[test['LotFrontage'].isnull()]"
   ]
  },
  {
   "cell_type": "code",
   "execution_count": null,
   "id": "c9e1082f-f3c1-423c-8664-5dadb168af63",
   "metadata": {},
   "outputs": [],
   "source": [
    "test.loc[test['LotFrontage'].isnull(),'LotFrontage']=0\n",
    "# test['LotFrontage']"
   ]
  },
  {
   "cell_type": "code",
   "execution_count": null,
   "id": "e6397ee3-5a15-4fcf-bfef-03469abcdff4",
   "metadata": {},
   "outputs": [],
   "source": [
    "np.sum(test['LotFrontage'].isnull())"
   ]
  },
  {
   "cell_type": "code",
   "execution_count": null,
   "id": "51244584-c366-433c-b4c3-f692f0da5e71",
   "metadata": {},
   "outputs": [],
   "source": [
    "np.sum(test['LotFrontage']==0)"
   ]
  },
  {
   "cell_type": "code",
   "execution_count": null,
   "id": "2ed45d5d-f230-410a-9d94-bb491b344607",
   "metadata": {},
   "outputs": [],
   "source": [
    "# Modifying 'Alley'\n",
    "np.sum(test['Alley'].isnull())"
   ]
  },
  {
   "cell_type": "code",
   "execution_count": null,
   "id": "b7ee7d35-8418-4ae9-9af2-b270868117ec",
   "metadata": {},
   "outputs": [],
   "source": [
    "test.loc[test['Alley'].isnull(),'Alley']='NA'\n",
    "# test['Alley']"
   ]
  },
  {
   "cell_type": "code",
   "execution_count": null,
   "id": "44ea9a0a-e2c6-45f1-ac22-fce0dfc1a8a4",
   "metadata": {},
   "outputs": [],
   "source": [
    "np.sum(test['Alley'].isnull())"
   ]
  },
  {
   "cell_type": "code",
   "execution_count": null,
   "id": "be3ddebc-9d7a-4560-b489-4dad5568eb55",
   "metadata": {},
   "outputs": [],
   "source": [
    "np.sum(test['Alley']=='NA')"
   ]
  },
  {
   "cell_type": "code",
   "execution_count": null,
   "id": "53809824-e0f9-45ad-927c-96e981973fb0",
   "metadata": {},
   "outputs": [],
   "source": [
    "# Modifying'BsmtQual','BsmtCond','BsmtExposure','BsmtFinType1',\n",
    "#'BsmtFinType2','BsmtFinSF2','BsmtUnfSF','TotalBsmtSF','BsmtFullBath','BsmtHalfBath'\n",
    "np.sum(test['TotalBsmtSF']==0)"
   ]
  },
  {
   "cell_type": "code",
   "execution_count": null,
   "id": "4e3fe38c-b674-40cf-b033-2b4bf415edb1",
   "metadata": {},
   "outputs": [],
   "source": [
    "test.loc[test['TotalBsmtSF']==0,['BsmtQual','BsmtCond','BsmtExposure','BsmtFinType1','BsmtFinType2','BsmtFinSF2','BsmtUnfSF','TotalBsmtSF','BsmtFullBath','BsmtHalfBath']]='NA'\n",
    "# test[['TotalBsmtSF','BsmtQual','BsmtCond','BsmtExposure','BsmtFinType1','BsmtFinType2','BsmtFinSF2','BsmtUnfSF','TotalBsmtSF','BsmtFullBath','BsmtHalfBath']]"
   ]
  },
  {
   "cell_type": "code",
   "execution_count": null,
   "id": "36c83e05-d60c-4e69-9722-091a644129b0",
   "metadata": {},
   "outputs": [],
   "source": [
    "np.sum(test['BsmtCond'].isnull())"
   ]
  },
  {
   "cell_type": "code",
   "execution_count": null,
   "id": "6334aa07-72b6-4440-8f93-06df8ca713d6",
   "metadata": {},
   "outputs": [],
   "source": [
    "np.sum(test['BsmtExposure'].isnull())"
   ]
  },
  {
   "cell_type": "code",
   "execution_count": null,
   "id": "9a6af4d0-bfa4-495b-acfe-0c342081b67a",
   "metadata": {},
   "outputs": [],
   "source": [
    "test.loc[test['BsmtExposure'].isnull()]"
   ]
  },
  {
   "cell_type": "code",
   "execution_count": null,
   "id": "bcf6225d-1ef0-41cc-a7f3-cb5256742458",
   "metadata": {},
   "outputs": [],
   "source": [
    "np.sum(test['BsmtQual'].isnull())"
   ]
  },
  {
   "cell_type": "code",
   "execution_count": null,
   "id": "bfb14f1f-c123-4803-a152-aff97119d0a4",
   "metadata": {},
   "outputs": [],
   "source": [
    "np.sum(test['BsmtFinType1'].isnull())"
   ]
  },
  {
   "cell_type": "code",
   "execution_count": null,
   "id": "aab22c90-0be0-4905-b170-1bb9ccb8e31d",
   "metadata": {},
   "outputs": [],
   "source": [
    "np.sum(test['BsmtFinType2'].isnull())"
   ]
  },
  {
   "cell_type": "code",
   "execution_count": null,
   "id": "70e05ebe-df8d-4113-ba3a-b4635399d4c6",
   "metadata": {},
   "outputs": [],
   "source": [
    "test.loc[test['BsmtFinType2'].isnull()]"
   ]
  },
  {
   "cell_type": "code",
   "execution_count": null,
   "id": "caa202e6-3730-4b88-8278-0f41624d2fe9",
   "metadata": {},
   "outputs": [],
   "source": [
    "np.sum(test['BsmtFinSF1'].isnull())"
   ]
  },
  {
   "cell_type": "code",
   "execution_count": null,
   "id": "0b14b48f-6e14-406e-bb5d-2c5bb8cbfe63",
   "metadata": {},
   "outputs": [],
   "source": [
    "test.loc[test['BsmtFinSF1'].isnull()]"
   ]
  },
  {
   "cell_type": "code",
   "execution_count": null,
   "id": "2e597d7a-3c49-4c63-9eb3-7f5bdb2e3d8c",
   "metadata": {},
   "outputs": [],
   "source": [
    "np.sum(test['BsmtFinSF2'].isnull())"
   ]
  },
  {
   "cell_type": "code",
   "execution_count": null,
   "id": "a41c6d75-1adb-40f8-8e17-7f2d0c77d796",
   "metadata": {},
   "outputs": [],
   "source": [
    "test.loc[test['BsmtFinSF2'].isnull()]"
   ]
  },
  {
   "cell_type": "code",
   "execution_count": null,
   "id": "9550b86d-c15c-4639-87be-faaf282991f5",
   "metadata": {},
   "outputs": [],
   "source": [
    "np.sum(test['BsmtUnfSF'].isnull())"
   ]
  },
  {
   "cell_type": "code",
   "execution_count": null,
   "id": "59e81b70-15c6-4d4b-8cdb-6387ab99766b",
   "metadata": {},
   "outputs": [],
   "source": [
    "test.loc[test['BsmtUnfSF'].isnull()]"
   ]
  },
  {
   "cell_type": "code",
   "execution_count": null,
   "id": "db81dc91-98a9-404f-9aad-516c5f4786d9",
   "metadata": {},
   "outputs": [],
   "source": [
    "np.sum(test['TotalBsmtSF'].isnull())"
   ]
  },
  {
   "cell_type": "code",
   "execution_count": null,
   "id": "047bad43-ccd2-47a7-8780-dbcea44018a8",
   "metadata": {},
   "outputs": [],
   "source": [
    "test.loc[test['TotalBsmtSF'].isnull()]"
   ]
  },
  {
   "cell_type": "code",
   "execution_count": null,
   "id": "9e7acf5b-e5f7-4b5c-a0bb-85e524d62f9d",
   "metadata": {},
   "outputs": [],
   "source": [
    "np.sum(test['BsmtFullBath'].isnull())"
   ]
  },
  {
   "cell_type": "code",
   "execution_count": null,
   "id": "aa6165d1-2e26-4a3c-a9eb-83da575c32dc",
   "metadata": {},
   "outputs": [],
   "source": [
    "test.loc[test['BsmtHalfBath'].isnull()]"
   ]
  },
  {
   "cell_type": "code",
   "execution_count": null,
   "id": "7589e542-6ce5-4f20-aafe-feb14f616028",
   "metadata": {},
   "outputs": [],
   "source": [
    "np.sum(test['BsmtHalfBath'].isnull())"
   ]
  },
  {
   "cell_type": "code",
   "execution_count": null,
   "id": "e096f1db-2076-4b72-ac14-8d21f3bbd3cf",
   "metadata": {},
   "outputs": [],
   "source": [
    "test.loc[test['BsmtHalfBath'].isnull()]"
   ]
  },
  {
   "cell_type": "code",
   "execution_count": null,
   "id": "fc40f329-5bd5-4d26-99d1-f656161b7ee5",
   "metadata": {},
   "outputs": [],
   "source": [
    "# Check Missing Value in 'Utilities'\n",
    "test.loc[test['Utilities'].isnull()]"
   ]
  },
  {
   "cell_type": "code",
   "execution_count": null,
   "id": "b6766a2a-7874-45c5-a10d-5d1a1f4537c8",
   "metadata": {},
   "outputs": [],
   "source": [
    "# Check Missing Value in 'MSZoning'\n",
    "test.loc[test['MSZoning'].isnull()]"
   ]
  },
  {
   "cell_type": "code",
   "execution_count": null,
   "id": "603505b8-2942-4fc9-a88c-01e656b2fdac",
   "metadata": {},
   "outputs": [],
   "source": [
    "# Check Missing Value in 'Exterior1st'\n",
    "test.loc[test['Exterior1st'].isnull()]"
   ]
  },
  {
   "cell_type": "code",
   "execution_count": null,
   "id": "8785b045-4d32-463f-9624-aa92a3219680",
   "metadata": {},
   "outputs": [],
   "source": [
    "# Check Missing Value in 'Exterior2nd'\n",
    "test.loc[test['Exterior2nd'].isnull()]"
   ]
  },
  {
   "cell_type": "code",
   "execution_count": null,
   "id": "dbbafa0a-2d38-4d15-b83a-bb281b365dfd",
   "metadata": {},
   "outputs": [],
   "source": [
    "#Step 2: Determine the extent of MVs after Modifying\n",
    "#Summary of MVs in each column after Modifying \n",
    "mvs_summary = pd.DataFrame({'freq' : np.sum(test.isnull())})\n",
    "mvs_summary['pct'] = round(mvs_summary['freq'] / test.shape[0] * 100, 1)\n",
    "mvs_summary.sort_values(by = 'pct', ascending = False)"
   ]
  },
  {
   "cell_type": "code",
   "execution_count": null,
   "id": "d38745ca-5a9e-4ee3-9d93-39b8f00caa75",
   "metadata": {},
   "outputs": [],
   "source": [
    "#Summary of MVs for each case after Modifying \n",
    "test.loc[:, 'mvs']=test.apply(lambda row: np.sum(row.isnull()), axis = 1)\n",
    "test.sort_values(by='mvs', ascending = False)\n",
    "test.loc[:,'mvs_pct']=round( test.apply(lambda row: np.sum(row.isnull())/(test.shape[1]-3)*100, axis = 1),1)\n",
    "#(data.shape[1]-3), 3 refers to 3 extra columns (id, mvs, mvs-pct)\n",
    "test.sort_values(by='mvs', ascending = False)\n"
   ]
  },
  {
   "cell_type": "code",
   "execution_count": null,
   "id": "be51eec5-31ee-4f4a-8b39-945016a25cdb",
   "metadata": {},
   "outputs": [],
   "source": [
    "test.info()"
   ]
  },
  {
   "cell_type": "code",
   "execution_count": null,
   "id": "403f5865-4e8a-49dd-a263-ef8811587e57",
   "metadata": {},
   "outputs": [],
   "source": [
    "test['mvs_pct'].max()"
   ]
  },
  {
   "cell_type": "code",
   "execution_count": null,
   "id": "09d40f76-57da-4da6-b669-eca16930a83b",
   "metadata": {},
   "outputs": [],
   "source": [
    "#Step 3: Diagnose the randomness of the missing values processes\n",
    "#Given the not too high percentage of missing values in columns and records (in a large dataset),\n",
    "#it is acceptable to proceed with a simple imputation strategy without a detailed evaluation of whether the missing values are MAR. \n",
    "#This imputation will not significantly impact the overall results."
   ]
  },
  {
   "cell_type": "code",
   "execution_count": null,
   "id": "74a68510-8db8-4724-b49f-b294ff926f32",
   "metadata": {},
   "outputs": [],
   "source": [
    "# Step 4: Select the imputation method\n",
    "np.sum(test.isnull())"
   ]
  },
  {
   "cell_type": "code",
   "execution_count": null,
   "id": "fe30d7a6-bd85-4dc7-8326-b558e1460b49",
   "metadata": {},
   "outputs": [],
   "source": [
    "print(test[['LotFrontage','MasVnrArea', 'BsmtFinSF1', 'BsmtFinSF2', 'BsmtUnfSF', 'TotalBsmtSF', \n",
    "                     'BsmtFullBath', 'BsmtHalfBath', 'Fireplaces', 'GarageCars', 'GarageArea']].dtypes)\n"
   ]
  },
  {
   "cell_type": "code",
   "execution_count": null,
   "id": "7698cfef-8668-47c9-9f11-eab8c3c92622",
   "metadata": {},
   "outputs": [],
   "source": [
    "# Create a dataframe to save mean of numeric variables for different imputation methods.\n",
    "# Method : mean substitution\n",
    "# Substiude missing values in numeric columns with the mean of each column.\n",
    "float_column=['MasVnrArea', 'BsmtFinSF1', 'BsmtFinSF2', 'BsmtUnfSF', 'TotalBsmtSF', \n",
    "                     'BsmtFullBath', 'BsmtHalfBath','GarageCars', 'GarageArea','GarageYrBlt']\n",
    "\n",
    "# Convert columns to numeric, forcing non-numeric values to NaN\n",
    "for i in float_column:\n",
    "    test[i]=pd.to_numeric(test[i], errors='coerce')\n",
    "\n",
    "# Now, impute missing values with the mean of each column\n",
    "for i in float_column:\n",
    "    test[i]=test[i].fillna(test[i].mean())\n",
    "\n",
    "np.sum(test.isnull())"
   ]
  },
  {
   "cell_type": "code",
   "execution_count": null,
   "id": "0c3f8eb9-ff0b-4a17-9d4e-18577435d666",
   "metadata": {},
   "outputs": [],
   "source": [
    "# Convert the float columns to int\n",
    "test['LotFrontage'] = test['LotFrontage'].astype('int64')\n",
    "test['MasVnrArea'] = test['MasVnrArea'].astype('int64')\n",
    "test['BsmtFinSF1'] = test['BsmtFinSF1'].astype('int64')\n",
    "test['BsmtFinSF2'] = test['BsmtFinSF2'].astype('int64')\n",
    "test['BsmtUnfSF'] = test['BsmtUnfSF'].astype('int64')\n",
    "test[ 'TotalBsmtSF'] = test['TotalBsmtSF'].astype('int64')\n",
    "test['BsmtFullBath'] = test['BsmtFullBath'].astype('int64')\n",
    "test['BsmtHalfBath'] = test['BsmtHalfBath'].astype('int64')\n",
    "test['GarageCars'] = test['GarageCars'].astype('int64')\n",
    "test['GarageArea'] = test['GarageArea'].astype('int64')\n",
    "test['GarageYrBlt'] = test['GarageYrBlt'].astype('int64')\n",
    "test.info()"
   ]
  },
  {
   "cell_type": "code",
   "execution_count": null,
   "id": "adf90049-f03a-46fe-a869-a08db3d44874",
   "metadata": {},
   "outputs": [],
   "source": [
    "# Method : mode substitution\n",
    "# Substiude missing values in categorical columns with the mode of each column.\n",
    "categorical_columns=['MSZoning','Utilities','Exterior1st','Exterior2nd','MasVnrType','BsmtQual','BsmtCond','KitchenQual',\n",
    "                       'BsmtExposure','BsmtFinType1','BsmtFinType2','GarageQual','PoolQC', 'SaleType', 'GarageCond','Functional','GarageFinish']\n",
    "\n",
    "for i in categorical_columns:\n",
    "    mode_value=test[i].mode()[0]\n",
    "    test[i]=test[i].fillna(mode_value)\n",
    "\n",
    "print(test.shape)\n",
    "np.sum(test.isnull())"
   ]
  },
  {
   "cell_type": "code",
   "execution_count": null,
   "id": "dde03f4c-e5cd-4098-8fe8-cdbe317aa943",
   "metadata": {},
   "outputs": [],
   "source": [
    "# Remove added coloumns\n",
    "test.drop(columns=['mvs', 'mvs_pct'], inplace=True)    \n",
    "test.info()"
   ]
  },
  {
   "cell_type": "markdown",
   "id": "da110eae-f2b0-45d6-a4d3-a8ad39f15b8f",
   "metadata": {},
   "source": [
    "### Convert ordinal variables in to numeric (Label Encoding)"
   ]
  },
  {
   "cell_type": "code",
   "execution_count": null,
   "id": "cf23fa10-4059-4d30-a5a2-314da2afc4aa",
   "metadata": {},
   "outputs": [],
   "source": [
    "# Convert 'LotShape' into numeric variable\n",
    "test['cnvrt_LotShape']=test['LotShape'].replace(['Reg','IR1','IR2','IR3'],\n",
    "                                                 list(range(4, 0,-1)), inplace = False)\n",
    "# Check the results\n",
    "print(np.sum(test['cnvrt_LotShape'].isnull()))\n",
    "test['cnvrt_LotShape'].describe()\n",
    "# test['cnvrt_LotShape']"
   ]
  },
  {
   "cell_type": "code",
   "execution_count": null,
   "id": "759a1ac2-7bb8-4d67-a005-3ef4452efbbf",
   "metadata": {},
   "outputs": [],
   "source": [
    "# Convert 'LandSlope' into numeric variable\n",
    "test['cnvrt_LandSlope']=test['LandSlope'].replace(['Gtl','Mod','Sev'],\n",
    "                                                 list(range(3, 0,-1)), inplace = False)\n",
    "# Check the results\n",
    "print(np.sum(test['cnvrt_LandSlope'].isnull()))\n",
    "test['cnvrt_LandSlope'].describe()\n",
    "# test['cnvrt_LandSlope']"
   ]
  },
  {
   "cell_type": "code",
   "execution_count": null,
   "id": "5b3ad00f-1242-4df3-b676-d5e2fc06b40e",
   "metadata": {},
   "outputs": [],
   "source": [
    "# Convert 'ExterQua' into numeric variable\n",
    "test['cnvrt_ExterQual']=test['ExterQual'].replace(['Ex','Gd','TA','Fa','Po'],\n",
    "                                                 list(range(5, 0,-1)), inplace = False)\n",
    "# Check the results\n",
    "print(np.sum(test['cnvrt_ExterQual'].isnull()))\n",
    "test['cnvrt_ExterQual'].describe() \n",
    "# test['cnvrt_ExterQual']"
   ]
  },
  {
   "cell_type": "code",
   "execution_count": null,
   "id": "07b9e80e-7af9-44a6-9adc-84dbc2ccf8f1",
   "metadata": {},
   "outputs": [],
   "source": [
    "# Convert 'ExterCond' into numeric variable\n",
    "test['cnvrt_ExterCond']=test['ExterCond'].replace(['Ex','Gd','TA','Fa','Po'],\n",
    "                                                 list(range(5, 0,-1)), inplace = False)\n",
    "#Check the results\n",
    "print(np.sum(test['cnvrt_ExterCond'].isnull()))\n",
    "test['cnvrt_ExterCond'].describe() \n",
    "# test['cnvrt_ExterCond']"
   ]
  },
  {
   "cell_type": "code",
   "execution_count": null,
   "id": "716b08af-1634-4200-b26e-96265cf1f7c8",
   "metadata": {},
   "outputs": [],
   "source": [
    "# Convert 'BsmtQual' into numeric variable\n",
    "test['cnvrt_BsmtQual']=test['BsmtQual'].replace(['Ex','Gd','TA','Fa','Po','NA'],\n",
    "                                                 list(range(6, 0,-1)), inplace = False)\n",
    "#Check the results\n",
    "print(np.sum(test['cnvrt_BsmtQual'].isnull()))\n",
    "test['cnvrt_BsmtQual'].describe() \n",
    "# test['cnvrt_BsmtQual']"
   ]
  },
  {
   "cell_type": "code",
   "execution_count": null,
   "id": "696a10b5-8c3a-4d1b-ad07-92a30dc0e3a6",
   "metadata": {},
   "outputs": [],
   "source": [
    "# Convert 'BsmtCond' into numeric variable\n",
    "test['cnvrt_BsmtCond']=test['BsmtCond'].replace(['Ex','Gd','TA','Fa','Po','NA'],\n",
    "                                                 list(range(6,0,-1)), inplace = False)\n",
    "#Check the results\n",
    "print(np.sum(test['cnvrt_BsmtCond'].isnull()))\n",
    "test['cnvrt_BsmtCond'].describe() \n",
    "# test['cnvrt_BsmtCond']"
   ]
  },
  {
   "cell_type": "code",
   "execution_count": null,
   "id": "a9d82a61-f073-42f5-93bc-d7e8880bb39a",
   "metadata": {},
   "outputs": [],
   "source": [
    "# Convert 'BsmtExposure' into numeric variable\n",
    "test['cnvrt_BsmtExposure']=test['BsmtExposure'].replace(['Gd','Av','Mn','No','NA'],\n",
    "                                                 list(range(5,0,-1)), inplace = False)\n",
    "#Check the results\n",
    "print(np.sum(test['cnvrt_BsmtExposure'].isnull()))\n",
    "test['cnvrt_BsmtExposure'].describe() \n",
    "# test['cnvrt_BsmtExposure']"
   ]
  },
  {
   "cell_type": "code",
   "execution_count": null,
   "id": "1f277094-7625-4485-994e-a60ef550a63a",
   "metadata": {},
   "outputs": [],
   "source": [
    "# Convert 'BsmtFinType1' into numeric variable\n",
    "test['cnvrt_BsmtFinType1']=test['BsmtFinType1'].replace(['GLQ','ALQ','BLQ','Rec','LwQ','Unf','NA'],\n",
    "                                                 list(range(7,0,-1)), inplace = False)\n",
    "#Check the results\n",
    "print(np.sum(test['cnvrt_BsmtFinType1'].isnull()))\n",
    "test['cnvrt_BsmtFinType1'].describe() \n",
    "# test['cnvrt_BsmtFinType1']"
   ]
  },
  {
   "cell_type": "code",
   "execution_count": null,
   "id": "d5c592c4-ba4e-4ffc-bfa6-0486926d858b",
   "metadata": {},
   "outputs": [],
   "source": [
    "# Convert 'BsmtFinType2' into numeric variable\n",
    "test['cnvrt_BsmtFinType2']=test['BsmtFinType2'].replace(['GLQ','ALQ','BLQ','Rec','LwQ','Unf','NA'],\n",
    "                                                 list(range(7,0,-1)), inplace = False)\n",
    "#Check the results\n",
    "print(np.sum(test['cnvrt_BsmtFinType2'].isnull()))\n",
    "test['cnvrt_BsmtFinType2'].describe() \n",
    "# test['cnvrt_BsmtFinType2']"
   ]
  },
  {
   "cell_type": "code",
   "execution_count": null,
   "id": "c05f212a-fa5b-4485-95ec-ebcdc75cbe0f",
   "metadata": {},
   "outputs": [],
   "source": [
    "# Convert 'HeatingQC' into numeric variable\n",
    "test['cnvrt_HeatingQC']=test['HeatingQC'].replace(['Ex','Gd','TA','Fa','Po'],\n",
    "                                                 list(range(5,0,-1)), inplace = False)\n",
    "#Check the results\n",
    "print(np.sum(test['cnvrt_HeatingQC'].isnull()))\n",
    "test['cnvrt_HeatingQC'].describe() \n",
    "# test['cnvrt_HeatingQC']"
   ]
  },
  {
   "cell_type": "code",
   "execution_count": null,
   "id": "7e1311b0-f40f-4700-b0bd-076273fd7337",
   "metadata": {},
   "outputs": [],
   "source": [
    "# Convert 'KitchenQual' into numeric variable\n",
    "test['cnvrt_KitchenQual']=test['KitchenQual'].replace(['Ex','Gd','TA','Fa','Po'],\n",
    "                                                 list(range(5,0,-1)), inplace = False)\n",
    "#Check the results\n",
    "print(np.sum(test['cnvrt_KitchenQual'].isnull()))\n",
    "test['cnvrt_KitchenQual'].describe() \n",
    "# data['cnvrt_KitchenQual']"
   ]
  },
  {
   "cell_type": "code",
   "execution_count": null,
   "id": "24f8add5-0ed5-4ac8-81ee-ca61545349bd",
   "metadata": {},
   "outputs": [],
   "source": [
    "# Convert 'Functional' into numeric variable\n",
    "test['cnvrt_Functional']=test['Functional'].replace(['Typ','Min1','Min2','Mod','Maj1','Maj2','Sev','Sal'],\n",
    "                                                 list(range(8,0,-1)), inplace = False)\n",
    "                \n",
    "#Check the results\n",
    "print(np.sum(test['cnvrt_Functional'].isnull()))\n",
    "test['cnvrt_Functional'].describe() \n",
    "# test['cnvrt_Functional']"
   ]
  },
  {
   "cell_type": "code",
   "execution_count": null,
   "id": "3297d307-68c6-4cc9-93b9-d8a9297fe81c",
   "metadata": {},
   "outputs": [],
   "source": [
    "# Convert 'FireplaceQu' into numeric variable\n",
    "test['cnvrt_FireplaceQu']=test['FireplaceQu'].replace(['Ex','Gd','TA','Fa','Po','NA'],\n",
    "                                                 list(range(6,0,-1)), inplace = False)\n",
    "\n",
    "#Check the results\n",
    "print(np.sum(test['cnvrt_FireplaceQu'].isnull()))\n",
    "test['cnvrt_FireplaceQu'].describe() \n",
    "# test['cnvrt_FireplaceQu']"
   ]
  },
  {
   "cell_type": "code",
   "execution_count": null,
   "id": "ef1e497a-bd44-435e-ad94-8ccdd2fba406",
   "metadata": {},
   "outputs": [],
   "source": [
    "# Convert 'GarageFinish' into numeric variable\n",
    "test['cnvrt_GarageFinish'] = test['GarageFinish'].replace(['Fin','RFn','Unf','NA'],\n",
    "                                                 list(range(4,0,-1)), inplace = False)\n",
    "\n",
    "#Check the results\n",
    "print(np.sum(test['cnvrt_GarageFinish'].isnull()))\n",
    "test['cnvrt_GarageFinish'].describe() \n",
    "# test['cnvrt_GarageFinish']"
   ]
  },
  {
   "cell_type": "code",
   "execution_count": null,
   "id": "a10cb9b5-ffaf-44bc-86f7-8076a7d6c27f",
   "metadata": {},
   "outputs": [],
   "source": [
    "# Convert 'GararageQual' into numeric variable\n",
    "test['cnvrt_GarageQual']=test['GarageQual'].replace(['Ex','Gd','TA','Fa','Po','NA'],\n",
    "                                                 list(range(6,0,-1)), inplace = False)\n",
    "\n",
    "#Check the results\n",
    "print(np.sum(test['cnvrt_GarageQual'].isnull()))\n",
    "test['cnvrt_GarageQual'].describe() \n",
    "# test['cnvrt_GarageQual']"
   ]
  },
  {
   "cell_type": "code",
   "execution_count": null,
   "id": "117c114c-3a84-497b-b0ec-318894faf479",
   "metadata": {},
   "outputs": [],
   "source": [
    "# Convert 'GararageCond' into numeric variable\n",
    "test['cnvrt_GarageCond']=test['GarageCond'].replace(['Ex','Gd','TA','Fa','Po','NA'],\n",
    "                                                 list(range(6,0,-1)), inplace = False)\n",
    "\n",
    "#Check the results\n",
    "print(np.sum(test['cnvrt_GarageCond'].isnull()))\n",
    "test['cnvrt_GarageCond'].describe() \n",
    "# test['cnvrt_GarageCond']"
   ]
  },
  {
   "cell_type": "code",
   "execution_count": null,
   "id": "0c53faf4-9b7d-4566-aff3-98cfef3ec3f4",
   "metadata": {},
   "outputs": [],
   "source": [
    "# Convert 'PavedDrive' into numeric variable\n",
    "test['cnvrt_PavedDrive']=test['PavedDrive'].replace(['Y','P','N'],\n",
    "                                                 list(range(3,0,-1)), inplace = False)\n",
    "\n",
    "#Check the results\n",
    "print(np.sum(test['cnvrt_PavedDrive'].isnull()))\n",
    "test['cnvrt_PavedDrive'].describe() \n",
    "# test['cnvrt_PavedDrive']"
   ]
  },
  {
   "cell_type": "code",
   "execution_count": null,
   "id": "fa1ac502-b10e-4745-aad3-94b1455e3542",
   "metadata": {},
   "outputs": [],
   "source": [
    "# Convert 'PoolQC' into numeric variable\n",
    "test['cnvrt_PoolQC']=test['PoolQC'].replace(['Ex','Gd','TA','Fa','NA'],\n",
    "                                                 list(range(5,0,-1)), inplace = False)\n",
    "\n",
    "#Check the results\n",
    "print(np.sum(test['cnvrt_PoolQC'].isnull()))\n",
    "test['cnvrt_PoolQC'].describe() \n",
    "# test['cnvrt_PoolQC']"
   ]
  },
  {
   "cell_type": "code",
   "execution_count": null,
   "id": "1c1b6cb6-1557-42ee-84c7-859dfdbc4332",
   "metadata": {},
   "outputs": [],
   "source": [
    "# Convert 'Fence' into numeric variable\n",
    "test['cnvrt_Fence']=test['Fence'].replace(['GdPrv','MnPrv','GdWo','MnWw','NA'],\n",
    "                                                 list(range(5,0,-1)), inplace = False)\n",
    "\n",
    "#Check the results\n",
    "print(np.sum(test['cnvrt_Fence'].isnull()))\n",
    "test['cnvrt_Fence'].describe() \n",
    "# test['cnvrt_Fence']"
   ]
  },
  {
   "cell_type": "code",
   "execution_count": null,
   "id": "8f2754f1-5b43-4c0e-a031-7b911a6a5b1c",
   "metadata": {},
   "outputs": [],
   "source": [
    "np.sum(test.isnull())"
   ]
  },
  {
   "cell_type": "code",
   "execution_count": null,
   "id": "fbe05ceb-70df-4d75-8df5-5de091ffdbd3",
   "metadata": {},
   "outputs": [],
   "source": [
    "test.info()"
   ]
  },
  {
   "cell_type": "code",
   "execution_count": null,
   "id": "d6feca40-1086-4c33-b715-c48adbc0c50d",
   "metadata": {},
   "outputs": [],
   "source": [
    "# Convert 'MSSubClass' to string type\n",
    "test['MSSubClass']=test['MSSubClass'].astype(str)\n",
    "\n",
    "\n",
    "#Create dummy variables for categorical variables\n",
    "dummy_vars_te=pd.get_dummies(test[['MSSubClass','MSZoning','Street','Alley','LandContour',\n",
    "                                   'Utilities','LotConfig','Neighborhood','Condition1', 'Condition2',\n",
    "                                   'BldgType','HouseStyle','RoofStyle','Heating','RoofMatl',\n",
    "                                   'Exterior1st','Exterior2nd','MasVnrType','Foundation','CentralAir',\n",
    "                                   'Electrical','GarageType','MiscFeature','SaleType','SaleCondition']])\n",
    "                                   \n",
    "# dummy_vars containing only 0 and 1                                 \n",
    "dummy_vars_te=dummy_vars_te.astype(int)\n",
    "\n",
    "print(dummy_vars_te.head(2))\n",
    "dummy_vars_te.info()"
   ]
  },
  {
   "cell_type": "code",
   "execution_count": null,
   "id": "13ac1cb2-f579-4e7f-95ce-eb381613667c",
   "metadata": {},
   "outputs": [],
   "source": [
    "##Read data from file\n",
    "# data=pd.read_csv('train.csv')\n",
    "# data.head(5)"
   ]
  },
  {
   "cell_type": "code",
   "execution_count": null,
   "id": "976e67ce-ea95-46a7-8022-2e0558b4b22d",
   "metadata": {},
   "outputs": [],
   "source": [
    "## Train data\n",
    "# train=data\n",
    "# train.info()\n",
    "# print(train.head(4))"
   ]
  },
  {
   "cell_type": "code",
   "execution_count": null,
   "id": "059ea50e-ccb6-4aef-a140-7165a88b30b0",
   "metadata": {},
   "outputs": [],
   "source": [
    "# ##Split Train data into test and train for validation (named trainv & testv)\n",
    "# from sklearn.model_selection import train_test_split\n",
    "# trainv, testv = train_test_split(data, test_size = 0.3, random_state = 1234)\n",
    "print(trainv.shape)\n",
    "# print(testv.shape)"
   ]
  },
  {
   "cell_type": "code",
   "execution_count": null,
   "id": "bcfab21d-9755-4af5-a5d9-c294c1f07956",
   "metadata": {},
   "outputs": [],
   "source": [
    "# #Create dummy variables for categorical variables\n",
    "# dummy_vars_trv=pd.get_dummies(trainv[['MSSubClass','MSZoning','Street','Alley','LandContour',\n",
    "#                                    'Utilities','LotConfig','Neighborhood','Condition1', 'Condition2',\n",
    "#                                    'BldgType','HouseStyle','RoofStyle','Heating','RoofMatl',\n",
    "#                                    'Exterior1st','Exterior2nd','MasVnrType','Foundation','CentralAir',\n",
    "#                                    'Electrical','GarageType','MiscFeature','SaleType','SaleCondition']])\n",
    "                                   \n",
    "# # dummy_vars containing only 0 and 1                                 \n",
    "# dummy_vars_trv=dummy_vars_trv.astype(int)\n",
    "\n",
    "# print(dummy_vars_trv.head(2))\n",
    "# dummy_vars_trv.info()"
   ]
  },
  {
   "cell_type": "code",
   "execution_count": null,
   "id": "2d24fd95-c108-4fcb-8fde-87faee7c1763",
   "metadata": {},
   "outputs": [],
   "source": [
    "dummy_vars_trv.shape"
   ]
  },
  {
   "cell_type": "code",
   "execution_count": null,
   "id": "d5a10abd-1965-447a-a822-21784df0ee2e",
   "metadata": {},
   "outputs": [],
   "source": [
    "dummy_vars_te.shape"
   ]
  },
  {
   "cell_type": "code",
   "execution_count": null,
   "id": "964babe4-90ed-4ce1-b6b3-cdf169a88fe7",
   "metadata": {},
   "outputs": [],
   "source": [
    "test.shape\n",
    "test.info()"
   ]
  },
  {
   "cell_type": "code",
   "execution_count": null,
   "id": "8ffa2e2a-0e92-4c32-975c-ef39c8172c07",
   "metadata": {},
   "outputs": [],
   "source": [
    "missing_in_train=set(dummy_vars_te.columns)-set(dummy_vars_trv.columns) \n",
    "print(missing_in_train)\n"
   ]
  },
  {
   "cell_type": "code",
   "execution_count": null,
   "id": "266a00d5-ade9-4719-a3bf-0f8a0a6006f1",
   "metadata": {},
   "outputs": [],
   "source": [
    "dummy_vars_te=dummy_vars_te.reindex(columns=dummy_vars_trv.columns, fill_value=0)"
   ]
  },
  {
   "cell_type": "code",
   "execution_count": null,
   "id": "04abf591-fd20-43ce-9fab-e77d3be37309",
   "metadata": {},
   "outputs": [],
   "source": [
    "print(dummy_vars_trv.shape)\n",
    "print(trainv.shape)\n",
    "\n",
    "\n",
    "print(dummy_vars_te.shape)\n",
    "print(test.shape)\n"
   ]
  },
  {
   "cell_type": "code",
   "execution_count": null,
   "id": "da9bf747-d266-4ad2-ba22-08ee63d9bd04",
   "metadata": {},
   "outputs": [],
   "source": [
    "X_trainv.shape"
   ]
  },
  {
   "cell_type": "code",
   "execution_count": null,
   "id": "2a369002-1a9b-4246-a27a-db2bef75f560",
   "metadata": {},
   "outputs": [],
   "source": [
    "X_trainv"
   ]
  },
  {
   "cell_type": "code",
   "execution_count": null,
   "id": "4064fcdb-6ead-42f4-a365-594ed8487b9f",
   "metadata": {},
   "outputs": [],
   "source": [
    "test.shape"
   ]
  },
  {
   "cell_type": "code",
   "execution_count": null,
   "id": "2e04c715-ee1a-4477-a9cf-0f01b3b704f9",
   "metadata": {},
   "outputs": [],
   "source": [
    "#Define feature matrix\n",
    "# Train All columns except 'SalePrice'\n",
    "X_X=test.iloc[:,list(range(0,99))]\n",
    "print(X_X.columns)\n",
    "X_test=pd.concat([X_X,dummy_vars_te], axis = 1)\n",
    "# X_trainv.info()\n",
    "# #add constant\n",
    "X_test=sm.add_constant(X_test)\n",
    "X_test.head(2)"
   ]
  },
  {
   "cell_type": "code",
   "execution_count": null,
   "id": "823b7071-b0a8-4fd9-98b8-aff4b54fcc0f",
   "metadata": {},
   "outputs": [],
   "source": [
    "missing_in_train=set(dummy_vars_te.columns)-set(dummy_vars_trv.columns) \n",
    "print(missing_in_train)"
   ]
  },
  {
   "cell_type": "code",
   "execution_count": null,
   "id": "a65a189c-f4d1-4709-a76e-3d76083ee102",
   "metadata": {},
   "outputs": [],
   "source": [
    "dummy_vars_te=dummy_vars_te.reindex(columns=dummy_vars_trv.columns, fill_value=0)"
   ]
  },
  {
   "cell_type": "code",
   "execution_count": null,
   "id": "7f33c93b-e9f8-4e1a-be8d-79e1b537938e",
   "metadata": {},
   "outputs": [],
   "source": [
    "# Remove coloumn'Id'\n",
    "X_test.drop(columns=['Id'],inplace= True)\n",
    "X_test.head()"
   ]
  },
  {
   "cell_type": "code",
   "execution_count": null,
   "id": "55eed08d-94d9-491d-bdfe-fd35cc2a32fb",
   "metadata": {},
   "outputs": [],
   "source": [
    "X_test=X_test.drop(columns=X_test.select_dtypes(include=['object']).columns)\n",
    "# Check the data types of the cleaned DataFrame\n",
    "print(X_test.dtypes)"
   ]
  },
  {
   "cell_type": "code",
   "execution_count": null,
   "id": "631c3b96-6d89-46f3-886d-7ec2213584e0",
   "metadata": {},
   "outputs": [],
   "source": [
    "X_trainv.shape"
   ]
  },
  {
   "cell_type": "code",
   "execution_count": null,
   "id": "fbfa646b-9fe9-4654-b366-8a602eb29e9a",
   "metadata": {},
   "outputs": [],
   "source": [
    "X_test.shape"
   ]
  },
  {
   "cell_type": "code",
   "execution_count": null,
   "id": "feb279b9-85bf-4a51-959b-cf321ed82abe",
   "metadata": {},
   "outputs": [],
   "source": [
    "# Convert float and int32 columns to int64\n",
    "X_test=X_test.astype({col: 'int64' for col in X_test.select_dtypes(include=['float64', 'int32']).columns})\n",
    "\n",
    "# Check the data types of the columns to verify the conversion\n",
    "print(X_test.dtypes)"
   ]
  },
  {
   "cell_type": "markdown",
   "id": "de36c1f5-115c-46a6-a5f5-7d5360e7bb67",
   "metadata": {},
   "source": [
    " ### Prediction of Test data on model 1- Linear Regression with Box-Cox Transformation and t_test"
   ]
  },
  {
   "cell_type": "code",
   "execution_count": null,
   "id": "c129863b-32b1-44ad-884a-7ce7c112a85d",
   "metadata": {},
   "outputs": [],
   "source": [
    "# Ensure X_test only contains the significant columns\n",
    "X_test_significant = X_test.reindex(columns=X_trainv_current.columns, fill_value=0)\n",
    "# Predict using the final model\n",
    "test_pred=model_final.predict(X_test_significant)\n",
    "\n",
    "#Inverse transformation of predicted values\n",
    "test['pred_lm']=pd.Series(boxcox.inverse_transform(test_pred.values.reshape(-1, 1)).reshape(-1), \n",
    "                         index = test_pred.index)\n",
    "test['pred_lm']"
   ]
  },
  {
   "cell_type": "markdown",
   "id": "5385b1d8-fda5-4fda-8dc3-8630b075838a",
   "metadata": {},
   "source": [
    "### Prediction of Test data on Model 2- Forward Selection with Box-Cox Transformation"
   ]
  },
  {
   "cell_type": "code",
   "execution_count": null,
   "id": "a41a9755-7eff-4146-a9c2-4ff7c9a0de04",
   "metadata": {},
   "outputs": [],
   "source": [
    "#Predict on test- model 2\n",
    "pred_fwd=fwd_models.loc[105, 'model'].predict(X_test[fwd_models.loc[105,'model'].model.exog_names])\n",
    "test['pred_fwd']=pd.Series(boxcox.inverse_transform(pred_fwd.values.reshape(-1, 1)).reshape(-1),index=test.index)\n",
    "test['pred_fwd']"
   ]
  },
  {
   "cell_type": "markdown",
   "id": "df6df229-7b1c-46e7-8339-fca1aaa177b4",
   "metadata": {},
   "source": [
    "### Prediction of Test data on Model 3- Backward Elimination with Box-Cox Transformation "
   ]
  },
  {
   "cell_type": "code",
   "execution_count": null,
   "id": "05ce7301-4a0f-4a60-8572-2bd2248588ca",
   "metadata": {},
   "outputs": [],
   "source": [
    "#Predict on test- model 3\n",
    "pred_bwd=bwd_models.loc[120,'model'].predict(X_test[bwd_models.loc[120,'model'].model.exog_names])\n",
    "test['pred_bwd']=pd.Series(boxcox.inverse_transform(pred_bwd.values.reshape(-1, 1)).reshape(-1), index = test.index)\n",
    "test['pred_bwd']"
   ]
  },
  {
   "cell_type": "markdown",
   "id": "7c8e9912-c953-49d9-a36b-3691861d39ad",
   "metadata": {},
   "source": [
    "### Prediction of Test data on Model 4- Ridge Regression with Box-Cox Transformation "
   ]
  },
  {
   "cell_type": "code",
   "execution_count": null,
   "id": "b6c4867a-899f-4a24-b211-22c0ecdea886",
   "metadata": {},
   "outputs": [],
   "source": [
    "# Sacle test data set\n",
    "X_test_scaled=scaler.transform(X_test)\n",
    "pred_ridge=model_4.predict(X_test_scaled)\n",
    "test['pred_ridge']=pd.Series(boxcox.inverse_transform(pred_ridge).reshape(-1),index = test.index)\n",
    "test['pred_ridge']"
   ]
  },
  {
   "cell_type": "markdown",
   "id": "db491275-de6a-4281-9b9e-43c977dc49f5",
   "metadata": {},
   "source": [
    "### Prediction of Test data on Model 5- Lasso Regression with Box-Cox Transformation "
   ]
  },
  {
   "cell_type": "code",
   "execution_count": null,
   "id": "033f7708-9676-49fc-8a36-16ee5d765c37",
   "metadata": {},
   "outputs": [],
   "source": [
    "#Predict on test- model 5\n",
    "pred_lasso=model_5.predict(X_test_scaled)\n",
    "test['pred_lasso']=pd.Series(boxcox.inverse_transform(pred_lasso.reshape(-1, 1)).reshape(-1),index = test.index)\n",
    "test['pred_lasso']"
   ]
  },
  {
   "cell_type": "markdown",
   "id": "6571a03d-2b84-4f09-b6a1-643c18eff95e",
   "metadata": {},
   "source": [
    "### Prediction of Test data on Model 6- Decision Tree with Box-Cox Transformation "
   ]
  },
  {
   "cell_type": "code",
   "execution_count": null,
   "id": "69cc026b-1ba7-412b-bdb8-419fcbd5b32e",
   "metadata": {},
   "outputs": [],
   "source": [
    "#Prediction using model 6\n",
    "pred_tree = model_6.predict(X_test)\n",
    "test['pred_tree'] = pd.Series(boxcox.inverse_transform(pred_tree.reshape(-1, 1)).reshape(-1), \n",
    "                      index = test.index)\n",
    "test['pred_tree']"
   ]
  },
  {
   "cell_type": "markdown",
   "id": "eaf362e1-a00f-4061-bf2b-8858a19539cc",
   "metadata": {},
   "source": [
    "### Prediction of Test data on Model 7- Random Forest with Box-Cox Transformation "
   ]
  },
  {
   "cell_type": "code",
   "execution_count": null,
   "id": "1a4f1c9f-94e6-4deb-b5b1-53d9cc56b8aa",
   "metadata": {},
   "outputs": [],
   "source": [
    "# common_columns = X_train.columns.intersection(X_test.columns)\n",
    "# X_train = X_train[common_columns]\n",
    "# X_test= X_test[common_columns]"
   ]
  },
  {
   "cell_type": "code",
   "execution_count": null,
   "id": "ccc337a6-5bd0-4852-954d-f5ef4d31afb5",
   "metadata": {},
   "outputs": [],
   "source": [
    "#Prediction using model 7\n",
    "pred_rf=model_7.predict(X_test)\n",
    "test['pred_rf']=pd.Series(boxcox.inverse_transform(pred_rf.reshape(-1, 1)).reshape(-1), \n",
    "                    index=test.index)\n",
    "test['pred_rf']"
   ]
  },
  {
   "cell_type": "markdown",
   "id": "c4bed21a-7082-4747-89a9-7669469d4c00",
   "metadata": {},
   "source": [
    "### Prediction of Test data on Model 8- PCR with Box-Cox Transformation "
   ]
  },
  {
   "cell_type": "code",
   "execution_count": null,
   "id": "c8956dd8-7af1-468d-a5bf-7d87e614d259",
   "metadata": {},
   "outputs": [],
   "source": [
    "#Predict on test - model 8\n",
    "#Scale data\n",
    "X_test_scaled=scaler.transform(X_test)\n",
    "\n",
    "#Transfrom data into new dimensions\n",
    "X_test_pca=pca_model.transform(X_test_scaled)\n",
    "\n",
    "#Prediction on test\n",
    "pred_pcr=model_8.predict(X_test_pca[:, : components_number])\n",
    "test['pred_pcr']=pd.Series(boxcox.inverse_transform(pred_pcr.reshape(-1, 1)).reshape(-1), \n",
    "                    index = test.index)\n",
    "test['pred_pcr']"
   ]
  }
 ],
 "metadata": {
  "kernelspec": {
   "display_name": "Python 3 (ipykernel)",
   "language": "python",
   "name": "python3"
  },
  "language_info": {
   "codemirror_mode": {
    "name": "ipython",
    "version": 3
   },
   "file_extension": ".py",
   "mimetype": "text/x-python",
   "name": "python",
   "nbconvert_exporter": "python",
   "pygments_lexer": "ipython3",
   "version": "3.11.5"
  }
 },
 "nbformat": 4,
 "nbformat_minor": 5
}
